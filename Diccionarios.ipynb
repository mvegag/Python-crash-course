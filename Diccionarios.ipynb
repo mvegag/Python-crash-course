{
 "cells": [
  {
   "cell_type": "markdown",
   "id": "e53aa3e0",
   "metadata": {},
   "source": [
    "## Un diccionario simple\n",
    "\n",
    "considerando un juego que tiene aliens que pueden tener diferentes colores y puntos, podemos crear un diccionario"
   ]
  },
  {
   "cell_type": "code",
   "execution_count": 1,
   "id": "13a63602",
   "metadata": {},
   "outputs": [
    {
     "name": "stdout",
     "output_type": "stream",
     "text": [
      "verde\n",
      "5\n"
     ]
    }
   ],
   "source": [
    "alien_0 = {\"color\": \"verde\", \"puntos\": 5}\n",
    "\n",
    "print(alien_0[\"color\"])\n",
    "print(alien_0[\"puntos\"])"
   ]
  },
  {
   "cell_type": "markdown",
   "id": "da2d842a",
   "metadata": {},
   "source": [
    "## Trabajando con diccionarios\n",
    "\n",
    "un diccionario es una colección de pares de llaves - valores."
   ]
  },
  {
   "cell_type": "code",
   "execution_count": 3,
   "id": "1fe512b3",
   "metadata": {},
   "outputs": [],
   "source": [
    "# se crea con {} con la serie de llave - valores\n",
    "# cada llave se conecta a su valor con :, las llaves se separan con una coma \n",
    "\n",
    "alien_0 = {\"color\": \"verde\", \"puntos\": 5}"
   ]
  },
  {
   "cell_type": "markdown",
   "id": "98889aa0",
   "metadata": {},
   "source": [
    "### Accediendo a valores en un diccionario"
   ]
  },
  {
   "cell_type": "code",
   "execution_count": 4,
   "id": "3c4456de",
   "metadata": {},
   "outputs": [
    {
     "data": {
      "text/plain": [
       "'verde'"
      ]
     },
     "execution_count": 4,
     "metadata": {},
     "output_type": "execute_result"
    }
   ],
   "source": [
    "# para acceder a un valor se pone el nombre de la llave dentro de [ ]\n",
    "\n",
    "alien_0[\"color\"]"
   ]
  },
  {
   "cell_type": "code",
   "execution_count": 5,
   "id": "27ce4efe",
   "metadata": {},
   "outputs": [
    {
     "name": "stdout",
     "output_type": "stream",
     "text": [
      "Ganaste 5 puntos!\n"
     ]
    }
   ],
   "source": [
    "puntos_nuevos = alien_0[\"puntos\"]\n",
    "print(f\"Ganaste {puntos_nuevos} puntos!\")"
   ]
  },
  {
   "cell_type": "markdown",
   "id": "ab7bea6e",
   "metadata": {},
   "source": [
    "### Agregando nuevo pares de llaves - valores\n",
    "\n",
    "Los diccionarios son estructuras dinámicas, se pueden agregar valores y llaves en cualquier momento."
   ]
  },
  {
   "cell_type": "code",
   "execution_count": 6,
   "id": "49e71d7e",
   "metadata": {},
   "outputs": [
    {
     "name": "stdout",
     "output_type": "stream",
     "text": [
      "{'color': 'verde', 'puntos': 5}\n",
      "{'color': 'verde', 'puntos': 5, 'posicion_x': 0, 'posicion_y': 25}\n"
     ]
    }
   ],
   "source": [
    "print(alien_0)\n",
    "\n",
    "alien_0[\"posicion_x\"] = 0\n",
    "alien_0[\"posicion_y\"] = 25\n",
    "\n",
    "print(alien_0)"
   ]
  },
  {
   "cell_type": "markdown",
   "id": "1a2ae429",
   "metadata": {},
   "source": [
    "Los diccionarios retienen el orden en el que fueron definidos.\n",
    "\n",
    "### Empezando con un diccionario vacío\n"
   ]
  },
  {
   "cell_type": "code",
   "execution_count": 7,
   "id": "c39c5009",
   "metadata": {},
   "outputs": [
    {
     "name": "stdout",
     "output_type": "stream",
     "text": [
      "{'color': 'verde', 'puntos': 5}\n"
     ]
    }
   ],
   "source": [
    "alien_0 = {}\n",
    "\n",
    "alien_0[\"color\"] = \"verde\"\n",
    "alien_0[\"puntos\"] = 5\n",
    "\n",
    "print(alien_0)"
   ]
  },
  {
   "cell_type": "markdown",
   "id": "b9da7c8a",
   "metadata": {},
   "source": [
    "### Modificar los valores en un diccionario\n"
   ]
  },
  {
   "cell_type": "code",
   "execution_count": 9,
   "id": "3e02638b",
   "metadata": {},
   "outputs": [
    {
     "name": "stdout",
     "output_type": "stream",
     "text": [
      "El alien es verde\n"
     ]
    }
   ],
   "source": [
    "alien_0 = {\"color\": \"verde\"}\n",
    "print(f\"El alien es {alien_0['color']}\")"
   ]
  },
  {
   "cell_type": "code",
   "execution_count": 10,
   "id": "67f52414",
   "metadata": {},
   "outputs": [
    {
     "name": "stdout",
     "output_type": "stream",
     "text": [
      "El alien es amarillo\n"
     ]
    }
   ],
   "source": [
    "alien_0[\"color\"] = \"amarillo\"\n",
    "print(f\"El alien es {alien_0['color']}\")"
   ]
  },
  {
   "cell_type": "code",
   "execution_count": 11,
   "id": "6343ee3f",
   "metadata": {},
   "outputs": [
    {
     "name": "stdout",
     "output_type": "stream",
     "text": [
      "La posición original del alien es: 0\n"
     ]
    }
   ],
   "source": [
    "# mover el alien dado una velocidad\n",
    "\n",
    "alien_0 = {\"posicion_x\": 0, \"posicion_y\": 25, \"velocidad\": \"media\"}\n",
    "print(f\"La posición original del alien es: {alien_0['posicion_x']}\")"
   ]
  },
  {
   "cell_type": "code",
   "execution_count": 13,
   "id": "20579923",
   "metadata": {},
   "outputs": [],
   "source": [
    "# mover el alien a la derecha dependiendo de la velocidad\n",
    "\n",
    "if alien_0[\"velocidad\"] == \"despacio\":\n",
    "    x_incremento = 1\n",
    "elif alien_0[\"velocidad\"] == \"media\":\n",
    "    x_incremento = 2\n",
    "else:\n",
    "    # un alien rapido\n",
    "    x_incremento = 3"
   ]
  },
  {
   "cell_type": "code",
   "execution_count": 14,
   "id": "b5ca53c3",
   "metadata": {},
   "outputs": [
    {
     "name": "stdout",
     "output_type": "stream",
     "text": [
      "Nueva posición: 2\n"
     ]
    }
   ],
   "source": [
    "# nueva posición más incremento\n",
    "\n",
    "alien_0[\"posicion_x\"] = alien_0[\"posicion_x\"] + x_incremento\n",
    "print(f\"Nueva posición: {alien_0['posicion_x']}\")"
   ]
  },
  {
   "cell_type": "markdown",
   "id": "a2a57998",
   "metadata": {},
   "source": [
    "### Quitando pares llaves - valores"
   ]
  },
  {
   "cell_type": "code",
   "execution_count": 15,
   "id": "a90af6b1",
   "metadata": {},
   "outputs": [
    {
     "name": "stdout",
     "output_type": "stream",
     "text": [
      "{'color': 'verde', 'puntos': 5}\n",
      "{'color': 'verde'}\n"
     ]
    }
   ],
   "source": [
    "alien_0 = {\"color\": \"verde\", \"puntos\": 5}\n",
    "print(alien_0)\n",
    "\n",
    "del alien_0[\"puntos\"]\n",
    "print(alien_0)"
   ]
  },
  {
   "cell_type": "markdown",
   "id": "b93a36ff",
   "metadata": {},
   "source": [
    "## Diccionarios de objetos similares\n",
    "\n",
    "Se puede usar un diccionario para guardar un tipo de información de varios objetos"
   ]
  },
  {
   "cell_type": "code",
   "execution_count": 16,
   "id": "b3f3445e",
   "metadata": {},
   "outputs": [],
   "source": [
    "lenguajes_favoritos = {\n",
    "    \"Mateo\": \"Python\",\n",
    "    \"Tatiana\": \"C\",\n",
    "    \"Kevin\": \"Rust\",\n",
    "    \"Cristian\": \"Python\"\n",
    "}"
   ]
  },
  {
   "cell_type": "code",
   "execution_count": 17,
   "id": "60a5d462",
   "metadata": {},
   "outputs": [
    {
     "name": "stdout",
     "output_type": "stream",
     "text": [
      "El lenguaje favorito de Tatiana es C\n"
     ]
    }
   ],
   "source": [
    "# se puede usar el valor de cada persona\n",
    "\n",
    "lenguaje = lenguajes_favoritos[\"Tatiana\"].title()\n",
    "print(f\"El lenguaje favorito de Tatiana es {lenguaje}\")"
   ]
  },
  {
   "cell_type": "markdown",
   "id": "0676d8c4",
   "metadata": {},
   "source": [
    "### Usando get() para acceder a los valores\n",
    "\n",
    "Usando [ ], si la llave no existe se obtiene un error. Con `get()` podemos escoger nuestro resultado si no existe"
   ]
  },
  {
   "cell_type": "code",
   "execution_count": 18,
   "id": "d4399b63",
   "metadata": {},
   "outputs": [
    {
     "ename": "KeyError",
     "evalue": "'puntos'",
     "output_type": "error",
     "traceback": [
      "\u001b[1;31m---------------------------------------------------------------------------\u001b[0m",
      "\u001b[1;31mKeyError\u001b[0m                                  Traceback (most recent call last)",
      "Cell \u001b[1;32mIn[18], line 2\u001b[0m\n\u001b[0;32m      1\u001b[0m alien_0 \u001b[38;5;241m=\u001b[39m {\u001b[38;5;124m\"\u001b[39m\u001b[38;5;124mcolor\u001b[39m\u001b[38;5;124m\"\u001b[39m: \u001b[38;5;124m\"\u001b[39m\u001b[38;5;124mverde\u001b[39m\u001b[38;5;124m\"\u001b[39m, \u001b[38;5;124m\"\u001b[39m\u001b[38;5;124mvelocidad\u001b[39m\u001b[38;5;124m\"\u001b[39m: \u001b[38;5;124m\"\u001b[39m\u001b[38;5;124mdespacio\u001b[39m\u001b[38;5;124m\"\u001b[39m}\n\u001b[1;32m----> 2\u001b[0m \u001b[38;5;28mprint\u001b[39m(alien_0[\u001b[38;5;124m\"\u001b[39m\u001b[38;5;124mpuntos\u001b[39m\u001b[38;5;124m\"\u001b[39m])\n",
      "\u001b[1;31mKeyError\u001b[0m: 'puntos'"
     ]
    }
   ],
   "source": [
    "alien_0 = {\"color\": \"verde\", \"velocidad\": \"despacio\"}\n",
    "print(alien_0[\"puntos\"])"
   ]
  },
  {
   "cell_type": "code",
   "execution_count": 19,
   "id": "91a894b7",
   "metadata": {},
   "outputs": [
    {
     "name": "stdout",
     "output_type": "stream",
     "text": [
      "No hay puntos asignados.\n"
     ]
    }
   ],
   "source": [
    "valor_punto = alien_0.get(\"puntos\", \"No hay puntos asignados.\")\n",
    "print(valor_punto)"
   ]
  },
  {
   "cell_type": "markdown",
   "id": "12fbae6c",
   "metadata": {},
   "source": [
    "## Ejercicios\n",
    "\n",
    "1. Crear un diccionario con la información de una persona"
   ]
  },
  {
   "cell_type": "code",
   "execution_count": 22,
   "id": "7425829a",
   "metadata": {},
   "outputs": [
    {
     "name": "stdout",
     "output_type": "stream",
     "text": [
      "El nombre es Tatiana, vive en Guasca, tiene 31 años y está casada\n"
     ]
    }
   ],
   "source": [
    "persona = {\n",
    "    \"nombre\": \"Tatiana\",\n",
    "    \"ciudad\": \"Guasca\",\n",
    "    \"edad\": \"31\",\n",
    "    \"estado\": \"casada\"\n",
    "}\n",
    "\n",
    "print(f\"El nombre es {persona['nombre'].title()}, vive en {persona['ciudad']}, tiene {persona['edad']} años y está {persona['estado']}\")"
   ]
  },
  {
   "cell_type": "code",
   "execution_count": 24,
   "id": "8e31d36c",
   "metadata": {},
   "outputs": [
    {
     "name": "stdout",
     "output_type": "stream",
     "text": [
      "El numero favorito de tatiana es: 5\n",
      "El numero favorito de mateo es: 10\n",
      "El numero favorito de kevin es: 17\n",
      "El numero favorito de daniela es: 68\n",
      "El numero favorito de cristian es: 70\n"
     ]
    }
   ],
   "source": [
    "numeros = {\n",
    "    \"tatiana\": 5,\n",
    "    \"mateo\": 10,\n",
    "    \"kevin\": 17,\n",
    "    \"daniela\": 68,\n",
    "    \"cristian\": 70\n",
    "}\n",
    "\n",
    "print(f\"El numero favorito de tatiana es: {numeros['tatiana']}\")\n",
    "print(f\"El numero favorito de mateo es: {numeros['mateo']}\")\n",
    "print(f\"El numero favorito de kevin es: {numeros['kevin']}\")\n",
    "print(f\"El numero favorito de daniela es: {numeros['daniela']}\")\n",
    "print(f\"El numero favorito de cristian es: {numeros['cristian']}\")"
   ]
  },
  {
   "cell_type": "code",
   "execution_count": 25,
   "id": "5929e15b",
   "metadata": {},
   "outputs": [
    {
     "name": "stdout",
     "output_type": "stream",
     "text": [
      "Definición de lista: son un tipo de dato que permite almacenar datos de cualquier tipo. Son mutables y dinámicas, lo cual es la principal diferencia con los sets y las tuplas.\n",
      "Definición de diccionario: son una estructura de datos que permite almacenar su contenido en forma de llave y valor.\n"
     ]
    }
   ],
   "source": [
    "# 3. crear un glosario\n",
    "\n",
    "glosario = {\n",
    "    \"listas\": \"son un tipo de dato que permite almacenar datos de cualquier tipo. Son mutables y dinámicas, lo cual es la principal diferencia con los sets y las tuplas.\",\n",
    "    \"conjuntos\": \"Los elementos de un set son único, lo que significa que no puede haber elementos duplicados\",\n",
    "    \"tuplas\": \"son un tipo o estructura de datos que permite almacenar datos de una manera muy parecida a las listas, con la salvedad de que son inmutables.\",\n",
    "    \"diccionarios\": \"son una estructura de datos que permite almacenar su contenido en forma de llave y valor.\"\n",
    "}\n",
    "\n",
    "print(f\"Definición de lista: {glosario['listas']}\")\n",
    "print(f\"Definición de diccionario: {glosario['diccionarios']}\")"
   ]
  },
  {
   "cell_type": "markdown",
   "id": "49bee3f6",
   "metadata": {},
   "source": [
    "## Recorriendo un diccionario\n",
    "\n",
    "Se puede recorrer un diccionario por todos los pares de valores, sus llaves o sus valores.\n",
    "\n",
    "### Recorriendo por los pares de valores\n",
    "\n",
    "Consideremos un nuevo diccionario"
   ]
  },
  {
   "cell_type": "code",
   "execution_count": 28,
   "id": "01e12fc6",
   "metadata": {},
   "outputs": [],
   "source": [
    "user_0 = {\n",
    "    \"usuario\": \"matiu\",\n",
    "    \"nombre\": \"mateo\",\n",
    "    \"apellido\": \"vega\"\n",
    "}"
   ]
  },
  {
   "cell_type": "code",
   "execution_count": 29,
   "id": "81725e96",
   "metadata": {},
   "outputs": [
    {
     "name": "stdout",
     "output_type": "stream",
     "text": [
      "\n",
      "Llave: usuario\n",
      "Valor: matiu\n",
      "\n",
      "Llave: nombre\n",
      "Valor: mateo\n",
      "\n",
      "Llave: apellido\n",
      "Valor: vega\n"
     ]
    }
   ],
   "source": [
    "# queremos ver toda la información\n",
    "\n",
    "for key, value in user_0.items(): # items devuelve los pares de llaves - valor\n",
    "    print(f\"\\nLlave: {key}\")\n",
    "    print(f\"Valor: {value}\")"
   ]
  },
  {
   "cell_type": "code",
   "execution_count": 30,
   "id": "809bb767",
   "metadata": {},
   "outputs": [
    {
     "name": "stdout",
     "output_type": "stream",
     "text": [
      "Mateo tiene como lenguaje favorito a Python.\n",
      "Tatiana tiene como lenguaje favorito a C.\n",
      "Kevin tiene como lenguaje favorito a Rust.\n",
      "Cristian tiene como lenguaje favorito a Python.\n"
     ]
    }
   ],
   "source": [
    "# estos for funcionan bien cuando las llaves y valores son del mismo tipo de objeto\n",
    "\n",
    "for nombre, lenguaje in lenguajes_favoritos.items():\n",
    "    print(f\"{nombre.title()} tiene como lenguaje favorito a {lenguaje.title()}.\")"
   ]
  },
  {
   "cell_type": "markdown",
   "id": "0b64bc34",
   "metadata": {},
   "source": [
    "### Recorriendo por las llaves del diccionario\n",
    "\n"
   ]
  },
  {
   "cell_type": "code",
   "execution_count": 31,
   "id": "2f7014d4",
   "metadata": {},
   "outputs": [
    {
     "name": "stdout",
     "output_type": "stream",
     "text": [
      "Mateo\n",
      "Tatiana\n",
      "Kevin\n",
      "Cristian\n"
     ]
    }
   ],
   "source": [
    "for nombre in lenguajes_favoritos.keys():\n",
    "    print(nombre.title())"
   ]
  },
  {
   "cell_type": "code",
   "execution_count": 32,
   "id": "160acda0",
   "metadata": {},
   "outputs": [
    {
     "name": "stdout",
     "output_type": "stream",
     "text": [
      "Mateo\n",
      "Tatiana\n",
      "Kevin\n",
      "Cristian\n"
     ]
    }
   ],
   "source": [
    "# recorrer por llaves es el comportamiento por defecto de Python\n",
    "\n",
    "for nombre in lenguajes_favoritos:\n",
    "    print(nombre.title())"
   ]
  },
  {
   "cell_type": "code",
   "execution_count": 33,
   "id": "75477eb5",
   "metadata": {},
   "outputs": [
    {
     "name": "stdout",
     "output_type": "stream",
     "text": [
      "Hola Mateo.\n",
      "\tMateo, veo que te gusta Python!\n",
      "Hola Tatiana.\n",
      "\tTatiana, veo que te gusta C!\n",
      "Hola Kevin.\n",
      "Hola Cristian.\n"
     ]
    }
   ],
   "source": [
    "amigos = [\"Mateo\", \"Tatiana\"]\n",
    "\n",
    "for nombre in lenguajes_favoritos.keys():\n",
    "    print(f\"Hola {nombre.title()}.\")\n",
    "    \n",
    "    if nombre in amigos:\n",
    "        lenguaje = lenguajes_favoritos[nombre].title()\n",
    "        print(f\"\\t{nombre.title()}, veo que te gusta {lenguaje}!\")"
   ]
  },
  {
   "cell_type": "code",
   "execution_count": 34,
   "id": "07366658",
   "metadata": {},
   "outputs": [
    {
     "name": "stdout",
     "output_type": "stream",
     "text": [
      "Daniela, cual es tu lenguaje favorito?\n"
     ]
    }
   ],
   "source": [
    "if \"Daniela\" not in lenguajes_favoritos.keys():\n",
    "    print(\"Daniela, cual es tu lenguaje favorito?\")"
   ]
  },
  {
   "cell_type": "markdown",
   "id": "603e9dc0",
   "metadata": {},
   "source": [
    "### Recorriendo por las llaves del diccionario en un orden particular\n"
   ]
  },
  {
   "cell_type": "code",
   "execution_count": 35,
   "id": "c1df82b8",
   "metadata": {},
   "outputs": [
    {
     "name": "stdout",
     "output_type": "stream",
     "text": [
      "Cristian, gracias por tomar la encuesta!\n",
      "Kevin, gracias por tomar la encuesta!\n",
      "Mateo, gracias por tomar la encuesta!\n",
      "Tatiana, gracias por tomar la encuesta!\n"
     ]
    }
   ],
   "source": [
    "# podemos usar sorted para organizar las llaves en algún orden particular\n",
    "\n",
    "for nombre in sorted(lenguajes_favoritos.keys()):\n",
    "    print(f\"{nombre.title()}, gracias por tomar la encuesta!\")"
   ]
  },
  {
   "cell_type": "markdown",
   "id": "dd8b0ec9",
   "metadata": {},
   "source": [
    "### Recorrer un diccionario por sus valores\n",
    "\n",
    "Se puede usar con el método `values()`"
   ]
  },
  {
   "cell_type": "code",
   "execution_count": 36,
   "id": "8ed521c4",
   "metadata": {},
   "outputs": [
    {
     "name": "stdout",
     "output_type": "stream",
     "text": [
      "Los siguientes lenguajes son mencionados:\n",
      "Python\n",
      "C\n",
      "Rust\n",
      "Python\n"
     ]
    }
   ],
   "source": [
    "print(\"Los siguientes lenguajes son mencionados:\")\n",
    "for lenguaje in lenguajes_favoritos.values():\n",
    "    print(lenguaje.title())"
   ]
  },
  {
   "cell_type": "code",
   "execution_count": 37,
   "id": "9a749c1f",
   "metadata": {},
   "outputs": [
    {
     "name": "stdout",
     "output_type": "stream",
     "text": [
      "Los siguientes lenguajes son mencionados:\n",
      "C\n",
      "Python\n",
      "Rust\n"
     ]
    }
   ],
   "source": [
    "# para no mostrar los valores repetidos podemos usar un conjunto\n",
    "\n",
    "print(\"Los siguientes lenguajes son mencionados:\")\n",
    "for lenguaje in set(lenguajes_favoritos.values()):\n",
    "    print(lenguaje.title())"
   ]
  },
  {
   "cell_type": "markdown",
   "id": "0ec9a0c5",
   "metadata": {},
   "source": [
    "## Ejercicios\n",
    "\n",
    "1. reemplazar en el glosario cada print con un loop"
   ]
  },
  {
   "cell_type": "code",
   "execution_count": 39,
   "id": "6c23257e",
   "metadata": {},
   "outputs": [
    {
     "name": "stdout",
     "output_type": "stream",
     "text": [
      "Listas: son un tipo de dato que permite almacenar datos de cualquier tipo. Son mutables y dinámicas, lo cual es la principal diferencia con los sets y las tuplas.\n",
      "Conjuntos: Los elementos de un set son único, lo que significa que no puede haber elementos duplicados\n",
      "Tuplas: son un tipo o estructura de datos que permite almacenar datos de una manera muy parecida a las listas, con la salvedad de que son inmutables.\n",
      "Diccionarios: son una estructura de datos que permite almacenar su contenido en forma de llave y valor.\n"
     ]
    }
   ],
   "source": [
    "glosario = {\n",
    "    \"listas\": \"son un tipo de dato que permite almacenar datos de cualquier tipo. Son mutables y dinámicas, lo cual es la principal diferencia con los sets y las tuplas.\",\n",
    "    \"conjuntos\": \"Los elementos de un set son único, lo que significa que no puede haber elementos duplicados\",\n",
    "    \"tuplas\": \"son un tipo o estructura de datos que permite almacenar datos de una manera muy parecida a las listas, con la salvedad de que son inmutables.\",\n",
    "    \"diccionarios\": \"son una estructura de datos que permite almacenar su contenido en forma de llave y valor.\"\n",
    "}\n",
    "\n",
    "for objeto, definicion in glosario.items():\n",
    "    print(f\"{objeto.title()}: {definicion}\")"
   ]
  },
  {
   "cell_type": "markdown",
   "id": "749cdd1c",
   "metadata": {},
   "source": [
    "2. Un diccionario con rios y el pais"
   ]
  },
  {
   "cell_type": "code",
   "execution_count": 40,
   "id": "b596fb1b",
   "metadata": {},
   "outputs": [
    {
     "name": "stdout",
     "output_type": "stream",
     "text": [
      "El rio Nilo pasa por Egipto\n",
      "El rio Amazonas pasa por Colombia\n",
      "El rio Misisipi pasa por Usa\n"
     ]
    }
   ],
   "source": [
    "rios = {\n",
    "    \"Nilo\": \"Egipto\",\n",
    "    \"Amazonas\": \"Colombia\",\n",
    "    \"Misisipi\": \"USA\"\n",
    "}\n",
    "\n",
    "for rio, pais in rios.items():\n",
    "    print(f\"El rio {rio.title()} pasa por {pais.title()}\")"
   ]
  },
  {
   "cell_type": "code",
   "execution_count": 41,
   "id": "92d9833c",
   "metadata": {},
   "outputs": [
    {
     "name": "stdout",
     "output_type": "stream",
     "text": [
      "Nilo\n",
      "Amazonas\n",
      "Misisipi\n"
     ]
    }
   ],
   "source": [
    "for rio in rios.keys():\n",
    "    print(rio)"
   ]
  },
  {
   "cell_type": "code",
   "execution_count": 42,
   "id": "17a6004d",
   "metadata": {},
   "outputs": [
    {
     "name": "stdout",
     "output_type": "stream",
     "text": [
      "Egipto\n",
      "Colombia\n",
      "USA\n"
     ]
    }
   ],
   "source": [
    "for pais in rios.values():\n",
    "    print(pais)"
   ]
  },
  {
   "cell_type": "code",
   "execution_count": 43,
   "id": "76cddb62",
   "metadata": {},
   "outputs": [
    {
     "name": "stdout",
     "output_type": "stream",
     "text": [
      "Gracias por responder Kevin!\n",
      "Gracias por responder Mateo!\n",
      "Sebastian, por favor responda la encuesta\n",
      "Samuel, por favor responda la encuesta\n",
      "Nicole, por favor responda la encuesta\n"
     ]
    }
   ],
   "source": [
    "lenguajes_favoritos = {\n",
    "    \"Mateo\": \"Python\",\n",
    "    \"Tatiana\": \"C\",\n",
    "    \"Kevin\": \"Rust\",\n",
    "    \"Cristian\": \"Python\"\n",
    "}\n",
    "\n",
    "amigos = [\"Kevin\", \"Mateo\", \"Sebastian\", \"Samuel\", \"Nicole\"]\n",
    "\n",
    "for nombre in amigos:\n",
    "    if nombre in lenguajes_favoritos.keys():\n",
    "        print(f\"Gracias por responder {nombre}!\")\n",
    "    else:\n",
    "        print(f\"{nombre}, por favor responda la encuesta\")"
   ]
  },
  {
   "cell_type": "markdown",
   "id": "3d58dbad",
   "metadata": {},
   "source": [
    "## Anidar\n",
    "\n",
    "Se puede anidar cuando ponemos una lista o un diccionario dentro de otro diccionario.\n",
    "\n",
    "### Una lista de diccionarios"
   ]
  },
  {
   "cell_type": "code",
   "execution_count": 47,
   "id": "b8275844",
   "metadata": {},
   "outputs": [
    {
     "name": "stdout",
     "output_type": "stream",
     "text": [
      "{'color': 'verde', 'puntos': 5}\n",
      "{'color': 'amarillo', 'puntos': 10}\n",
      "{'color': 'rojo', 'puntos': 15}\n",
      "[{'color': 'verde', 'puntos': 5}, {'color': 'amarillo', 'puntos': 10}, {'color': 'rojo', 'puntos': 15}]\n"
     ]
    }
   ],
   "source": [
    "alien_0 = {\"color\": \"verde\", \"puntos\": 5}\n",
    "alien_1 = {\"color\": \"amarillo\", \"puntos\": 10}\n",
    "alien_2 = {\"color\": \"rojo\", \"puntos\": 15}\n",
    "\n",
    "aliens = [alien_0, alien_1, alien_2]\n",
    "\n",
    "for alien in aliens:\n",
    "    print(alien)\n",
    "    \n",
    "print(aliens)"
   ]
  },
  {
   "cell_type": "code",
   "execution_count": 49,
   "id": "73bfe191",
   "metadata": {},
   "outputs": [
    {
     "name": "stdout",
     "output_type": "stream",
     "text": [
      "{'color': 'green', 'puntos': 5, 'velocidad': 'lento'}\n",
      "{'color': 'green', 'puntos': 5, 'velocidad': 'lento'}\n",
      "{'color': 'green', 'puntos': 5, 'velocidad': 'lento'}\n",
      "{'color': 'green', 'puntos': 5, 'velocidad': 'lento'}\n",
      "{'color': 'green', 'puntos': 5, 'velocidad': 'lento'}\n",
      "El total numero de aliens creados es: 30\n"
     ]
    }
   ],
   "source": [
    "# otro ejemplo con mas aliens\n",
    "\n",
    "aliens = []\n",
    "\n",
    "for numero_alien in range(30):\n",
    "    nuevo_alien = {\"color\": \"green\", \"puntos\": 5, \"velocidad\": \"lento\"}\n",
    "    aliens.append(nuevo_alien)\n",
    "    \n",
    "for alien in aliens[:5]:\n",
    "    print(alien)\n",
    "    \n",
    "print(f\"El total numero de aliens creados es: {len(aliens)}\")"
   ]
  },
  {
   "cell_type": "code",
   "execution_count": 51,
   "id": "df43eb04",
   "metadata": {
    "scrolled": true
   },
   "outputs": [
    {
     "name": "stdout",
     "output_type": "stream",
     "text": [
      "{'color': 'amarillo', 'puntos': 10, 'velocidad': 'media'}\n",
      "{'color': 'amarillo', 'puntos': 10, 'velocidad': 'media'}\n",
      "{'color': 'amarillo', 'puntos': 10, 'velocidad': 'media'}\n",
      "{'color': 'verde', 'puntos': 5, 'velocidad': 'lento'}\n",
      "{'color': 'verde', 'puntos': 5, 'velocidad': 'lento'}\n",
      "El total numero de aliens creados es: 30\n"
     ]
    }
   ],
   "source": [
    "aliens = []\n",
    "\n",
    "for numero_alien in range(30):\n",
    "    nuevo_alien = {\"color\": \"verde\", \"puntos\": 5, \"velocidad\": \"lento\"}\n",
    "    aliens.append(nuevo_alien)\n",
    "    \n",
    "for alien in aliens[:3]:\n",
    "    if alien[\"color\"] == \"verde\":\n",
    "        alien[\"color\"] = \"amarillo\"\n",
    "        alien[\"velocidad\"] = \"media\"\n",
    "        alien[\"puntos\"] = 10\n",
    "    \n",
    "for alien in aliens[:5]:\n",
    "    print(alien)\n",
    "    \n",
    "print(f\"El total numero de aliens creados es: {len(aliens)}\")"
   ]
  },
  {
   "cell_type": "markdown",
   "id": "5908ced1",
   "metadata": {},
   "source": [
    "### Una lista en un diccionario\n"
   ]
  },
  {
   "cell_type": "code",
   "execution_count": 54,
   "id": "2acaa43a",
   "metadata": {},
   "outputs": [
    {
     "name": "stdout",
     "output_type": "stream",
     "text": [
      "Ordenó una pizza con borde gruesa con los siguientes ingredientes:\n",
      "\tchampiñones\n",
      "\tqueso\n"
     ]
    }
   ],
   "source": [
    "pizza = {\n",
    "    \"crust\": \"gruesa\",\n",
    "    \"ingredientes\": [\"champiñones\", \"queso\"],\n",
    "}\n",
    "\n",
    "print(f\"Ordenó una pizza con borde {pizza['crust']}\"\n",
    "     \" con los siguientes ingredientes:\")\n",
    "\n",
    "for ingrediente in pizza[\"ingredientes\"]:\n",
    "    print(f\"\\t{ingrediente}\")"
   ]
  },
  {
   "cell_type": "code",
   "execution_count": 55,
   "id": "48b0eba2",
   "metadata": {},
   "outputs": [
    {
     "name": "stdout",
     "output_type": "stream",
     "text": [
      "\n",
      "Daniela tiene como lenguajes favoritos a:\n",
      "\tPython\n",
      "\tRust\n",
      "\n",
      "Tatiana tiene como lenguajes favoritos a:\n",
      "\tC\n",
      "\n",
      "Mateo tiene como lenguajes favoritos a:\n",
      "\tRust\n",
      "\tGo\n",
      "\n",
      "Kevin tiene como lenguajes favoritos a:\n",
      "\tPython\n",
      "\tR\n"
     ]
    }
   ],
   "source": [
    "# con una lista dentro de un diccionario podemos agregar varios valores a cada llave\n",
    "\n",
    "lenguajes_favoritos = {\n",
    "    \"daniela\": [\"Python\", \"Rust\"],\n",
    "    \"Tatiana\": [\"c\"],\n",
    "    \"Mateo\": [\"Rust\", \"go\"],\n",
    "    \"kevin\": [\"Python\", \"R\"]\n",
    "}\n",
    "\n",
    "for nombre, lenguajes in lenguajes_favoritos.items():\n",
    "    print(f\"\\n{nombre.title()} tiene como lenguajes favoritos a:\")\n",
    "    for lenguaje in lenguajes:\n",
    "        print(f\"\\t{lenguaje.title()}\")"
   ]
  },
  {
   "cell_type": "markdown",
   "id": "2a7bed56",
   "metadata": {},
   "source": [
    "### Un diccionario dentro de un diccionario"
   ]
  },
  {
   "cell_type": "code",
   "execution_count": 57,
   "id": "70d47707",
   "metadata": {},
   "outputs": [],
   "source": [
    "usuarios = {\n",
    "    \"matiu\": {\n",
    "        \"nombre\": \"mateo\",\n",
    "        \"apellido\": \"vega\",\n",
    "        \"ubicacion\": \"guasca\",\n",
    "    },\n",
    "    \"tatis\": {\n",
    "        \"nombre\": \"tatiana\",\n",
    "        \"apellido\": \"moreno\",\n",
    "        \"ubicacion\": \"guasca\"\n",
    "    },\n",
    "}"
   ]
  },
  {
   "cell_type": "code",
   "execution_count": 59,
   "id": "ad75754c",
   "metadata": {},
   "outputs": [
    {
     "name": "stdout",
     "output_type": "stream",
     "text": [
      "\n",
      "Nombre de usuario: matiu\n",
      "\tNombre completo: mateo vega\n",
      "\tUbicación: guasca\n",
      "\n",
      "Nombre de usuario: tatis\n",
      "\tNombre completo: tatiana moreno\n",
      "\tUbicación: guasca\n"
     ]
    }
   ],
   "source": [
    "for usuario, info in usuarios.items():\n",
    "    print(f\"\\nNombre de usuario: {usuario}\")\n",
    "    nombre_completo = f\"{info['nombre']} {info['apellido']}\"\n",
    "    ubicacion = info['ubicacion']\n",
    "    \n",
    "    print(f\"\\tNombre completo: {nombre_completo}\")\n",
    "    print(f\"\\tUbicación: {ubicacion}\")"
   ]
  }
 ],
 "metadata": {
  "kernelspec": {
   "display_name": "Python 3 (ipykernel)",
   "language": "python",
   "name": "python3"
  },
  "language_info": {
   "codemirror_mode": {
    "name": "ipython",
    "version": 3
   },
   "file_extension": ".py",
   "mimetype": "text/x-python",
   "name": "python",
   "nbconvert_exporter": "python",
   "pygments_lexer": "ipython3",
   "version": "3.11.5"
  }
 },
 "nbformat": 4,
 "nbformat_minor": 5
}
