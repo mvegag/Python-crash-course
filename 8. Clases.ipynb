{
 "cells": [
  {
   "metadata": {},
   "cell_type": "markdown",
   "source": [
    "## Creando y usando clases\n",
    "\n",
    "Se empieza con una clase que represente un perro.\n",
    "\n",
    "- Todos tienen nombre y edad.\n",
    "- Los perros se sientan y se ruedan.\n",
    "\n",
    "Esas son las características que va a tener la clase."
   ],
   "id": "39fe4b18ec851261"
  },
  {
   "cell_type": "code",
   "id": "initial_id",
   "metadata": {
    "collapsed": true,
    "ExecuteTime": {
     "end_time": "2024-05-29T15:20:30.447607Z",
     "start_time": "2024-05-29T15:20:30.443416Z"
    }
   },
   "source": [
    "class Perro:\n",
    "    \"\"\"Intento de modelar un perro\"\"\"\n",
    "    \n",
    "    def __init__(self, nombre,edad):\n",
    "        \"\"\"Inicializa los atributos de nombre y edad\"\"\"\n",
    "        self.nombre = nombre\n",
    "        self.edad = edad\n",
    "    \n",
    "    def sentarse(self):\n",
    "        \"\"\"Simula un perro sentandose\"\"\"\n",
    "        print(f\"{self.nombre} ahora está sentado\")\n",
    "        \n",
    "    def rodar(self):\n",
    "        \"\"\"Simula un perro rodando\"\"\"\n",
    "        print(f\"{self.nombre} rodó!\")"
   ],
   "outputs": [],
   "execution_count": 2
  },
  {
   "metadata": {},
   "cell_type": "markdown",
   "source": [
    "### El método __init__\n",
    "\n",
    "`__init__` es un método obligatorio que corre automáticamente cuando creamos una instancia basada en la clase.\n",
    "\n",
    "`self` se utiliza en todos los métodos de una clase, sirve para referirse a la instancia actual de la clase, permitiendo el acceso a sus atributos y otros métodos dentro de la clase.\n",
    "\n",
    "`edad` y `nombre` tiene el prefijo `self`. Cualquier variable con este prefijo está disponible para todo método de la clase\n",
    "\n",
    "### Crear una instancia de una clase\n",
    "\n"
   ],
   "id": "ca3ea390ebd2c04a"
  },
  {
   "metadata": {
    "ExecuteTime": {
     "end_time": "2024-05-29T15:22:02.986587Z",
     "start_time": "2024-05-29T15:22:02.982540Z"
    }
   },
   "cell_type": "code",
   "source": [
    "# crear una instancia particular con perro llamado milka de edad 12 años\n",
    "\n",
    "mi_perro = Perro(\"Milka\", 12)\n",
    "\n",
    "print(f\"Mi perro se llama {mi_perro.nombre}\")\n",
    "print(f\"Mi perro tiene {mi_perro.edad} años\")"
   ],
   "id": "9f40a6330482aea0",
   "outputs": [
    {
     "name": "stdout",
     "output_type": "stream",
     "text": [
      "Mi perro se llama Milka\n",
      "Mi perro tiene 12 años\n"
     ]
    }
   ],
   "execution_count": 4
  },
  {
   "metadata": {},
   "cell_type": "markdown",
   "source": "### Accediendo a los atributos",
   "id": "1f8f885ec5dd95f9"
  },
  {
   "metadata": {
    "ExecuteTime": {
     "end_time": "2024-05-29T15:22:54.997609Z",
     "start_time": "2024-05-29T15:22:54.991971Z"
    }
   },
   "cell_type": "code",
   "source": [
    "# se acceden con el punto\n",
    "\n",
    "mi_perro.nombre"
   ],
   "id": "91086ebc91f8983d",
   "outputs": [
    {
     "data": {
      "text/plain": [
       "'Milka'"
      ]
     },
     "execution_count": 5,
     "metadata": {},
     "output_type": "execute_result"
    }
   ],
   "execution_count": 5
  },
  {
   "metadata": {},
   "cell_type": "markdown",
   "source": "### Llamando métodos",
   "id": "9b863476780dbf31"
  },
  {
   "metadata": {
    "ExecuteTime": {
     "end_time": "2024-05-29T15:23:57.905172Z",
     "start_time": "2024-05-29T15:23:57.902221Z"
    }
   },
   "cell_type": "code",
   "source": [
    "# igualmente se llaman los métodos con el punto\n",
    "\n",
    "mi_perro.sentarse()\n",
    "mi_perro.rodar()"
   ],
   "id": "cfda7fb841eae82f",
   "outputs": [
    {
     "name": "stdout",
     "output_type": "stream",
     "text": [
      "Milka ahora está sentado\n",
      "Milka rodó!\n"
     ]
    }
   ],
   "execution_count": 6
  },
  {
   "metadata": {},
   "cell_type": "markdown",
   "source": [
    "### Creando múltiples instancias\n",
    "\n",
    "Se pueden crear todas las instancias que se quieran"
   ],
   "id": "45e328ec3fe46f69"
  },
  {
   "metadata": {
    "ExecuteTime": {
     "end_time": "2024-05-29T15:26:33.759825Z",
     "start_time": "2024-05-29T15:26:33.756421Z"
    }
   },
   "cell_type": "code",
   "source": [
    "tu_perro = Perro(\"Lucy\", 6)\n",
    "\n",
    "print(f\"El nombre de mi perro es {mi_perro.nombre}\")\n",
    "print(f\"El nombre de tu perro es {tu_perro.nombre}\")\n",
    "\n",
    "print(f\"\\nLa edad de mi perro es {mi_perro.edad}\")\n",
    "print(f\"La edad de tu perro es {tu_perro.edad}\")"
   ],
   "id": "c05316a73ae2ae76",
   "outputs": [
    {
     "name": "stdout",
     "output_type": "stream",
     "text": [
      "El nombre de mi perro es Milka\n",
      "El nombre de tu perro es Lucy\n",
      "\n",
      "La edad de mi perro es 12\n",
      "La edad de tu perro es 6\n"
     ]
    }
   ],
   "execution_count": 8
  },
  {
   "metadata": {},
   "cell_type": "markdown",
   "source": [
    "### Ejercicios\n",
    "\n",
    "1. Crear una clase Restaurante"
   ],
   "id": "e9aa6fb21d15c878"
  },
  {
   "metadata": {
    "ExecuteTime": {
     "end_time": "2024-05-29T15:31:21.523991Z",
     "start_time": "2024-05-29T15:31:21.520771Z"
    }
   },
   "cell_type": "code",
   "source": [
    "class Restaurante:\n",
    "    \"\"\"Modela un restaurante sencillo\"\"\"\n",
    "    \n",
    "    def __init__(self, nombre_restaurante, tipo_cocina):\n",
    "        self.nombre_restaurante = nombre_restaurante\n",
    "        self.tipo_cocina = tipo_cocina\n",
    "        \n",
    "    def describir_restaurante(self):\n",
    "        print(f\"El restaurante se llama {self.nombre_restaurante} y sirve un tipo de comida {self.tipo_cocina}.\")\n",
    "        \n",
    "    def abierto(self):\n",
    "        print(f\"El restaurante está abierto!\")"
   ],
   "id": "84a7aa38865df121",
   "outputs": [],
   "execution_count": 9
  },
  {
   "metadata": {
    "ExecuteTime": {
     "end_time": "2024-05-29T15:32:27.985836Z",
     "start_time": "2024-05-29T15:32:27.981691Z"
    }
   },
   "cell_type": "code",
   "source": [
    "restaurante1 = Restaurante(\"Betos\", \"rapida\")\n",
    "restaurante2 = Restaurante(\"mordan\", \"alitas\")\n",
    "\n",
    "restaurante1.describir_restaurante()\n",
    "restaurante2.describir_restaurante()\n",
    "restaurante1.abierto()\n",
    "restaurante2.abierto()"
   ],
   "id": "e0efdbc3b3d20d4a",
   "outputs": [
    {
     "name": "stdout",
     "output_type": "stream",
     "text": [
      "El restaurante se llama Betos y sirve un tipo de comida rapida.\n",
      "El restaurante se llama mordan y sirve un tipo de comida alitas.\n",
      "El restaurante está abierto!\n",
      "El restaurante está abierto!\n"
     ]
    }
   ],
   "execution_count": 10
  },
  {
   "metadata": {},
   "cell_type": "markdown",
   "source": "2. crear tipo de clase usuario",
   "id": "77467675cb2f9e6c"
  },
  {
   "metadata": {
    "ExecuteTime": {
     "end_time": "2024-05-29T15:37:26.947531Z",
     "start_time": "2024-05-29T15:37:26.943473Z"
    }
   },
   "cell_type": "code",
   "source": [
    "class Usuario:\n",
    "    \"\"\"Modela un tipo de clase de usuario simple\"\"\"\n",
    "    \n",
    "    def __init__(self, nombre, apellido):\n",
    "        self.nombre = nombre\n",
    "        self.apellido = apellido\n",
    "        \n",
    "    def informacion(self):\n",
    "        print(f\"El nombre del usuario es {self.nombre} y su apellido es {self.apellido}\")\n",
    "        \n",
    "    def saludo(self):\n",
    "        print(f\"Hola usuario {self.nombre} {self.apellido}\")"
   ],
   "id": "a4cb2e17d3857ead",
   "outputs": [],
   "execution_count": 11
  },
  {
   "metadata": {
    "ExecuteTime": {
     "end_time": "2024-05-29T15:38:29.038378Z",
     "start_time": "2024-05-29T15:38:29.034906Z"
    }
   },
   "cell_type": "code",
   "source": [
    "usuario1 = Usuario(\"Mateo\", \"Vega\")\n",
    "usuario2 = Usuario(\"Tatiana\", \"Moreno\")\n",
    "\n",
    "usuario1.informacion()\n",
    "usuario2.informacion()\n",
    "\n",
    "usuario1.saludo()\n",
    "usuario2.saludo()"
   ],
   "id": "e4c8026c725e0305",
   "outputs": [
    {
     "name": "stdout",
     "output_type": "stream",
     "text": [
      "El nombre del usuario es Mateo y su apellido es Vega\n",
      "El nombre del usuario es Tatiana y su apellido es Moreno\n",
      "Hola usuario Mateo Vega\n",
      "Hola usuario Tatiana Moreno\n"
     ]
    }
   ],
   "execution_count": 12
  },
  {
   "metadata": {},
   "cell_type": "markdown",
   "source": [
    "## Trabajando con clases e instancias\n",
    "\n",
    "### La clase carro"
   ],
   "id": "5cca0836f54ba836"
  },
  {
   "metadata": {
    "ExecuteTime": {
     "end_time": "2024-05-29T15:41:52.314860Z",
     "start_time": "2024-05-29T15:41:52.311741Z"
    }
   },
   "cell_type": "code",
   "source": [
    "class Carro:\n",
    "    \"\"\"Un modelo simple de un carro\"\"\"\n",
    "    \n",
    "    def __init__(self, marca, modelo, anio):\n",
    "        \"\"\"Inicializa los atributos para describir un carro\"\"\"\n",
    "        self.marca = marca\n",
    "        self.modelo = modelo\n",
    "        self.anio = anio\n",
    "        \n",
    "    def obtener_nombre(self):\n",
    "        \"\"\"Devuelve un resumen del carro\"\"\"\n",
    "        descripcion = f\"{self.anio} {self.marca} {self.modelo}\"\n",
    "        return descripcion.title()"
   ],
   "id": "bd6cc8cd78aa2fe2",
   "outputs": [],
   "execution_count": 13
  },
  {
   "metadata": {
    "ExecuteTime": {
     "end_time": "2024-05-29T15:42:24.759139Z",
     "start_time": "2024-05-29T15:42:24.756070Z"
    }
   },
   "cell_type": "code",
   "source": [
    "mi_carro = Carro(\"audi\", \"a4\", \"2024\")\n",
    "print(mi_carro.obtener_nombre())"
   ],
   "id": "7a429b121d52947f",
   "outputs": [
    {
     "name": "stdout",
     "output_type": "stream",
     "text": [
      "2024 Audi A4\n"
     ]
    }
   ],
   "execution_count": 14
  },
  {
   "metadata": {},
   "cell_type": "markdown",
   "source": "### Agregando un valor por defecto a un atributo",
   "id": "7a09251a14829627"
  },
  {
   "metadata": {
    "ExecuteTime": {
     "end_time": "2024-05-29T15:45:36.947420Z",
     "start_time": "2024-05-29T15:45:36.943312Z"
    }
   },
   "cell_type": "code",
   "source": [
    "class Carro:\n",
    "    \"\"\"Un modelo simple de un carro\"\"\"\n",
    "    \n",
    "    def __init__(self, marca, modelo, anio):\n",
    "        \"\"\"Inicializa los atributos para describir un carro\"\"\"\n",
    "        self.marca = marca\n",
    "        self.modelo = modelo\n",
    "        self.anio = anio\n",
    "        self.odometro = 0\n",
    "        \n",
    "    def obtener_nombre(self):\n",
    "        \"\"\"Devuelve un resumen del carro\"\"\"\n",
    "        descripcion = f\"{self.anio} {self.marca} {self.modelo}\"\n",
    "        return descripcion.title()\n",
    "    \n",
    "    def leer_odometro(self):\n",
    "        \"\"\"Imprime el kilometraje del carro\"\"\"\n",
    "        print(f\"Este carro tiene {self.odometro} kilometros.\")\n",
    "        \n",
    "mi_carro = Carro(\"audi\", \"a4\", \"2024\")\n",
    "print(mi_carro.obtener_nombre())\n",
    "mi_carro.leer_odometro()"
   ],
   "id": "c443eee0cc2ff206",
   "outputs": [
    {
     "name": "stdout",
     "output_type": "stream",
     "text": [
      "2024 Audi A4\n",
      "Este carro tiene 0 kilometros.\n"
     ]
    }
   ],
   "execution_count": 15
  },
  {
   "metadata": {},
   "cell_type": "markdown",
   "source": [
    "### Modificando valores de los atributos\n",
    "\n",
    "#### Directamente"
   ],
   "id": "981d754e6b9daff3"
  },
  {
   "metadata": {
    "ExecuteTime": {
     "end_time": "2024-05-29T17:03:01.162894Z",
     "start_time": "2024-05-29T17:03:01.160023Z"
    }
   },
   "cell_type": "code",
   "source": [
    "# accedemos al atributo con el punto y lo asociamos al nuevo valor\n",
    "\n",
    "mi_carro.odometro = 23\n",
    "mi_carro.leer_odometro()"
   ],
   "id": "218b72c7e421f749",
   "outputs": [
    {
     "name": "stdout",
     "output_type": "stream",
     "text": [
      "Este carro tiene 23 kilometros.\n"
     ]
    }
   ],
   "execution_count": 17
  },
  {
   "metadata": {},
   "cell_type": "markdown",
   "source": "#### Modificando el valor del atributo a través de un método",
   "id": "307ff511a48d4781"
  },
  {
   "metadata": {
    "ExecuteTime": {
     "end_time": "2024-05-29T17:17:24.227913Z",
     "start_time": "2024-05-29T17:17:24.196019Z"
    }
   },
   "cell_type": "code",
   "source": [
    "class Carro:\n",
    "    \"\"\"Un modelo simple de un carro\"\"\"\n",
    "    \n",
    "    def __init__(self, marca, modelo, anio):\n",
    "        \"\"\"Inicializa los atributos para describir un carro\"\"\"\n",
    "        self.marca = marca\n",
    "        self.modelo = modelo\n",
    "        self.anio = anio\n",
    "        self.odometro = 0\n",
    "        \n",
    "    def obtener_nombre(self):\n",
    "        \"\"\"Devuelve un resumen del carro\"\"\"\n",
    "        descripcion = f\"{self.anio} {self.marca} {self.modelo}\"\n",
    "        return descripcion.title()\n",
    "    \n",
    "    def leer_odometro(self):\n",
    "        \"\"\"Imprime el kilometraje del carro\"\"\"\n",
    "        print(f\"Este carro tiene {self.odometro} kilometros.\")\n",
    "        \n",
    "    def actualizar_odometro(self, kilometraje):\n",
    "        \"\"\"Actualizar el odometro\"\"\"\n",
    "        self.odometro = kilometraje\n",
    "        "
   ],
   "id": "c45327e632844b93",
   "outputs": [],
   "execution_count": 18
  },
  {
   "metadata": {
    "ExecuteTime": {
     "end_time": "2024-05-29T17:18:06.667180Z",
     "start_time": "2024-05-29T17:18:06.663446Z"
    }
   },
   "cell_type": "code",
   "source": [
    "mi_carro = Carro(\"audi\", \"a4\", \"2024\")\n",
    "mi_carro.actualizar_odometro(180)\n",
    "mi_carro.leer_odometro()"
   ],
   "id": "5b99b9890e336d48",
   "outputs": [
    {
     "name": "stdout",
     "output_type": "stream",
     "text": [
      "Este carro tiene 180 kilometros.\n"
     ]
    }
   ],
   "execution_count": 19
  },
  {
   "metadata": {},
   "cell_type": "markdown",
   "source": "Podemos extender este nuevo método",
   "id": "13bdf6c64f75f697"
  },
  {
   "metadata": {
    "ExecuteTime": {
     "end_time": "2024-05-29T17:20:56.798171Z",
     "start_time": "2024-05-29T17:20:56.793322Z"
    }
   },
   "cell_type": "code",
   "source": [
    "class Carro:\n",
    "    \"\"\"Un modelo simple de un carro\"\"\"\n",
    "    \n",
    "    def __init__(self, marca, modelo, anio):\n",
    "        \"\"\"Inicializa los atributos para describir un carro\"\"\"\n",
    "        self.marca = marca\n",
    "        self.modelo = modelo\n",
    "        self.anio = anio\n",
    "        self.odometro = 0\n",
    "        \n",
    "    def obtener_nombre(self):\n",
    "        \"\"\"Devuelve un resumen del carro\"\"\"\n",
    "        descripcion = f\"{self.anio} {self.marca} {self.modelo}\"\n",
    "        return descripcion.title()\n",
    "    \n",
    "    def leer_odometro(self):\n",
    "        \"\"\"Imprime el kilometraje del carro\"\"\"\n",
    "        print(f\"Este carro tiene {self.odometro} kilometros.\")\n",
    "        \n",
    "    def actualizar_odometro(self, kilometraje):\n",
    "        \"\"\"Actualizar el odometro\n",
    "        Se rechaza el cambio si se inserta un valor menor al anterior\"\"\"\n",
    "        if kilometraje >= self.odometro:\n",
    "            self.odometro = kilometraje\n",
    "        else:\n",
    "            print(\"No se puede modificar el odometro!\")"
   ],
   "id": "56df2c65b4154604",
   "outputs": [],
   "execution_count": 20
  },
  {
   "metadata": {
    "ExecuteTime": {
     "end_time": "2024-05-29T17:22:01.516084Z",
     "start_time": "2024-05-29T17:22:01.513201Z"
    }
   },
   "cell_type": "code",
   "source": [
    "mi_carro = Carro(\"audi\", \"a4\", \"2024\")\n",
    "mi_carro.actualizar_odometro(180)\n",
    "mi_carro.actualizar_odometro(100)"
   ],
   "id": "5733e1cf19c33b6",
   "outputs": [
    {
     "name": "stdout",
     "output_type": "stream",
     "text": [
      "No se puede modificar el odometro!\n"
     ]
    }
   ],
   "execution_count": 22
  },
  {
   "metadata": {},
   "cell_type": "markdown",
   "source": [
    "### Incrementar un atributo a través de un método\n",
    "\n",
    "Si se quiere incrementar un valor en lugar de solo reemplazarlo"
   ],
   "id": "40ee30c760ca913a"
  },
  {
   "metadata": {
    "ExecuteTime": {
     "end_time": "2024-05-29T18:47:51.515814Z",
     "start_time": "2024-05-29T18:47:51.506834Z"
    }
   },
   "cell_type": "code",
   "source": [
    "class Carro:\n",
    "    \"\"\"Un modelo simple de un carro\"\"\"\n",
    "    \n",
    "    def __init__(self, marca, modelo, anio):\n",
    "        \"\"\"Inicializa los atributos para describir un carro\"\"\"\n",
    "        self.marca = marca\n",
    "        self.modelo = modelo\n",
    "        self.anio = anio\n",
    "        self.odometro = 0\n",
    "        \n",
    "    def obtener_nombre(self):\n",
    "        \"\"\"Devuelve un resumen del carro\"\"\"\n",
    "        descripcion = f\"{self.anio} {self.marca} {self.modelo}\"\n",
    "        return descripcion.title()\n",
    "    \n",
    "    def leer_odometro(self):\n",
    "        \"\"\"Imprime el kilometraje del carro\"\"\"\n",
    "        print(f\"Este carro tiene {self.odometro} kilometros.\")\n",
    "        \n",
    "    def actualizar_odometro(self, kilometraje):\n",
    "        \"\"\"Actualizar el odometro\n",
    "        Se rechaza el cambio si se inserta un valor menor al anterior\"\"\"\n",
    "        if kilometraje >= self.odometro:\n",
    "            self.odometro = kilometraje\n",
    "        else:\n",
    "            print(\"No se puede modificar el odometro!\")\n",
    "            \n",
    "    def incrementar_odometro(self, kilometraje):\n",
    "        \"\"\"Agregar alguna cantidad al odometro\"\"\"\n",
    "        self.odometro += kilometraje"
   ],
   "id": "1b4864e970881db6",
   "outputs": [],
   "execution_count": 23
  },
  {
   "metadata": {
    "ExecuteTime": {
     "end_time": "2024-05-29T18:49:09.603176Z",
     "start_time": "2024-05-29T18:49:09.598154Z"
    }
   },
   "cell_type": "code",
   "source": [
    "carro_usado = Carro(\"subaru\", \"outback\", 2019)\n",
    "print(carro_usado.obtener_nombre())\n",
    "\n",
    "carro_usado.actualizar_odometro(23_500)\n",
    "carro_usado.leer_odometro()\n",
    "\n",
    "carro_usado.incrementar_odometro(1_000)\n",
    "carro_usado.leer_odometro()"
   ],
   "id": "7e9f4278a76bf513",
   "outputs": [
    {
     "name": "stdout",
     "output_type": "stream",
     "text": [
      "2019 Subaru Outback\n",
      "Este carro tiene 23500 kilometros.\n",
      "Este carro tiene 24500 kilometros.\n"
     ]
    }
   ],
   "execution_count": 24
  },
  {
   "metadata": {},
   "cell_type": "markdown",
   "source": [
    "### Ejercicios\n",
    "\n",
    "1. Agregar un atributo llamado `numero_servido` con un valor defecto 0"
   ],
   "id": "dbdc044f969eeb0d"
  },
  {
   "metadata": {
    "ExecuteTime": {
     "end_time": "2024-05-29T19:19:33.050532Z",
     "start_time": "2024-05-29T19:19:33.045396Z"
    }
   },
   "cell_type": "code",
   "source": [
    "class Restaurante:\n",
    "    \"\"\"Modela un restaurante sencillo\"\"\"\n",
    "    \n",
    "    def __init__(self, nombre_restaurante, tipo_cocina):\n",
    "        self.nombre_restaurante = nombre_restaurante\n",
    "        self.tipo_cocina = tipo_cocina\n",
    "        self.numero_servido = 0\n",
    "        \n",
    "    def describir_restaurante(self):\n",
    "        print(f\"El restaurante se llama {self.nombre_restaurante} y sirve un tipo de comida {self.tipo_cocina}.\")\n",
    "        \n",
    "    def abierto(self):\n",
    "        print(f\"El restaurante está abierto!\")"
   ],
   "id": "8ee4d5561a648aea",
   "outputs": [],
   "execution_count": 25
  },
  {
   "metadata": {
    "ExecuteTime": {
     "end_time": "2024-05-29T19:20:16.285592Z",
     "start_time": "2024-05-29T19:20:16.278395Z"
    }
   },
   "cell_type": "code",
   "source": [
    "restaurante3 = Restaurante(\"Bettos\", \"Rapida\")\n",
    "restaurante3.numero_servido"
   ],
   "id": "68be03e5881b44d2",
   "outputs": [
    {
     "data": {
      "text/plain": [
       "0"
      ]
     },
     "execution_count": 26,
     "metadata": {},
     "output_type": "execute_result"
    }
   ],
   "execution_count": 26
  },
  {
   "metadata": {
    "ExecuteTime": {
     "end_time": "2024-05-29T19:20:33.596972Z",
     "start_time": "2024-05-29T19:20:33.592414Z"
    }
   },
   "cell_type": "code",
   "source": [
    "restaurante3.numero_servido = 5\n",
    "restaurante3.numero_servido"
   ],
   "id": "c42f0247f5246827",
   "outputs": [
    {
     "data": {
      "text/plain": [
       "5"
      ]
     },
     "execution_count": 27,
     "metadata": {},
     "output_type": "execute_result"
    }
   ],
   "execution_count": 27
  },
  {
   "metadata": {
    "ExecuteTime": {
     "end_time": "2024-05-29T19:22:02.722545Z",
     "start_time": "2024-05-29T19:22:02.718027Z"
    }
   },
   "cell_type": "code",
   "source": [
    "# agregar metodo establecer_numero_servido\n",
    "\n",
    "class Restaurante:\n",
    "    \"\"\"Modela un restaurante sencillo\"\"\"\n",
    "    \n",
    "    def __init__(self, nombre_restaurante, tipo_cocina):\n",
    "        self.nombre_restaurante = nombre_restaurante\n",
    "        self.tipo_cocina = tipo_cocina\n",
    "        self.numero_servido = 0\n",
    "        \n",
    "    def describir_restaurante(self):\n",
    "        print(f\"El restaurante se llama {self.nombre_restaurante} y sirve un tipo de comida {self.tipo_cocina}.\")\n",
    "        \n",
    "    def abierto(self):\n",
    "        print(f\"El restaurante está abierto!\")\n",
    "        \n",
    "    def establecer_numero_servido(self, clientes):\n",
    "        self.numero_servido = clientes"
   ],
   "id": "4bd03df774cb0c95",
   "outputs": [],
   "execution_count": 28
  },
  {
   "metadata": {
    "ExecuteTime": {
     "end_time": "2024-05-29T19:22:37.268382Z",
     "start_time": "2024-05-29T19:22:37.264615Z"
    }
   },
   "cell_type": "code",
   "source": [
    "restaurante3 = Restaurante(\"Bettos\", \"Rapida\")\n",
    "restaurante3.establecer_numero_servido(10)\n",
    "restaurante3.numero_servido"
   ],
   "id": "349c1f917907823a",
   "outputs": [
    {
     "data": {
      "text/plain": [
       "10"
      ]
     },
     "execution_count": 29,
     "metadata": {},
     "output_type": "execute_result"
    }
   ],
   "execution_count": 29
  },
  {
   "metadata": {
    "ExecuteTime": {
     "end_time": "2024-05-29T19:24:08.757969Z",
     "start_time": "2024-05-29T19:24:08.752969Z"
    }
   },
   "cell_type": "code",
   "source": [
    "# incrementar numero servido\n",
    "\n",
    "class Restaurante:\n",
    "    \"\"\"Modela un restaurante sencillo\"\"\"\n",
    "    \n",
    "    def __init__(self, nombre_restaurante, tipo_cocina):\n",
    "        self.nombre_restaurante = nombre_restaurante\n",
    "        self.tipo_cocina = tipo_cocina\n",
    "        self.numero_servido = 0\n",
    "        \n",
    "    def describir_restaurante(self):\n",
    "        print(f\"El restaurante se llama {self.nombre_restaurante} y sirve un tipo de comida {self.tipo_cocina}.\")\n",
    "        \n",
    "    def abierto(self):\n",
    "        print(f\"El restaurante está abierto!\")\n",
    "        \n",
    "    def establecer_numero_servido(self, clientes):\n",
    "        self.numero_servido = clientes\n",
    "        \n",
    "    def incrementar_numero_servido(self, clientes):\n",
    "        self.numero_servido += clientes"
   ],
   "id": "d548216b8edb1fdc",
   "outputs": [],
   "execution_count": 30
  },
  {
   "metadata": {
    "ExecuteTime": {
     "end_time": "2024-05-29T19:25:14.339157Z",
     "start_time": "2024-05-29T19:25:14.335284Z"
    }
   },
   "cell_type": "code",
   "source": [
    "restaurante3 = Restaurante(\"Bettos\", \"Rapida\")\n",
    "print(restaurante3.numero_servido)\n",
    "restaurante3.establecer_numero_servido(16)\n",
    "print(restaurante3.numero_servido)\n",
    "restaurante3.incrementar_numero_servido(150)\n",
    "print(restaurante3.numero_servido)"
   ],
   "id": "9928e9ca2eb3b410",
   "outputs": [
    {
     "name": "stdout",
     "output_type": "stream",
     "text": [
      "0\n",
      "16\n",
      "166\n"
     ]
    }
   ],
   "execution_count": 32
  },
  {
   "metadata": {},
   "cell_type": "markdown",
   "source": "2. Agregar atributo `intentos_acceso` a la clase de usuario, crear un método `incrementar_intentos_acceso` que incremente los intentos por 1 y crear el método `resetear_intentos_acceso`       ",
   "id": "c5decb28f44ba095"
  },
  {
   "metadata": {
    "ExecuteTime": {
     "end_time": "2024-05-29T19:29:26.380460Z",
     "start_time": "2024-05-29T19:29:26.376236Z"
    }
   },
   "cell_type": "code",
   "source": [
    "class Usuario:\n",
    "    \"\"\"Modela un tipo de clase de usuario simple\"\"\"\n",
    "    \n",
    "    def __init__(self, nombre, apellido):\n",
    "        self.nombre = nombre\n",
    "        self.apellido = apellido\n",
    "        self.intentos_acceso = 0\n",
    "        \n",
    "    def informacion(self):\n",
    "        print(f\"El nombre del usuario es {self.nombre} y su apellido es {self.apellido}\")\n",
    "        \n",
    "    def saludo(self):\n",
    "        print(f\"Hola usuario {self.nombre} {self.apellido}\")\n",
    "        \n",
    "    def incrementar_intentos_acceso(self):\n",
    "        self.intentos_acceso += 1\n",
    "        \n",
    "    def resetear_intentos_acceso(self):\n",
    "        self.intentos_acceso = 0"
   ],
   "id": "b66a3677424215ab",
   "outputs": [],
   "execution_count": 33
  },
  {
   "metadata": {
    "ExecuteTime": {
     "end_time": "2024-05-29T19:30:38.613186Z",
     "start_time": "2024-05-29T19:30:38.609165Z"
    }
   },
   "cell_type": "code",
   "source": [
    "usuario1 = Usuario(\"Mateo\", \"Vega\")\n",
    "print(usuario1.intentos_acceso)\n",
    "usuario1.incrementar_intentos_acceso()\n",
    "print(usuario1.intentos_acceso)\n",
    "usuario1.incrementar_intentos_acceso()\n",
    "print(usuario1.intentos_acceso)\n",
    "usuario1.resetear_intentos_acceso()\n",
    "print(usuario1.intentos_acceso)"
   ],
   "id": "10a5c50c31cde586",
   "outputs": [
    {
     "name": "stdout",
     "output_type": "stream",
     "text": [
      "0\n",
      "1\n",
      "2\n",
      "0\n"
     ]
    }
   ],
   "execution_count": 34
  },
  {
   "metadata": {},
   "cell_type": "markdown",
   "source": [
    "## Herencia\n",
    "\n",
    "Si una clase puede heredar valores de otra clase esa sería la clase hijo y de la que hereda es la clase padre. La clase hijo puede heredar todos los atributos y métodos de la clase padre, pero también puede tener sus propios métodos.\n",
    "\n",
    "### El método __init__() para una clase hijo\n",
    "\n",
    "Casi siempre para la clase hijo se quiere llamar __init__() de la clase padre, esto inicializa cualquier atributo que se definieron en __init__ del padre.\n",
    "\n",
    "Por ejemplo, una clase de carros eléctricos"
   ],
   "id": "9f3f7dfc1b47345"
  },
  {
   "metadata": {
    "ExecuteTime": {
     "end_time": "2024-05-29T19:37:38.504002Z",
     "start_time": "2024-05-29T19:37:38.499802Z"
    }
   },
   "cell_type": "code",
   "source": [
    "class CarroElectrico(Carro):\n",
    "    \"\"\"Representa caracteristicas de un carro eléctrico\"\"\"\n",
    "    \n",
    "    def __init__(self, marca, modelo, anio):\n",
    "        \"\"\"Inicializa atributos de la clase padre\"\"\"\n",
    "        super().__init__(marca, modelo, anio)"
   ],
   "id": "3480b1d0231cfcda",
   "outputs": [],
   "execution_count": 35
  },
  {
   "metadata": {
    "ExecuteTime": {
     "end_time": "2024-05-29T19:38:14.515675Z",
     "start_time": "2024-05-29T19:38:14.512374Z"
    }
   },
   "cell_type": "code",
   "source": [
    "mi_electrico = CarroElectrico(\"nissan\", \"leaf\", 2024)\n",
    "print(mi_electrico.obtener_nombre())"
   ],
   "id": "e663214e85432083",
   "outputs": [
    {
     "name": "stdout",
     "output_type": "stream",
     "text": [
      "2024 Nissan Leaf\n"
     ]
    }
   ],
   "execution_count": 36
  },
  {
   "metadata": {},
   "cell_type": "markdown",
   "source": "### Definiendo métodos y clases para la clase hijo",
   "id": "7481686b585ca7aa"
  },
  {
   "metadata": {
    "ExecuteTime": {
     "end_time": "2024-05-29T19:51:45.102446Z",
     "start_time": "2024-05-29T19:51:45.098360Z"
    }
   },
   "cell_type": "code",
   "source": [
    "class CarroElectrico(Carro):\n",
    "    \"\"\"Representa caracteristicas de un carro eléctrico\"\"\"\n",
    "    \n",
    "    def __init__(self, marca, modelo, anio):\n",
    "        \"\"\"Inicializa atributos de la clase padre\"\"\"\n",
    "        super().__init__(marca, modelo, anio)\n",
    "        self.tamano_bateria = 40\n",
    "        \n",
    "    def describir_bateria(self):\n",
    "        \"\"\"Describe el tamaño de la bateria\"\"\"\n",
    "        print(f\"Este carro tiene una bateria de tamaño {self.tamano_bateria}-kWh\")\n"
   ],
   "id": "532cdfdb391651bf",
   "outputs": [],
   "execution_count": 37
  },
  {
   "metadata": {
    "ExecuteTime": {
     "end_time": "2024-05-29T19:52:04.095177Z",
     "start_time": "2024-05-29T19:52:04.091700Z"
    }
   },
   "cell_type": "code",
   "source": [
    "mi_electrico = CarroElectrico(\"nissan\", \"leaf\", 2024)\n",
    "mi_electrico.describir_bateria()"
   ],
   "id": "1eefcddc6dff7958",
   "outputs": [
    {
     "name": "stdout",
     "output_type": "stream",
     "text": [
      "Este carro tiene una bateria de tamaño 40-kWh\n"
     ]
    }
   ],
   "execution_count": 38
  },
  {
   "metadata": {},
   "cell_type": "markdown",
   "source": [
    "### Sobreescribiendo métodos de la clase padre\n",
    "\n",
    "Se escribe un método con el mismo nombre del método de la clase padre"
   ],
   "id": "e361ddf26e1408d0"
  },
  {
   "metadata": {
    "ExecuteTime": {
     "end_time": "2024-05-29T19:55:49.433402Z",
     "start_time": "2024-05-29T19:55:49.429195Z"
    }
   },
   "cell_type": "code",
   "source": [
    "class CarroElectrico(Carro):\n",
    "    \"\"\"Representa caracteristicas de un carro eléctrico\"\"\"\n",
    "    \n",
    "    def __init__(self, marca, modelo, anio):\n",
    "        \"\"\"Inicializa atributos de la clase padre\"\"\"\n",
    "        super().__init__(marca, modelo, anio)\n",
    "        self.tamano_bateria = 40\n",
    "        \n",
    "    def describir_bateria(self):\n",
    "        \"\"\"Describe el tamaño de la bateria\"\"\"\n",
    "        print(f\"Este carro tiene una bateria de tamaño {self.tamano_bateria}-kWh\")\n",
    "        \n",
    "    def llenar_tanque(self):\n",
    "        print(\"Este carro no tiene un tanque de gasolina!\")"
   ],
   "id": "b55353b315a66ea6",
   "outputs": [],
   "execution_count": 39
  },
  {
   "metadata": {},
   "cell_type": "markdown",
   "source": [
    "### Instancias como atributos\n",
    "\n",
    "Al tratar de tener mas atributos y métodos es mejor hacer _composición_, esto es separar una clase larga en clases mas pequeñas que trabajen juntas "
   ],
   "id": "fbb41808644a8994"
  },
  {
   "metadata": {},
   "cell_type": "code",
   "outputs": [],
   "execution_count": null,
   "source": [
    "class Carro:\n",
    "    \"\"\"Un modelo simple de un carro\"\"\"\n",
    "    \n",
    "    def __init__(self, marca, modelo, anio):\n",
    "        \"\"\"Inicializa los atributos para describir un carro\"\"\"\n",
    "        self.marca = marca\n",
    "        self.modelo = modelo\n",
    "        self.anio = anio\n",
    "        self.odometro = 0\n",
    "        \n",
    "    def obtener_nombre(self):\n",
    "        \"\"\"Devuelve un resumen del carro\"\"\"\n",
    "        descripcion = f\"{self.anio} {self.marca} {self.modelo}\"\n",
    "        return descripcion.title()\n",
    "    \n",
    "    def leer_odometro(self):\n",
    "        \"\"\"Imprime el kilometraje del carro\"\"\"\n",
    "        print(f\"Este carro tiene {self.odometro} kilometros.\")\n",
    "        \n",
    "    def actualizar_odometro(self, kilometraje):\n",
    "        \"\"\"Actualizar el odometro\n",
    "        Se rechaza el cambio si se inserta un valor menor al anterior\"\"\"\n",
    "        if kilometraje >= self.odometro:\n",
    "            self.odometro = kilometraje\n",
    "        else:\n",
    "            print(\"No se puede modificar el odometro!\")\n",
    "            \n",
    "    def incrementar_odometro(self, kilometraje):\n",
    "        \"\"\"Agregar alguna cantidad al odometro\"\"\"\n",
    "        self.odometro += kilometraje"
   ],
   "id": "d29e68194223ed99"
  },
  {
   "metadata": {
    "ExecuteTime": {
     "end_time": "2024-05-29T20:39:14.101706Z",
     "start_time": "2024-05-29T20:39:14.097524Z"
    }
   },
   "cell_type": "code",
   "source": [
    "class Bateria:\n",
    "    \"\"\"Modelo de una bateria de carro electrico\"\"\"\n",
    "    \n",
    "    def __init__(self, tamano_bateria = 40):\n",
    "        \"\"\"Inicializa el atributo de la bateria\"\"\"\n",
    "        self.tamano_bateria = tamano_bateria\n",
    "    \n",
    "    def describir_bateria(self):\n",
    "        \"\"\"Describe el tamaño de la bateria\"\"\"\n",
    "        print(f\"Este carro tiene una bateria de tamaño {self.tamano_bateria}-kWh\")"
   ],
   "id": "454d87e6bc446a1e",
   "outputs": [],
   "execution_count": 40
  },
  {
   "metadata": {
    "ExecuteTime": {
     "end_time": "2024-05-29T20:39:15.657768Z",
     "start_time": "2024-05-29T20:39:15.653870Z"
    }
   },
   "cell_type": "code",
   "source": [
    "class CarroElectrico(Carro):\n",
    "    \"\"\"Representa caracteristicas de un carro eléctrico\"\"\"\n",
    "    \n",
    "    def __init__(self, marca, modelo, anio):\n",
    "        \"\"\"Inicializa atributos de la clase padre\"\"\"\n",
    "        super().__init__(marca, modelo, anio)\n",
    "        self.bateria = Bateria()\n",
    "        \n",
    "    def llenar_tanque(self):\n",
    "        print(\"Este carro no tiene un tanque de gasolina!\")"
   ],
   "id": "2f8d68e3170b3c1a",
   "outputs": [],
   "execution_count": 41
  },
  {
   "metadata": {
    "ExecuteTime": {
     "end_time": "2024-05-29T20:40:07.885675Z",
     "start_time": "2024-05-29T20:40:07.882006Z"
    }
   },
   "cell_type": "code",
   "source": [
    "mi_electrico2 = CarroElectrico(\"nissan\", \"leaf\", \"2024\")\n",
    "print(mi_electrico2.obtener_nombre())\n",
    "mi_electrico2.bateria.describir_bateria()"
   ],
   "id": "82210a15fe686341",
   "outputs": [
    {
     "name": "stdout",
     "output_type": "stream",
     "text": [
      "2024 Nissan Leaf\n",
      "Este carro tiene una bateria de tamaño 40-kWh\n"
     ]
    }
   ],
   "execution_count": 42
  },
  {
   "metadata": {
    "ExecuteTime": {
     "end_time": "2024-05-29T20:44:41.559468Z",
     "start_time": "2024-05-29T20:44:41.555150Z"
    }
   },
   "cell_type": "code",
   "source": [
    "# agregar otro método a bateria\n",
    "\n",
    "class Bateria:\n",
    "    \"\"\"Modelo de una bateria de carro electrico\"\"\"\n",
    "    \n",
    "    def __init__(self, tamano_bateria = 40):\n",
    "        \"\"\"Inicializa el atributo de la bateria\"\"\"\n",
    "        self.tamano_bateria = tamano_bateria\n",
    "    \n",
    "    def describir_bateria(self):\n",
    "        \"\"\"Describe el tamaño de la bateria\"\"\"\n",
    "        print(f\"Este carro tiene una bateria de tamaño {self.tamano_bateria}-kWh\")\n",
    "        \n",
    "    def obtener_rango(self):\n",
    "        \"\"\"Imprime una frase sobre el rango que la batería da\"\"\"\n",
    "        if self.tamano_bateria == 40:\n",
    "            rango = 150\n",
    "        elif self.tamano_bateria == 65:\n",
    "            rango = 225\n",
    "        \n",
    "        print(f\"Este carro puede viajar {rango} kilometros totalmente cargado\")"
   ],
   "id": "c832a485a4c73003",
   "outputs": [],
   "execution_count": 45
  },
  {
   "metadata": {
    "ExecuteTime": {
     "end_time": "2024-05-29T21:11:43.106929Z",
     "start_time": "2024-05-29T21:11:43.090693Z"
    }
   },
   "cell_type": "code",
   "source": [
    "class CarroElectrico(Carro):\n",
    "    \"\"\"Representa caracteristicas de un carro eléctrico\"\"\"\n",
    "    \n",
    "    def __init__(self, marca, modelo, anio):\n",
    "        \"\"\"Inicializa atributos de la clase padre\"\"\"\n",
    "        super().__init__(marca, modelo, anio)\n",
    "        self.bateria = Bateria()\n",
    "        \n",
    "    def llenar_tanque(self):\n",
    "        print(\"Este carro no tiene un tanque de gasolina!\")"
   ],
   "id": "91082000da95b2a5",
   "outputs": [],
   "execution_count": 59
  },
  {
   "metadata": {
    "ExecuteTime": {
     "end_time": "2024-05-29T20:44:58.952844Z",
     "start_time": "2024-05-29T20:44:58.949227Z"
    }
   },
   "cell_type": "code",
   "source": [
    "mi_electrico3 = CarroElectrico(\"nissan\", \"leaf\", \"2024\")\n",
    "print(mi_electrico3.obtener_nombre())\n",
    "mi_electrico3.bateria.describir_bateria()\n",
    "mi_electrico3.bateria.obtener_rango()"
   ],
   "id": "b833cf84a24128b6",
   "outputs": [
    {
     "name": "stdout",
     "output_type": "stream",
     "text": [
      "2024 Nissan Leaf\n",
      "Este carro tiene una bateria de tamaño 40-kWh\n",
      "Este carro puede viajar 150 kilometros totalmente cargado\n"
     ]
    }
   ],
   "execution_count": 47
  },
  {
   "metadata": {},
   "cell_type": "markdown",
   "source": [
    "### Ejercicios\n",
    "\n",
    "1. Una clase `tienda_helados` que herede de la clase `Restaurante`"
   ],
   "id": "8101400f3c1a5836"
  },
  {
   "metadata": {
    "ExecuteTime": {
     "end_time": "2024-05-29T20:51:13.306273Z",
     "start_time": "2024-05-29T20:51:13.301715Z"
    }
   },
   "cell_type": "code",
   "source": [
    "class Restaurante:\n",
    "    \"\"\"Modela un restaurante sencillo\"\"\"\n",
    "    \n",
    "    def __init__(self, nombre_restaurante, tipo_cocina):\n",
    "        self.nombre_restaurante = nombre_restaurante\n",
    "        self.tipo_cocina = tipo_cocina\n",
    "        self.numero_servido = 0\n",
    "        \n",
    "    def describir_restaurante(self):\n",
    "        print(f\"El restaurante se llama {self.nombre_restaurante} y sirve un tipo de comida {self.tipo_cocina}.\")\n",
    "        \n",
    "    def abierto(self):\n",
    "        print(f\"El restaurante está abierto!\")\n",
    "        \n",
    "    def establecer_numero_servido(self, clientes):\n",
    "        self.numero_servido = clientes\n",
    "        \n",
    "    def incrementar_numero_servido(self, clientes):\n",
    "        self.numero_servido += clientes"
   ],
   "id": "f46e9eaac3748cf4",
   "outputs": [],
   "execution_count": 48
  },
  {
   "metadata": {
    "ExecuteTime": {
     "end_time": "2024-05-29T20:55:26.407584Z",
     "start_time": "2024-05-29T20:55:26.403555Z"
    }
   },
   "cell_type": "code",
   "source": [
    "class Helados(Restaurante):\n",
    "    \"\"\"Modela un tipo de restaurante especializado en helados\"\"\"\n",
    "    \n",
    "    def __init__(self, nombre_restaurante, tipo_cocina, sabores):\n",
    "        super().__init__(nombre_restaurante, tipo_cocina)\n",
    "        self.sabores = sabores\n",
    "        \n",
    "    def ver_sabores(self):\n",
    "        print(\"\\nLos sabores que tenemos son: \")\n",
    "        for sabor in self.sabores:\n",
    "            print(f\" -{sabor}\")"
   ],
   "id": "e1593f1269813656",
   "outputs": [],
   "execution_count": 50
  },
  {
   "metadata": {
    "ExecuteTime": {
     "end_time": "2024-05-29T20:56:38.271859Z",
     "start_time": "2024-05-29T20:56:38.266859Z"
    }
   },
   "cell_type": "code",
   "source": [
    "lista_helados = [\"vainilla\", \"chocolate\", \"chicle\", \"mandarina\"]\n",
    "helados1 = Helados(\"Heladitos\", \"helados\", lista_helados)\n",
    "helados1.describir_restaurante()\n",
    "helados1.ver_sabores()"
   ],
   "id": "81a5fc7c586698c3",
   "outputs": [
    {
     "name": "stdout",
     "output_type": "stream",
     "text": [
      "El restaurante se llama Heladitos y sirve un tipo de comida helados.\n",
      "\n",
      "Los sabores que tenemos son: \n",
      " -vainilla\n",
      " -chocolate\n",
      " -chicle\n",
      " -mandarina\n"
     ]
    }
   ],
   "execution_count": 51
  },
  {
   "metadata": {},
   "cell_type": "markdown",
   "source": "2. Crear una clase `Admin` que herede de la clase `Usuario`. Agregar un atributo `privilegios` que guarde una lista de privilegios. Escribir un método que imprima los privilegios ",
   "id": "bd3c5d9ada852c87"
  },
  {
   "metadata": {
    "ExecuteTime": {
     "end_time": "2024-05-29T21:16:55.706458Z",
     "start_time": "2024-05-29T21:16:55.701929Z"
    }
   },
   "cell_type": "code",
   "source": [
    "class Usuario:\n",
    "    \"\"\"Modela un tipo de clase de usuario simple\"\"\"\n",
    "    \n",
    "    def __init__(self, nombre, apellido):\n",
    "        self.nombre = nombre\n",
    "        self.apellido = apellido\n",
    "        self.intentos_acceso = 0\n",
    "        \n",
    "    def informacion(self):\n",
    "        print(f\"El nombre del usuario es {self.nombre} y su apellido es {self.apellido}\")\n",
    "        \n",
    "    def saludo(self):\n",
    "        print(f\"Hola usuario {self.nombre} {self.apellido}\")\n",
    "        \n",
    "    def incrementar_intentos_acceso(self):\n",
    "        self.intentos_acceso += 1\n",
    "        \n",
    "    def resetear_intentos_acceso(self):\n",
    "        self.intentos_acceso = 0"
   ],
   "id": "95367ef1baf2480a",
   "outputs": [],
   "execution_count": 66
  },
  {
   "metadata": {
    "ExecuteTime": {
     "end_time": "2024-05-29T21:17:27.267362Z",
     "start_time": "2024-05-29T21:17:27.263035Z"
    }
   },
   "cell_type": "code",
   "source": [
    "class Admin(Usuario):\n",
    "    \"\"\"Modela la clase de Admin\"\"\"\n",
    "    \n",
    "    def __init__(self, nombre, apellido, privilegios):\n",
    "        super().__init__(nombre, apellido)\n",
    "        self.privilegios = privilegios\n",
    "        \n",
    "    def ver_privilegios(self):\n",
    "        print(\"\\nLos privilegio del admin son: \")\n",
    "        for privilegio in self.privilegios:\n",
    "            print(f\" -{privilegio}\")"
   ],
   "id": "7ae3b12fb0c6f9d1",
   "outputs": [],
   "execution_count": 69
  },
  {
   "metadata": {
    "ExecuteTime": {
     "end_time": "2024-05-29T21:17:29.252863Z",
     "start_time": "2024-05-29T21:17:29.248833Z"
    }
   },
   "cell_type": "code",
   "source": [
    "privs = [\"banear\", \"aceptar\", \"eliminar\"]\n",
    "admin1 = Admin(\"mateo\", \"vega\", privs)\n",
    "admin1.informacion()\n",
    "admin1.saludo()\n",
    "admin1.ver_privilegios()"
   ],
   "id": "972a858a0ac167c1",
   "outputs": [
    {
     "name": "stdout",
     "output_type": "stream",
     "text": [
      "El nombre del usuario es mateo y su apellido es vega\n",
      "Hola usuario mateo vega\n",
      "\n",
      "Los privilegio del admin son: \n",
      " -banear\n",
      " -aceptar\n",
      " -eliminar\n"
     ]
    }
   ],
   "execution_count": 70
  },
  {
   "metadata": {},
   "cell_type": "markdown",
   "source": "3. Escribir una clase separada para privilegios",
   "id": "504e703e8bd377b3"
  },
  {
   "metadata": {
    "ExecuteTime": {
     "end_time": "2024-05-29T21:18:39.009785Z",
     "start_time": "2024-05-29T21:18:39.006051Z"
    }
   },
   "cell_type": "code",
   "source": [
    "class Privilegios:\n",
    "    \"\"\"Modela los privilegios de admin\"\"\"\n",
    "    \n",
    "    def __init__(self, privilegios = [\"banear\", \"aceptar\", \"eliminar\"]):\n",
    "        self.privilegios = privilegios\n",
    "        \n",
    "    def ver_privilegios(self):\n",
    "        print(\"\\nLos privilegio del admin son: \")\n",
    "        for privilegio in self.privilegios:\n",
    "            print(f\" -{privilegio}\")"
   ],
   "id": "6e48272ed1bebff2",
   "outputs": [],
   "execution_count": 75
  },
  {
   "metadata": {
    "ExecuteTime": {
     "end_time": "2024-05-29T21:18:41.170076Z",
     "start_time": "2024-05-29T21:18:41.167236Z"
    }
   },
   "cell_type": "code",
   "source": [
    "class Admin(Usuario):\n",
    "    \"\"\"Modela la clase de Admin\"\"\"\n",
    "    \n",
    "    def __init__(self, nombre, apellido):\n",
    "        super().__init__(nombre, apellido)\n",
    "        self.privilegios = Privilegios()"
   ],
   "id": "58413ddd6689eccf",
   "outputs": [],
   "execution_count": 76
  },
  {
   "metadata": {
    "ExecuteTime": {
     "end_time": "2024-05-29T21:19:20.016257Z",
     "start_time": "2024-05-29T21:19:20.012074Z"
    }
   },
   "cell_type": "code",
   "source": [
    "admin1 = Admin(\"mateo\", \"vega\")\n",
    "admin1.informacion()\n",
    "admin1.saludo()\n",
    "admin1.privilegios.ver_privilegios()\n",
    "admin1.privilegios.privilegios = [\"Privilegios borrados\"]\n",
    "admin1.privilegios.ver_privilegios()"
   ],
   "id": "f0691b63b4eec181",
   "outputs": [
    {
     "name": "stdout",
     "output_type": "stream",
     "text": [
      "El nombre del usuario es mateo y su apellido es vega\n",
      "Hola usuario mateo vega\n",
      "\n",
      "Los privilegio del admin son: \n",
      " -banear\n",
      " -aceptar\n",
      " -eliminar\n",
      "\n",
      "Los privilegio del admin son: \n",
      " -Privilegios borrados\n"
     ]
    }
   ],
   "execution_count": 79
  },
  {
   "metadata": {},
   "cell_type": "markdown",
   "source": "4. En la clase bateria crear un método llamado `mejorar_bateria`. Revisa el tamaño de batería y lo pone en 65 ",
   "id": "8ceead499f091c7f"
  },
  {
   "metadata": {
    "ExecuteTime": {
     "end_time": "2024-05-29T21:26:49.973530Z",
     "start_time": "2024-05-29T21:26:49.968686Z"
    }
   },
   "cell_type": "code",
   "source": [
    "class Carro:\n",
    "    \"\"\"Un modelo simple de un carro\"\"\"\n",
    "    \n",
    "    def __init__(self, marca, modelo, anio):\n",
    "        \"\"\"Inicializa los atributos para describir un carro\"\"\"\n",
    "        self.marca = marca\n",
    "        self.modelo = modelo\n",
    "        self.anio = anio\n",
    "        self.odometro = 0\n",
    "        \n",
    "    def obtener_nombre(self):\n",
    "        \"\"\"Devuelve un resumen del carro\"\"\"\n",
    "        descripcion = f\"{self.anio} {self.marca} {self.modelo}\"\n",
    "        return descripcion.title()\n",
    "    \n",
    "    def leer_odometro(self):\n",
    "        \"\"\"Imprime el kilometraje del carro\"\"\"\n",
    "        print(f\"Este carro tiene {self.odometro} kilometros.\")\n",
    "        \n",
    "    def actualizar_odometro(self, kilometraje):\n",
    "        \"\"\"Actualizar el odometro\n",
    "        Se rechaza el cambio si se inserta un valor menor al anterior\"\"\"\n",
    "        if kilometraje >= self.odometro:\n",
    "            self.odometro = kilometraje\n",
    "        else:\n",
    "            print(\"No se puede modificar el odometro!\")\n",
    "            \n",
    "    def incrementar_odometro(self, kilometraje):\n",
    "        \"\"\"Agregar alguna cantidad al odometro\"\"\"\n",
    "        self.odometro += kilometraje"
   ],
   "id": "cd90aa8f37a8f749",
   "outputs": [],
   "execution_count": 80
  },
  {
   "metadata": {
    "ExecuteTime": {
     "end_time": "2024-05-29T21:35:36.116935Z",
     "start_time": "2024-05-29T21:35:36.112160Z"
    }
   },
   "cell_type": "code",
   "source": [
    "class Bateria:\n",
    "    \"\"\"Modelo de una bateria de carro electrico\"\"\"\n",
    "    \n",
    "    def __init__(self, tamano_bateria = 40):\n",
    "        \"\"\"Inicializa el atributo de la bateria\"\"\"\n",
    "        self.tamano_bateria = tamano_bateria\n",
    "    \n",
    "    def describir_bateria(self):\n",
    "        \"\"\"Describe el tamaño de la bateria\"\"\"\n",
    "        print(f\"Este carro tiene una bateria de tamaño {self.tamano_bateria}-kWh\")\n",
    "        \n",
    "    def obtener_rango(self):\n",
    "        \"\"\"Imprime una frase sobre el rango que la batería da\"\"\"\n",
    "        if self.tamano_bateria == 40:\n",
    "            rango = 150\n",
    "        elif self.tamano_bateria == 65:\n",
    "            rango = 225\n",
    "        \n",
    "        print(f\"Este carro puede viajar {rango} kilometros totalmente cargado\")\n",
    "        \n",
    "    def mejorar_bateria(self):\n",
    "        if self.tamano_bateria != 65:\n",
    "            self.tamano_bateria = 65"
   ],
   "id": "5b030a020131d9a5",
   "outputs": [],
   "execution_count": 82
  },
  {
   "metadata": {
    "ExecuteTime": {
     "end_time": "2024-05-29T21:35:37.982767Z",
     "start_time": "2024-05-29T21:35:37.978721Z"
    }
   },
   "cell_type": "code",
   "source": [
    "class CarroElectrico(Carro):\n",
    "    \"\"\"Representa caracteristicas de un carro eléctrico\"\"\"\n",
    "    \n",
    "    def __init__(self, marca, modelo, anio):\n",
    "        \"\"\"Inicializa atributos de la clase padre\"\"\"\n",
    "        super().__init__(marca, modelo, anio)\n",
    "        self.bateria = Bateria()\n",
    "        \n",
    "    def llenar_tanque(self):\n",
    "        print(\"Este carro no tiene un tanque de gasolina!\")"
   ],
   "id": "f5a8fc81d0119b5e",
   "outputs": [],
   "execution_count": 83
  },
  {
   "metadata": {
    "ExecuteTime": {
     "end_time": "2024-05-29T21:36:50.366063Z",
     "start_time": "2024-05-29T21:36:50.362258Z"
    }
   },
   "cell_type": "code",
   "source": [
    "electrico1 = CarroElectrico(\"nissan\", \"leaf\", 2024)\n",
    "electrico1.bateria.describir_bateria()\n",
    "electrico1.bateria.obtener_rango()\n",
    "electrico1.bateria.mejorar_bateria()\n",
    "electrico1.bateria.describir_bateria()\n",
    "electrico1.bateria.obtener_rango()"
   ],
   "id": "bd80bd14587499df",
   "outputs": [
    {
     "name": "stdout",
     "output_type": "stream",
     "text": [
      "Este carro tiene una bateria de tamaño 40-kWh\n",
      "Este carro puede viajar 150 kilometros totalmente cargado\n",
      "Este carro tiene una bateria de tamaño 65-kWh\n",
      "Este carro puede viajar 225 kilometros totalmente cargado\n"
     ]
    }
   ],
   "execution_count": 84
  },
  {
   "metadata": {},
   "cell_type": "markdown",
   "source": "## La biblioteca Standard",
   "id": "49e07c5696caaa2"
  },
  {
   "metadata": {
    "ExecuteTime": {
     "end_time": "2024-05-29T21:39:58.493192Z",
     "start_time": "2024-05-29T21:39:58.488116Z"
    }
   },
   "cell_type": "code",
   "source": [
    "from random import randint\n",
    "\n",
    "randint(1, 6)"
   ],
   "id": "97d32691cdc119b1",
   "outputs": [
    {
     "data": {
      "text/plain": [
       "4"
      ]
     },
     "execution_count": 85,
     "metadata": {},
     "output_type": "execute_result"
    }
   ],
   "execution_count": 85
  },
  {
   "metadata": {
    "ExecuteTime": {
     "end_time": "2024-05-29T21:40:33.765162Z",
     "start_time": "2024-05-29T21:40:33.760964Z"
    }
   },
   "cell_type": "code",
   "source": [
    "from random import choice\n",
    "jugadores = [\"mateo\", \"daniela\", \"cristian\"]\n",
    "\n",
    "primero = choice(jugadores)\n",
    "primero"
   ],
   "id": "8594b33caed08a6f",
   "outputs": [
    {
     "data": {
      "text/plain": [
       "'mateo'"
      ]
     },
     "execution_count": 86,
     "metadata": {},
     "output_type": "execute_result"
    }
   ],
   "execution_count": 86
  },
  {
   "metadata": {},
   "cell_type": "markdown",
   "source": [
    "### Ejercicios \n",
    "\n",
    "1. Hacer una clase `Dado` con un atributo llamado `lados` con valor defecto 6. Escribir un método llamado `lanzar_dado`"
   ],
   "id": "bd2159609a1ebaae"
  },
  {
   "metadata": {
    "ExecuteTime": {
     "end_time": "2024-05-29T21:51:55.503644Z",
     "start_time": "2024-05-29T21:51:55.499303Z"
    }
   },
   "cell_type": "code",
   "source": [
    "class Dado:\n",
    "    \"\"\"Modelar un dado\"\"\"\n",
    "    \n",
    "    def __init__(self, lado = 6):\n",
    "        self.lado = lado\n",
    "        \n",
    "    def lanzar_dado(self):\n",
    "        self.lado = randint(1, 6)\n",
    "        print(f\"El numero del lado obtenido es: {self.lado}\")"
   ],
   "id": "6e75d4a449572a16",
   "outputs": [],
   "execution_count": 87
  },
  {
   "metadata": {
    "ExecuteTime": {
     "end_time": "2024-05-29T21:53:14.116998Z",
     "start_time": "2024-05-29T21:53:14.113364Z"
    }
   },
   "cell_type": "code",
   "source": [
    "dado = Dado()\n",
    "for i in range(1, 11):\n",
    "    dado.lanzar_dado()"
   ],
   "id": "babfd8e494a29548",
   "outputs": [
    {
     "name": "stdout",
     "output_type": "stream",
     "text": [
      "El numero del lado obtenido es: 3\n",
      "El numero del lado obtenido es: 6\n",
      "El numero del lado obtenido es: 4\n",
      "El numero del lado obtenido es: 5\n",
      "El numero del lado obtenido es: 2\n",
      "El numero del lado obtenido es: 4\n",
      "El numero del lado obtenido es: 6\n",
      "El numero del lado obtenido es: 4\n",
      "El numero del lado obtenido es: 4\n",
      "El numero del lado obtenido es: 5\n"
     ]
    }
   ],
   "execution_count": 99
  },
  {
   "metadata": {},
   "cell_type": "markdown",
   "source": "2. Lotería, crear una tupla de 10 numeros y 5 letras",
   "id": "c24ff29018aec1c2"
  },
  {
   "metadata": {
    "ExecuteTime": {
     "end_time": "2024-05-29T22:01:53.471795Z",
     "start_time": "2024-05-29T22:01:53.467286Z"
    }
   },
   "cell_type": "code",
   "source": [
    "loteria = (12, 19, 62, 1, 5, 10, 25, 29, 76, 93, \"l\", \"a\", \"r\", \"t\", \"h\")\n",
    "\n",
    "ganadores = []\n",
    "for i in range(1, 5):\n",
    "    ganadores.append(choice(loteria))\n",
    "print(\"Los números y letras ganadoras son: \", ganadores)"
   ],
   "id": "56e262f5bfdf9d3c",
   "outputs": [
    {
     "name": "stdout",
     "output_type": "stream",
     "text": [
      "Los números y letras ganadoras son:  ['a', 19, 10, 25]\n"
     ]
    }
   ],
   "execution_count": 102
  },
  {
   "metadata": {},
   "cell_type": "markdown",
   "source": "3. Crear una lista `mi_ticket`y seleccionar aleatoriamente hasta ganar con los numeros de arriba. Contar las veces que tuvimos que jugar\n",
   "id": "3b49cb7c539c3aa3"
  },
  {
   "metadata": {
    "ExecuteTime": {
     "end_time": "2024-05-29T22:09:44.841725Z",
     "start_time": "2024-05-29T22:09:44.837432Z"
    }
   },
   "cell_type": "code",
   "source": [
    "def mi_ticket(ganadores):\n",
    "    lista = []\n",
    "    i = 0\n",
    "    bandera = True\n",
    "    while bandera:\n",
    "        for _ in range(1, 5):\n",
    "            lista.append(choice(loteria))\n",
    "        i += 1\n",
    "        if lista == ganadores:\n",
    "            bandera = False\n",
    "        else: \n",
    "            lista = []\n",
    "    print(f\"Se obtuvo la lista: {lista}\")\n",
    "    print(f\"Se tuvieron que contar {i} veces\")"
   ],
   "id": "50c517b6ff856e28",
   "outputs": [],
   "execution_count": 113
  },
  {
   "metadata": {
    "ExecuteTime": {
     "end_time": "2024-05-29T22:09:53.440534Z",
     "start_time": "2024-05-29T22:09:53.398834Z"
    }
   },
   "cell_type": "code",
   "source": "mi_ticket(ganadores)",
   "id": "179cf494964f87f",
   "outputs": [
    {
     "name": "stdout",
     "output_type": "stream",
     "text": [
      "Se obtuvo la lista: ['a', 19, 10, 25]\n",
      "Se tuvieron que contar 27448 veces\n"
     ]
    }
   ],
   "execution_count": 114
  }
 ],
 "metadata": {
  "kernelspec": {
   "display_name": "Python 3",
   "language": "python",
   "name": "python3"
  },
  "language_info": {
   "codemirror_mode": {
    "name": "ipython",
    "version": 2
   },
   "file_extension": ".py",
   "mimetype": "text/x-python",
   "name": "python",
   "nbconvert_exporter": "python",
   "pygments_lexer": "ipython2",
   "version": "2.7.6"
  }
 },
 "nbformat": 4,
 "nbformat_minor": 5
}
