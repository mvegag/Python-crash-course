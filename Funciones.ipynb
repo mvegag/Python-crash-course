{
 "cells": [
  {
   "metadata": {},
   "cell_type": "markdown",
   "source": [
    "## Definir una función\n",
    "\n",
    "Una función se define con la palabra `def`"
   ],
   "id": "b58ebd34952944db"
  },
  {
   "metadata": {
    "ExecuteTime": {
     "end_time": "2024-05-26T16:04:45.257775Z",
     "start_time": "2024-05-26T16:04:45.246830Z"
    }
   },
   "cell_type": "code",
   "source": [
    "# def le dice a python que empieza una función\n",
    "def saludar_usuario():\n",
    "    \"\"\"Muestra un saludo sencillo\"\"\"\n",
    "    print(\"Hola!\")\n",
    "    \n",
    "saludar_usuario()"
   ],
   "id": "c9f5aab3883876f8",
   "outputs": [
    {
     "name": "stdout",
     "output_type": "stream",
     "text": [
      "Hola!\n"
     ]
    }
   ],
   "execution_count": 1
  },
  {
   "metadata": {},
   "cell_type": "markdown",
   "source": [
    "### Pasando información en una función\n",
    "\n",
    "La información que se necesita en una función se escribe dentro de los paréntesis."
   ],
   "id": "f1fc649f6208754d"
  },
  {
   "metadata": {
    "ExecuteTime": {
     "end_time": "2024-05-26T16:04:45.264307Z",
     "start_time": "2024-05-26T16:04:45.260794Z"
    }
   },
   "cell_type": "code",
   "source": [
    "def saludar_usuario(usuario):\n",
    "    \"\"\"Función para saludar a un usuario\"\"\"\n",
    "    print(f\"Hola {usuario.title()}!\")\n",
    "    \n",
    "saludar_usuario(\"Mateo\")"
   ],
   "id": "5fcb69317e3bc60d",
   "outputs": [
    {
     "name": "stdout",
     "output_type": "stream",
     "text": [
      "Hola Mateo!\n"
     ]
    }
   ],
   "execution_count": 2
  },
  {
   "metadata": {},
   "cell_type": "markdown",
   "source": [
    "### Argumentos y parámetros\n",
    "\n",
    "En el ejemplo anterior `usuario` es un parámetro, \"Mateo\" es un ejemplo de argumento.\n",
    "\n",
    "### Ejercicios\n",
    "\n",
    "1. Escribir una función sobre que aprendemos en este capítulo"
   ],
   "id": "dc1ab361bc714f5d"
  },
  {
   "metadata": {
    "ExecuteTime": {
     "end_time": "2024-05-26T16:04:45.284154Z",
     "start_time": "2024-05-26T16:04:45.280466Z"
    }
   },
   "cell_type": "code",
   "source": [
    "def mensaje():\n",
    "    \"\"\"Muestra un mensaje sobre el capítulo\"\"\"\n",
    "    print(\"En este capítulo aprendemos de funciones en Python.\")\n",
    "    \n",
    "mensaje()"
   ],
   "id": "913617f47a599bcf",
   "outputs": [
    {
     "name": "stdout",
     "output_type": "stream",
     "text": [
      "En este capítulo aprendemos de funciones en Python.\n"
     ]
    }
   ],
   "execution_count": 3
  },
  {
   "metadata": {},
   "cell_type": "markdown",
   "source": "2. Escribir una función `libros` que reciba un parámetro `titulo` y devuelve un mensaje.",
   "id": "c764c78a0f260782"
  },
  {
   "metadata": {
    "ExecuteTime": {
     "end_time": "2024-05-26T16:04:45.328729Z",
     "start_time": "2024-05-26T16:04:45.324831Z"
    }
   },
   "cell_type": "code",
   "source": [
    "def libros(titulo):\n",
    "    \"\"\"Imprimo un mensaje sobre el libro\"\"\"\n",
    "    print(f\"{titulo.title()} es uno de mis libros favoritos!\")\n",
    "    \n",
    "libros(\"Machine learning\")"
   ],
   "id": "5bf83b4f8572ad38",
   "outputs": [
    {
     "name": "stdout",
     "output_type": "stream",
     "text": [
      "Machine Learning es uno de mis libros favoritos!\n"
     ]
    }
   ],
   "execution_count": 4
  },
  {
   "metadata": {},
   "cell_type": "markdown",
   "source": [
    "## Pasando argumentos\n",
    "\n",
    "### Argumentos posicionales\n",
    "\n",
    "Python debe coincidir cada argumento con un parámetro, la forma mas fácil es con el orden de los parámetros."
   ],
   "id": "b878f0e83e12f963"
  },
  {
   "metadata": {
    "ExecuteTime": {
     "end_time": "2024-05-26T16:04:45.348541Z",
     "start_time": "2024-05-26T16:04:45.343800Z"
    }
   },
   "cell_type": "code",
   "source": [
    "# se necesitan pasar los argumentos en orden para que funcione la función\n",
    "\n",
    "def describir_animal(tipo_animal, nombre):\n",
    "    \"\"\"Función que muestra la información de un animal.\"\"\"\n",
    "    print(f\"\\nYo tengo un {tipo_animal}.\")\n",
    "    print(f\"El nombre de mi {tipo_animal} es {nombre.title()}.\")\n",
    "    \n",
    "describir_animal(\"gato\", \"teemo\")"
   ],
   "id": "8e6a56512204d6fb",
   "outputs": [
    {
     "name": "stdout",
     "output_type": "stream",
     "text": [
      "\n",
      "Yo tengo un gato.\n",
      "El nombre de mi gato es Teemo.\n"
     ]
    }
   ],
   "execution_count": 5
  },
  {
   "metadata": {},
   "cell_type": "markdown",
   "source": [
    "### Llamadas de función múltiples \n",
    "\n",
    "Se puede llamar una función las veces que se necesite"
   ],
   "id": "8c2ec442c0da5055"
  },
  {
   "metadata": {
    "ExecuteTime": {
     "end_time": "2024-05-26T16:04:45.365908Z",
     "start_time": "2024-05-26T16:04:45.362579Z"
    }
   },
   "cell_type": "code",
   "source": [
    "describir_animal(\"gato\", \"ahri\")\n",
    "describir_animal(\"gato\", \"tom\")"
   ],
   "id": "7ec6e560a0f37b39",
   "outputs": [
    {
     "name": "stdout",
     "output_type": "stream",
     "text": [
      "\n",
      "Yo tengo un gato.\n",
      "El nombre de mi gato es Ahri.\n",
      "\n",
      "Yo tengo un gato.\n",
      "El nombre de mi gato es Tom.\n"
     ]
    }
   ],
   "execution_count": 6
  },
  {
   "metadata": {},
   "cell_type": "markdown",
   "source": "### El orden importa",
   "id": "bb305bfbff476b13"
  },
  {
   "metadata": {
    "ExecuteTime": {
     "end_time": "2024-05-26T16:04:45.412211Z",
     "start_time": "2024-05-26T16:04:45.408789Z"
    }
   },
   "cell_type": "code",
   "source": "describir_animal(\"teemo\", \"gato\")",
   "id": "48a716339dd83a11",
   "outputs": [
    {
     "name": "stdout",
     "output_type": "stream",
     "text": [
      "\n",
      "Yo tengo un teemo.\n",
      "El nombre de mi teemo es Gato.\n"
     ]
    }
   ],
   "execution_count": 7
  },
  {
   "metadata": {},
   "cell_type": "markdown",
   "source": [
    "### Argumentos de palabras clave\n",
    "\n",
    "Se escribe el par parámetro - argumento para que no haya equivocación"
   ],
   "id": "25a3e37bc847eda3"
  },
  {
   "metadata": {
    "ExecuteTime": {
     "end_time": "2024-05-26T16:04:45.433414Z",
     "start_time": "2024-05-26T16:04:45.429884Z"
    }
   },
   "cell_type": "code",
   "source": "describir_animal(tipo_animal = \"gato\", nombre = \"teemo\")",
   "id": "b5005b02120ca652",
   "outputs": [
    {
     "name": "stdout",
     "output_type": "stream",
     "text": [
      "\n",
      "Yo tengo un gato.\n",
      "El nombre de mi gato es Teemo.\n"
     ]
    }
   ],
   "execution_count": 8
  },
  {
   "metadata": {
    "ExecuteTime": {
     "end_time": "2024-05-26T16:04:45.489602Z",
     "start_time": "2024-05-26T16:04:45.485982Z"
    }
   },
   "cell_type": "code",
   "source": "describir_animal(nombre = \"teemo\", tipo_animal = \"gato\")",
   "id": "1ed7d9fcbca4d22",
   "outputs": [
    {
     "name": "stdout",
     "output_type": "stream",
     "text": [
      "\n",
      "Yo tengo un gato.\n",
      "El nombre de mi gato es Teemo.\n"
     ]
    }
   ],
   "execution_count": 9
  },
  {
   "metadata": {},
   "cell_type": "markdown",
   "source": [
    "### Valores por defecto\n",
    "\n",
    "Se puede escribir una argumento por defecto para cada parámetro dentro de la función."
   ],
   "id": "dac0744272267d8b"
  },
  {
   "metadata": {
    "ExecuteTime": {
     "end_time": "2024-05-26T16:04:45.508172Z",
     "start_time": "2024-05-26T16:04:45.503639Z"
    }
   },
   "cell_type": "code",
   "source": [
    "# perro es el valor por defecto para tipo_animal\n",
    "# hay que cambiar el orden de los parámetros, los que tienen valor por defecto van de últimas\n",
    "\n",
    "def describir_animal(nombre, tipo_animal = \"perro\"):\n",
    "    \"\"\"Función que muestra la información de un animal.\"\"\"\n",
    "    print(f\"\\nYo tengo un {tipo_animal}.\")\n",
    "    print(f\"El nombre de mi {tipo_animal} es {nombre.title()}.\")\n",
    "    \n",
    "describir_animal(nombre = \"milka\")"
   ],
   "id": "e1ef48a9866d996c",
   "outputs": [
    {
     "name": "stdout",
     "output_type": "stream",
     "text": [
      "\n",
      "Yo tengo un perro.\n",
      "El nombre de mi perro es Milka.\n"
     ]
    }
   ],
   "execution_count": 10
  },
  {
   "metadata": {
    "ExecuteTime": {
     "end_time": "2024-05-26T16:04:45.522652Z",
     "start_time": "2024-05-26T16:04:45.518822Z"
    }
   },
   "cell_type": "code",
   "source": "describir_animal(\"milka\")",
   "id": "19383562548dc555",
   "outputs": [
    {
     "name": "stdout",
     "output_type": "stream",
     "text": [
      "\n",
      "Yo tengo un perro.\n",
      "El nombre de mi perro es Milka.\n"
     ]
    }
   ],
   "execution_count": 11
  },
  {
   "metadata": {
    "ExecuteTime": {
     "end_time": "2024-05-26T16:04:45.553118Z",
     "start_time": "2024-05-26T16:04:45.549848Z"
    }
   },
   "cell_type": "code",
   "source": [
    "# igual se puede cambiar el valor por defecto\n",
    "\n",
    "describir_animal(nombre = \"milka\", tipo_animal = \"vaca\")"
   ],
   "id": "7e798dc98c27d4e",
   "outputs": [
    {
     "name": "stdout",
     "output_type": "stream",
     "text": [
      "\n",
      "Yo tengo un vaca.\n",
      "El nombre de mi vaca es Milka.\n"
     ]
    }
   ],
   "execution_count": 12
  },
  {
   "metadata": {},
   "cell_type": "markdown",
   "source": [
    "### Llamadas equivalentes\n",
    "\n",
    "Con todas estas opciones de argumentos, se pueden tener varias formas de llamar la función de la misma manera"
   ],
   "id": "a885e5f6cab6d143"
  },
  {
   "metadata": {
    "ExecuteTime": {
     "end_time": "2024-05-26T16:04:45.576815Z",
     "start_time": "2024-05-26T16:04:45.572744Z"
    }
   },
   "cell_type": "code",
   "source": [
    "describir_animal(\"milka\")\n",
    "\n",
    "describir_animal(nombre = \"milka\")"
   ],
   "id": "62f0fd25d0d26eef",
   "outputs": [
    {
     "name": "stdout",
     "output_type": "stream",
     "text": [
      "\n",
      "Yo tengo un perro.\n",
      "El nombre de mi perro es Milka.\n",
      "\n",
      "Yo tengo un perro.\n",
      "El nombre de mi perro es Milka.\n"
     ]
    }
   ],
   "execution_count": 13
  },
  {
   "metadata": {
    "ExecuteTime": {
     "end_time": "2024-05-26T16:04:45.625936Z",
     "start_time": "2024-05-26T16:04:45.622462Z"
    }
   },
   "cell_type": "code",
   "source": [
    "describir_animal(\"teemo\", \"gato\")\n",
    "describir_animal(nombre = \"teemo\", tipo_animal = \"gato\")\n",
    "describir_animal(tipo_animal = \"gato\", nombre = \"teemo\")"
   ],
   "id": "acf470f324ac636c",
   "outputs": [
    {
     "name": "stdout",
     "output_type": "stream",
     "text": [
      "\n",
      "Yo tengo un gato.\n",
      "El nombre de mi gato es Teemo.\n",
      "\n",
      "Yo tengo un gato.\n",
      "El nombre de mi gato es Teemo.\n",
      "\n",
      "Yo tengo un gato.\n",
      "El nombre de mi gato es Teemo.\n"
     ]
    }
   ],
   "execution_count": 14
  },
  {
   "metadata": {},
   "cell_type": "markdown",
   "source": [
    "### Ejercicios\n",
    "\n",
    "1. Una función que reciba la talla de una camisa y un mensaje"
   ],
   "id": "cbc21e68cccd1b96"
  },
  {
   "metadata": {
    "ExecuteTime": {
     "end_time": "2024-05-26T16:04:45.643716Z",
     "start_time": "2024-05-26T16:04:45.640067Z"
    }
   },
   "cell_type": "code",
   "source": [
    "def hacer_camisa(talla, mensaje):\n",
    "    \"\"\"Imprime el mensaje en la camisa\"\"\"\n",
    "    print(f\"La camisa talla {talla} con el mensaje impreso: '{mensaje}' está lista.\")\n",
    "    \n",
    "hacer_camisa(\"L\", \"Hola soy autista!\")"
   ],
   "id": "be14025b5da096e1",
   "outputs": [
    {
     "name": "stdout",
     "output_type": "stream",
     "text": [
      "La camisa talla L con el mensaje impreso: 'Hola soy autista!' está lista.\n"
     ]
    }
   ],
   "execution_count": 15
  },
  {
   "metadata": {
    "ExecuteTime": {
     "end_time": "2024-05-26T16:04:45.659022Z",
     "start_time": "2024-05-26T16:04:45.655298Z"
    }
   },
   "cell_type": "code",
   "source": "hacer_camisa(mensaje = \"Hola soy Mateo!\", talla = \"M\")",
   "id": "6f1045edd7ec7589",
   "outputs": [
    {
     "name": "stdout",
     "output_type": "stream",
     "text": [
      "La camisa talla M con el mensaje impreso: 'Hola soy Mateo!' está lista.\n"
     ]
    }
   ],
   "execution_count": 16
  },
  {
   "metadata": {},
   "cell_type": "markdown",
   "source": "2. Modificar para que la talla por defecto sea L y el mensaje sea: 'me gusta python'",
   "id": "cc6eca5e41d79beb"
  },
  {
   "metadata": {
    "ExecuteTime": {
     "end_time": "2024-05-26T16:04:45.711038Z",
     "start_time": "2024-05-26T16:04:45.707142Z"
    }
   },
   "cell_type": "code",
   "source": [
    "def hacer_camisa(talla = \"L\", mensaje = \"Me gusta Python!\"):\n",
    "    \"\"\"Imprime el mensaje en la camisa\"\"\"\n",
    "    print(f\"La camisa talla {talla} con el mensaje impreso: '{mensaje}' está lista.\")\n",
    "    \n",
    "hacer_camisa()\n",
    "hacer_camisa(talla = \"M\")\n",
    "hacer_camisa(mensaje = \"Me gusta Rust!\")"
   ],
   "id": "7960aa6ba9e23cbf",
   "outputs": [
    {
     "name": "stdout",
     "output_type": "stream",
     "text": [
      "La camisa talla L con el mensaje impreso: 'Me gusta Python!' está lista.\n",
      "La camisa talla M con el mensaje impreso: 'Me gusta Python!' está lista.\n",
      "La camisa talla L con el mensaje impreso: 'Me gusta Rust!' está lista.\n"
     ]
    }
   ],
   "execution_count": 17
  },
  {
   "metadata": {},
   "cell_type": "markdown",
   "source": "3. Una función que reciba el nombre de una ciudad, el pais y devuelva una frase",
   "id": "ba5ae1a7ed87ef72"
  },
  {
   "metadata": {
    "ExecuteTime": {
     "end_time": "2024-05-26T16:04:45.728266Z",
     "start_time": "2024-05-26T16:04:45.723627Z"
    }
   },
   "cell_type": "code",
   "source": [
    "def ciudad(pais, ciudad):\n",
    "    \"\"\"Crea un mensaje sobre la ciudad y el pais\"\"\"\n",
    "    print(f\"La ciudad {ciudad.title()} queda en {pais.title()}.\")\n",
    "\n",
    "ciudad(\"Colombia\", \"Bogotá\")\n",
    "ciudad(ciudad = \"quito\", pais = \"ecuador\")\n",
    "ciudad(pais = \"perú\", ciudad = \"lima\")"
   ],
   "id": "deec2d9fc2d6a36a",
   "outputs": [
    {
     "name": "stdout",
     "output_type": "stream",
     "text": [
      "La ciudad Bogotá queda en Colombia.\n",
      "La ciudad Quito queda en Ecuador.\n",
      "La ciudad Lima queda en Perú.\n"
     ]
    }
   ],
   "execution_count": 18
  },
  {
   "metadata": {},
   "cell_type": "markdown",
   "source": [
    "## Devolver valores\n",
    "\n",
    "### Devolver un valor simple\n"
   ],
   "id": "1cb57f234bae9165"
  },
  {
   "metadata": {
    "ExecuteTime": {
     "end_time": "2024-05-26T16:04:45.756078Z",
     "start_time": "2024-05-26T16:04:45.751883Z"
    }
   },
   "cell_type": "code",
   "source": [
    "def nombre_formato(nombre, apellido):\n",
    "    \"\"\"Devuelve un nombre con el formato adecuado\"\"\"\n",
    "    nombre_completo = f\"{nombre} {apellido}\"\n",
    "    return nombre_completo.title()\n",
    "\n",
    "musico = nombre_formato(\"frank\", \"ocean\")\n",
    "print(musico)"
   ],
   "id": "1736e4c4da92e064",
   "outputs": [
    {
     "name": "stdout",
     "output_type": "stream",
     "text": [
      "Frank Ocean\n"
     ]
    }
   ],
   "execution_count": 19
  },
  {
   "metadata": {},
   "cell_type": "markdown",
   "source": [
    "### Convertir un argumento en opcional\n",
    "\n",
    "Funciona cuando hay un argumento que puede ser usado en algunos casos y en otros no es necesario."
   ],
   "id": "1ee4d905e248efc8"
  },
  {
   "metadata": {
    "ExecuteTime": {
     "end_time": "2024-05-26T16:04:45.775291Z",
     "start_time": "2024-05-26T16:04:45.770782Z"
    }
   },
   "cell_type": "code",
   "source": [
    "def nombre_formato(nombre, segundo_nombre, apellido):\n",
    "    \"\"\"Devuelve un nombre con el formato adecuado\"\"\"\n",
    "    nombre_completo = f\"{nombre} {segundo_nombre} {apellido}\"\n",
    "    return nombre_completo.title()\n",
    "\n",
    "musico = nombre_formato(\"john\", \"lee\", \"hooker\")\n",
    "print(musico)"
   ],
   "id": "dee77fc03222ccd4",
   "outputs": [
    {
     "name": "stdout",
     "output_type": "stream",
     "text": [
      "John Lee Hooker\n"
     ]
    }
   ],
   "execution_count": 20
  },
  {
   "metadata": {
    "ExecuteTime": {
     "end_time": "2024-05-26T16:04:45.826793Z",
     "start_time": "2024-05-26T16:04:45.822279Z"
    }
   },
   "cell_type": "code",
   "source": [
    "# queremos que el segundo nombre sea opcional\n",
    "\n",
    "def nombre_formato(nombre, apellido, segundo_nombre = \"\"):\n",
    "    \"\"\"Devuelve un nombre con el formato adecuado\"\"\"\n",
    "    if segundo_nombre:\n",
    "        nombre_completo = f\"{nombre} {segundo_nombre} {apellido}\"\n",
    "    else:\n",
    "        nombre_completo = f\"{nombre} {apellido}\"\n",
    "    return nombre_completo.title()\n",
    "\n",
    "musico = nombre_formato(\"frank\", \"ocean\")\n",
    "print(musico)\n",
    "\n",
    "musico = nombre_formato(\"john\", \"lee\", \"hooker\")\n",
    "print(musico)"
   ],
   "id": "a2a19ead4ffb7463",
   "outputs": [
    {
     "name": "stdout",
     "output_type": "stream",
     "text": [
      "Frank Ocean\n",
      "John Hooker Lee\n"
     ]
    }
   ],
   "execution_count": 21
  },
  {
   "metadata": {},
   "cell_type": "markdown",
   "source": [
    "### Devolver un diccionario\n",
    "\n",
    "Una función puede devolver cualquier objeto"
   ],
   "id": "7054b9d9a927f3db"
  },
  {
   "metadata": {
    "ExecuteTime": {
     "end_time": "2024-05-26T16:07:46.275364Z",
     "start_time": "2024-05-26T16:07:46.271438Z"
    }
   },
   "cell_type": "code",
   "source": [
    "def construir_persona(nombre, apellido):\n",
    "    \"\"\"Devolver un diccionario de información sobre una persona\"\"\"\n",
    "    persona = {\"nombre\": nombre, \"apellido\": apellido}\n",
    "    return persona\n",
    "\n",
    "musico = construir_persona(\"frank\", \"ocean\")\n",
    "print(musico)"
   ],
   "id": "cdce9af6ba697c06",
   "outputs": [
    {
     "name": "stdout",
     "output_type": "stream",
     "text": [
      "{'nombre': 'frank', 'apellido': 'ocean'}\n"
     ]
    }
   ],
   "execution_count": 22
  },
  {
   "metadata": {
    "ExecuteTime": {
     "end_time": "2024-05-26T16:11:40.737083Z",
     "start_time": "2024-05-26T16:11:40.733067Z"
    }
   },
   "cell_type": "code",
   "source": [
    "def construir_persona(nombre, apellido, edad = None):\n",
    "    \"\"\"Devuelve un diccionario de información sobre una persona\"\"\"\n",
    "    persona = {\"nombre\": nombre, \"apellido\": apellido}\n",
    "    if edad:\n",
    "        persona[\"edad\"] = edad\n",
    "    return persona\n",
    "\n",
    "musico = construir_persona(\"frank\", \"ocean\", 35)\n",
    "print(musico)"
   ],
   "id": "6ad6bfa089cb6845",
   "outputs": [
    {
     "name": "stdout",
     "output_type": "stream",
     "text": [
      "{'nombre': 'frank', 'apellido': 'ocean', 'edad': 35}\n"
     ]
    }
   ],
   "execution_count": 23
  },
  {
   "metadata": {},
   "cell_type": "markdown",
   "source": "### Usando una función con un loop while\n",
   "id": "6922e494fab8bf5"
  },
  {
   "metadata": {
    "ExecuteTime": {
     "end_time": "2024-05-26T16:18:32.703020Z",
     "start_time": "2024-05-26T16:18:04.749207Z"
    }
   },
   "cell_type": "code",
   "source": [
    "def obtener_nombre(nombre, apellido):\n",
    "    \"\"\"Devuelve un nombre completo, formateado\"\"\"\n",
    "    nombre_completo = f\"{nombre} {apellido}\"\n",
    "    return nombre_completo.title()\n",
    "\n",
    "while True:\n",
    "    print(\"\\nDime tu nombre: \")\n",
    "    print(\"(Entra 'q' en cualquier momento para salir del programa)\")\n",
    "    \n",
    "    f_nombre = input(\"Primer nombre: \")\n",
    "    if f_nombre == \"q\":\n",
    "        break\n",
    "        \n",
    "    l_nombre = input(\"Apellido: \")\n",
    "    if l_nombre == \"q\":\n",
    "        break\n",
    "        \n",
    "    nombre_formateado = obtener_nombre(f_nombre, l_nombre)\n",
    "    print(f\"\\nHola, {nombre_formateado}\")"
   ],
   "id": "8743d4e6b894d1cf",
   "outputs": [
    {
     "name": "stdout",
     "output_type": "stream",
     "text": [
      "\n",
      "Dime tu nombre: \n",
      "(Entra 'q' en cualquier momento para salir del programa)\n",
      "\n",
      "Hola, Mateo Vega\n",
      "\n",
      "Dime tu nombre: \n",
      "(Entra 'q' en cualquier momento para salir del programa)\n",
      "\n",
      "Hola, Mateo Vega\n",
      "\n",
      "Dime tu nombre: \n",
      "(Entra 'q' en cualquier momento para salir del programa)\n"
     ]
    }
   ],
   "execution_count": 25
  },
  {
   "metadata": {},
   "cell_type": "markdown",
   "source": [
    "### Ejercicios\n",
    "\n",
    "1. Una función que reciba una ciudad y un pais que devuelva \"ciudad, pais\""
   ],
   "id": "2d302173f7414c31"
  },
  {
   "metadata": {
    "ExecuteTime": {
     "end_time": "2024-05-26T22:20:59.235178Z",
     "start_time": "2024-05-26T22:20:59.231946Z"
    }
   },
   "cell_type": "code",
   "source": [
    "def ciudad_pais(ciudad, pais):\n",
    "    \"\"\"Devuelve la ciudad, pais\"\"\"\n",
    "    return f\"{ciudad.title()}, {pais.title()}\""
   ],
   "id": "3dbe0826a99f3c40",
   "outputs": [],
   "execution_count": 29
  },
  {
   "metadata": {
    "ExecuteTime": {
     "end_time": "2024-05-26T22:21:01.293246Z",
     "start_time": "2024-05-26T22:21:01.289287Z"
    }
   },
   "cell_type": "code",
   "source": "ciudad_pais(\"bogota\", \"colombia\")",
   "id": "3b9100287fc198b8",
   "outputs": [
    {
     "data": {
      "text/plain": [
       "'Bogota, Colombia'"
      ]
     },
     "execution_count": 30,
     "metadata": {},
     "output_type": "execute_result"
    }
   ],
   "execution_count": 30
  }
 ],
 "metadata": {
  "kernelspec": {
   "display_name": "Python 3",
   "language": "python",
   "name": "python3"
  },
  "language_info": {
   "codemirror_mode": {
    "name": "ipython",
    "version": 2
   },
   "file_extension": ".py",
   "mimetype": "text/x-python",
   "name": "python",
   "nbconvert_exporter": "python",
   "pygments_lexer": "ipython2",
   "version": "2.7.6"
  }
 },
 "nbformat": 4,
 "nbformat_minor": 5
}
