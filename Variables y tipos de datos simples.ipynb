{
 "cells": [
  {
   "cell_type": "markdown",
   "source": [
    "## Variables\n",
    "\n",
    "* Qué es una variable?\n",
    "\n",
    "Una variable es un tipo de objeto en python al cual se le pueden asignar diferentes valores, la cual se guarda en la memoria.\n",
    "\n",
    "* Cuales son las reglas para nombrar una variable?\n",
    "\n",
    "Nombrar la variable lo más descriptiva posible, usar _ o mayúsculas para separar palabras."
   ],
   "metadata": {
    "collapsed": false
   },
   "id": "6d3aec51fadcce29"
  },
  {
   "cell_type": "code",
   "execution_count": 2,
   "id": "initial_id",
   "metadata": {
    "collapsed": true,
    "ExecuteTime": {
     "end_time": "2024-04-02T11:54:36.642435Z",
     "start_time": "2024-04-02T11:54:36.638792Z"
    }
   },
   "outputs": [
    {
     "name": "stdout",
     "output_type": "stream",
     "text": [
      "Hola mundo!\n",
      "Hola Python!\n"
     ]
    }
   ],
   "source": [
    "mensaje = \"Hola mundo!\"\n",
    "print(mensaje)\n",
    "\n",
    "mensaje = \"Hola Python!\"\n",
    "print(mensaje)"
   ]
  },
  {
   "cell_type": "markdown",
   "source": [
    "## Cadenas\n",
    "\n",
    "* Qué es una cadena?\n",
    "\n",
    "Una cadena es un tipo de objeto en Python que se lee como un conjunto de letras, se almacena literalmente como los carácteres que se encuentran dentro de la cadena."
   ],
   "metadata": {
    "collapsed": false
   },
   "id": "c6e30ba950483f83"
  },
  {
   "cell_type": "code",
   "outputs": [
    {
     "data": {
      "text/plain": "'Le dije a mi amigo, \"Python es mi lenguaje favorito\"'"
     },
     "execution_count": 4,
     "metadata": {},
     "output_type": "execute_result"
    }
   ],
   "source": [
    "\"Esto es una cadena\"\n",
    "'Esto es una cadena'\n",
    "'Le dije a mi amigo, \"Python es mi lenguaje favorito\"'"
   ],
   "metadata": {
    "collapsed": false,
    "ExecuteTime": {
     "end_time": "2024-04-02T12:07:46.961830Z",
     "start_time": "2024-04-02T12:07:46.958079Z"
    }
   },
   "id": "c753f07b895fda4e",
   "execution_count": 4
  },
  {
   "cell_type": "markdown",
   "source": [
    "### Cambiando la mayuscula en una cadena con métodos"
   ],
   "metadata": {
    "collapsed": false
   },
   "id": "3be9606ca63b0ba0"
  },
  {
   "cell_type": "code",
   "outputs": [
    {
     "name": "stdout",
     "output_type": "stream",
     "text": [
      "Mateo Vega\n"
     ]
    }
   ],
   "source": [
    "nombre = \"mateo vega\"\n",
    "print(nombre.title())"
   ],
   "metadata": {
    "collapsed": false,
    "ExecuteTime": {
     "end_time": "2024-04-02T12:09:13.538003Z",
     "start_time": "2024-04-02T12:09:13.534708Z"
    }
   },
   "id": "bac1795250996a6b",
   "execution_count": 5
  },
  {
   "cell_type": "markdown",
   "source": [
    "* Qué es un método?\n",
    "\n",
    "Un método es una función asociada a una clase que se puede acceder con un . después del nombre del objeto, por ejemplo `nombre.title()` es un método de la clase string."
   ],
   "metadata": {
    "collapsed": false
   },
   "id": "1d234d6dcddd531"
  },
  {
   "cell_type": "code",
   "outputs": [
    {
     "name": "stdout",
     "output_type": "stream",
     "text": [
      "MATEO VEGA\n",
      "mateo vega\n"
     ]
    }
   ],
   "source": [
    "print(nombre.upper())\n",
    "print(nombre.lower())"
   ],
   "metadata": {
    "collapsed": false,
    "ExecuteTime": {
     "end_time": "2024-04-02T12:10:54.562029Z",
     "start_time": "2024-04-02T12:10:54.558464Z"
    }
   },
   "id": "b54669572cd3ab8f",
   "execution_count": 7
  },
  {
   "cell_type": "markdown",
   "source": [
    "### Usando variables en cadenas\n"
   ],
   "metadata": {
    "collapsed": false
   },
   "id": "2c28c645fd07018d"
  },
  {
   "cell_type": "code",
   "outputs": [
    {
     "name": "stdout",
     "output_type": "stream",
     "text": [
      "mateo vega\n"
     ]
    }
   ],
   "source": [
    "primer_nombre = \"mateo\"\n",
    "apellido = \"vega\"\n",
    "\n",
    "nombre_completo = f\"{primer_nombre} {apellido}\"\n",
    "print(nombre_completo)"
   ],
   "metadata": {
    "collapsed": false,
    "ExecuteTime": {
     "end_time": "2024-04-02T12:12:23.283011Z",
     "start_time": "2024-04-02T12:12:23.279438Z"
    }
   },
   "id": "78348a29b789b0c6",
   "execution_count": 8
  },
  {
   "cell_type": "markdown",
   "source": [
    "* Como se llama el tipo de cadena anterior?\n",
    "\n",
    "Esto es una cadena con variable adentro, se llama una cadena f. (f string)"
   ],
   "metadata": {
    "collapsed": false
   },
   "id": "903f2b41547c72b8"
  },
  {
   "cell_type": "code",
   "outputs": [
    {
     "name": "stdout",
     "output_type": "stream",
     "text": [
      "Hola, Mateo Vega!\n"
     ]
    }
   ],
   "source": [
    "print(f\"Hola, {nombre_completo.title()}!\")"
   ],
   "metadata": {
    "collapsed": false,
    "ExecuteTime": {
     "end_time": "2024-04-02T12:13:51.612592Z",
     "start_time": "2024-04-02T12:13:51.609865Z"
    }
   },
   "id": "a9aa23513194d844",
   "execution_count": 9
  },
  {
   "cell_type": "code",
   "outputs": [
    {
     "name": "stdout",
     "output_type": "stream",
     "text": [
      "Hola, Mateo Vega!\n"
     ]
    }
   ],
   "source": [
    "mensaje = f\"Hola, {nombre_completo.title()}!\"\n",
    "print(mensaje)"
   ],
   "metadata": {
    "collapsed": false,
    "ExecuteTime": {
     "end_time": "2024-04-02T12:14:36.442543Z",
     "start_time": "2024-04-02T12:14:36.439412Z"
    }
   },
   "id": "b868b0b9dca22bb2",
   "execution_count": 11
  },
  {
   "cell_type": "markdown",
   "source": [
    "### Agregando espacios blancos a las cadenas con tabs o nuevas lineas\n"
   ],
   "metadata": {
    "collapsed": false
   },
   "id": "c63155aacc25d4e9"
  },
  {
   "cell_type": "code",
   "outputs": [
    {
     "name": "stdout",
     "output_type": "stream",
     "text": [
      "Python\n",
      "\tPython\n"
     ]
    }
   ],
   "source": [
    "print(\"Python\")\n",
    "print(\"\\tPython\")"
   ],
   "metadata": {
    "collapsed": false,
    "ExecuteTime": {
     "end_time": "2024-04-02T12:16:06.358129Z",
     "start_time": "2024-04-02T12:16:06.355482Z"
    }
   },
   "id": "522a1e2a06932ef5",
   "execution_count": 12
  },
  {
   "cell_type": "code",
   "outputs": [
    {
     "name": "stdout",
     "output_type": "stream",
     "text": [
      "Lenguajes:\n",
      "Python\n",
      "C\n",
      "JavaScript\n",
      "R\n"
     ]
    }
   ],
   "source": [
    "print(\"Lenguajes:\\nPython\\nC\\nJavaScript\\nR\")"
   ],
   "metadata": {
    "collapsed": false,
    "ExecuteTime": {
     "end_time": "2024-04-02T12:16:44.292280Z",
     "start_time": "2024-04-02T12:16:44.288815Z"
    }
   },
   "id": "e361b2c488b74146",
   "execution_count": 13
  },
  {
   "cell_type": "code",
   "outputs": [
    {
     "name": "stdout",
     "output_type": "stream",
     "text": [
      "Lenguajes:\n",
      "\tPython\n",
      "\tC\n",
      "\tJavaScript\n",
      "\tR\n"
     ]
    }
   ],
   "source": [
    "print(\"Lenguajes:\\n\\tPython\\n\\tC\\n\\tJavaScript\\n\\tR\")"
   ],
   "metadata": {
    "collapsed": false,
    "ExecuteTime": {
     "end_time": "2024-04-02T12:17:17.837061Z",
     "start_time": "2024-04-02T12:17:17.834147Z"
    }
   },
   "id": "449a700fb4e465d4",
   "execution_count": 14
  },
  {
   "cell_type": "markdown",
   "source": [
    "### Espacios en blanco\n"
   ],
   "metadata": {
    "collapsed": false
   },
   "id": "43ceaf1bc52df4e0"
  },
  {
   "cell_type": "code",
   "outputs": [
    {
     "data": {
      "text/plain": "'Python '"
     },
     "execution_count": 15,
     "metadata": {},
     "output_type": "execute_result"
    }
   ],
   "source": [
    "lenguaje_favorito = \"Python \"\n",
    "lenguaje_favorito"
   ],
   "metadata": {
    "collapsed": false,
    "ExecuteTime": {
     "end_time": "2024-04-02T12:18:44.636104Z",
     "start_time": "2024-04-02T12:18:44.632271Z"
    }
   },
   "id": "c49ee10ece448736",
   "execution_count": 15
  },
  {
   "cell_type": "code",
   "outputs": [
    {
     "data": {
      "text/plain": "'Python'"
     },
     "execution_count": 16,
     "metadata": {},
     "output_type": "execute_result"
    }
   ],
   "source": [
    "lenguaje_favorito.rstrip()"
   ],
   "metadata": {
    "collapsed": false,
    "ExecuteTime": {
     "end_time": "2024-04-02T12:18:56.404335Z",
     "start_time": "2024-04-02T12:18:56.400314Z"
    }
   },
   "id": "7c239cd0039d9f60",
   "execution_count": 16
  },
  {
   "cell_type": "code",
   "outputs": [
    {
     "data": {
      "text/plain": "'Python '"
     },
     "execution_count": 17,
     "metadata": {},
     "output_type": "execute_result"
    }
   ],
   "source": [
    "lenguaje_favorito"
   ],
   "metadata": {
    "collapsed": false,
    "ExecuteTime": {
     "end_time": "2024-04-02T12:19:41.781052Z",
     "start_time": "2024-04-02T12:19:41.777391Z"
    }
   },
   "id": "547f0542e3547557",
   "execution_count": 17
  },
  {
   "cell_type": "code",
   "outputs": [
    {
     "data": {
      "text/plain": "'Python'"
     },
     "execution_count": 18,
     "metadata": {},
     "output_type": "execute_result"
    }
   ],
   "source": [
    "lenguaje_favorito = \"Python \"\n",
    "lenguaje_favorito = lenguaje_favorito.rstrip()\n",
    "lenguaje_favorito"
   ],
   "metadata": {
    "collapsed": false,
    "ExecuteTime": {
     "end_time": "2024-04-02T12:20:02.066971Z",
     "start_time": "2024-04-02T12:20:02.063256Z"
    }
   },
   "id": "b19380b654d6da05",
   "execution_count": 18
  },
  {
   "cell_type": "code",
   "outputs": [
    {
     "name": "stdout",
     "output_type": "stream",
     "text": [
      " Python\n",
      "Python \n",
      "Python\n"
     ]
    }
   ],
   "source": [
    "lenguaje = \" Python \"\n",
    "print(lenguaje.rstrip())\n",
    "print(lenguaje.lstrip())\n",
    "print(lenguaje.strip())"
   ],
   "metadata": {
    "collapsed": false,
    "ExecuteTime": {
     "end_time": "2024-04-02T12:21:39.070780Z",
     "start_time": "2024-04-02T12:21:39.066664Z"
    }
   },
   "id": "b2cef6cc4f7555dc",
   "execution_count": 19
  },
  {
   "cell_type": "markdown",
   "source": [
    "### Quitando prefijos\n"
   ],
   "metadata": {
    "collapsed": false
   },
   "id": "65cd90a059d1eaf2"
  },
  {
   "cell_type": "code",
   "outputs": [
    {
     "data": {
      "text/plain": "'nostarch.com'"
     },
     "execution_count": 20,
     "metadata": {},
     "output_type": "execute_result"
    }
   ],
   "source": [
    "nostarch_url = 'https://nostarch.com'\n",
    "nostarch_url.removeprefix('https://')"
   ],
   "metadata": {
    "collapsed": false,
    "ExecuteTime": {
     "end_time": "2024-04-02T12:22:52.123526Z",
     "start_time": "2024-04-02T12:22:52.119376Z"
    }
   },
   "id": "5e7132a0b345272e",
   "execution_count": 20
  },
  {
   "cell_type": "markdown",
   "source": [
    "### Evitando errores de sintaxis con cadenas\n",
    "\n",
    "* Qué es un error de sintaxis?\n",
    "\n",
    "Un error de sintaxis es un error de escritura básica en el código"
   ],
   "metadata": {
    "collapsed": false
   },
   "id": "a24bae30e951b0bf"
  },
  {
   "cell_type": "code",
   "outputs": [
    {
     "ename": "SyntaxError",
     "evalue": "unterminated string literal (detected at line 1) (1120752726.py, line 1)",
     "output_type": "error",
     "traceback": [
      "\u001B[1;36m  Cell \u001B[1;32mIn[21], line 1\u001B[1;36m\u001B[0m\n\u001B[1;33m    mensaje = 'One of Python's strengths is its diver community'\u001B[0m\n\u001B[1;37m                                                               ^\u001B[0m\n\u001B[1;31mSyntaxError\u001B[0m\u001B[1;31m:\u001B[0m unterminated string literal (detected at line 1)\n"
     ]
    }
   ],
   "source": [
    "mensaje = 'One of Python's strengths is its diver community'\n",
    "print(mensaje)"
   ],
   "metadata": {
    "collapsed": false,
    "ExecuteTime": {
     "end_time": "2024-04-02T12:26:30.471879Z",
     "start_time": "2024-04-02T12:26:30.467801Z"
    }
   },
   "id": "2bc4143bb35fb1e7",
   "execution_count": 21
  },
  {
   "cell_type": "code",
   "outputs": [
    {
     "name": "stdout",
     "output_type": "stream",
     "text": [
      "Hola Mateo, hora de aprender Python\n",
      "Mateo Vega\n",
      "Albert Einstein una vez dijo, \"Una persona que nunca se equivoca nunca ha probado algo nuevo\"\n",
      "Albert Einstein una vez dijo, \"Una persona que nunca se equivoca nunca ha probado algo nuevo\"\n",
      "Mis amigos: \n",
      "\tDaniela \n",
      "\tCristian \n",
      "\tKevin \n",
      "\tSebastian\n",
      "archivo\n"
     ]
    }
   ],
   "source": [
    "# mensaje personal\n",
    "\n",
    "nombre = \"Mateo\"\n",
    "print(f\"Hola {nombre}, hora de aprender Python\")\n",
    "\n",
    "# Name case\n",
    "\n",
    "nombre = \"mateo vega\"\n",
    "print(nombre.title())\n",
    "\n",
    "# Frase famosa\n",
    "\n",
    "print('Albert Einstein una vez dijo, \"Una persona que nunca se equivoca nunca ha probado algo nuevo\"')\n",
    "\n",
    "# Frase famosa 2\n",
    "\n",
    "autor = \"Albert Einstein\"\n",
    "print(f'{autor} una vez dijo, \"Una persona que nunca se equivoca nunca ha probado algo nuevo\"')\n",
    "\n",
    "# Stripping nombres\n",
    "\n",
    "print(\"Mis amigos: \\n\\tDaniela \\n\\tCristian \\n\\tKevin \\n\\tSebastian\")\n",
    "\n",
    "# Extensiones de archivo\n",
    "\n",
    "nombre_archivo = \"archivo.txt\"\n",
    "print(nombre_archivo.removesuffix(\".txt\"))"
   ],
   "metadata": {
    "collapsed": false,
    "ExecuteTime": {
     "end_time": "2024-04-02T12:42:12.538810Z",
     "start_time": "2024-04-02T12:42:12.534069Z"
    }
   },
   "id": "15cc950ff0632480",
   "execution_count": 29
  },
  {
   "cell_type": "markdown",
   "source": [
    "## Números\n",
    "\n",
    "* Cuales son los tipos de números que maneja Python?\n",
    "\n",
    "Python maneja enteros, floats (decimales).\n",
    "\n",
    "* Cual es el problema con los números flotantes?\n",
    "\n",
    "Los números flotantes no son exactos, pueden tener residuos después de muchos decimales lo cual los hace inexactos.\n",
    "\n",
    "* Qué se obtiene al mezclar tipos de números?\n",
    "\n",
    "Al mezclar números se obtiene un flotante la mayoría de veces."
   ],
   "metadata": {
    "collapsed": false
   },
   "id": "4153674cce406706"
  },
  {
   "cell_type": "code",
   "outputs": [
    {
     "data": {
      "text/plain": "4.0"
     },
     "execution_count": 30,
     "metadata": {},
     "output_type": "execute_result"
    }
   ],
   "source": [
    "(2 + 3) * 4 / 5"
   ],
   "metadata": {
    "collapsed": false,
    "ExecuteTime": {
     "end_time": "2024-04-02T13:17:42.235108Z",
     "start_time": "2024-04-02T13:17:42.229286Z"
    }
   },
   "id": "d20c97e707aead78",
   "execution_count": 30
  },
  {
   "cell_type": "markdown",
   "source": [
    "### Barra al piso en números\n",
    "\n",
    "* Cómo funciona?\n",
    "\n",
    "La barrar al piso funciona como separador visual de números, pero python entiende el número sin la barra, es algo visual."
   ],
   "metadata": {
    "collapsed": false
   },
   "id": "ecc6fa5cba6c7bb7"
  },
  {
   "cell_type": "code",
   "outputs": [
    {
     "name": "stdout",
     "output_type": "stream",
     "text": [
      "14000000000\n"
     ]
    }
   ],
   "source": [
    "edad_universo = 14_000_000_000\n",
    "print(edad_universo)"
   ],
   "metadata": {
    "collapsed": false,
    "ExecuteTime": {
     "end_time": "2024-04-02T13:20:52.196352Z",
     "start_time": "2024-04-02T13:20:52.193073Z"
    }
   },
   "id": "b24712c4e25fea40",
   "execution_count": 31
  },
  {
   "cell_type": "markdown",
   "source": [
    "### Asignación multiple\n"
   ],
   "metadata": {
    "collapsed": false
   },
   "id": "be93d962b84783ca"
  },
  {
   "cell_type": "code",
   "outputs": [],
   "source": [
    "x, y, z = 0, 0, 0"
   ],
   "metadata": {
    "collapsed": false
   },
   "id": "e6906e29181aeb64",
   "execution_count": null
  },
  {
   "cell_type": "markdown",
   "source": [
    "### Constantes \n",
    "\n",
    "* Qué es?\n",
    "\n",
    "Las constantes son valores que se asignan a una variable que permanece sin cambiar siempre.\n",
    "\n",
    "* Como los expresan?\n",
    "\n",
    "Se suelen escribir en mayúsculas."
   ],
   "metadata": {
    "collapsed": false
   },
   "id": "317442e71a5a6aba"
  },
  {
   "cell_type": "code",
   "outputs": [],
   "source": [
    "MAX = 5_000"
   ],
   "metadata": {
    "collapsed": false,
    "ExecuteTime": {
     "end_time": "2024-04-02T13:24:08.753103Z",
     "start_time": "2024-04-02T13:24:08.749560Z"
    }
   },
   "id": "c56af94df6eb35c1",
   "execution_count": 32
  },
  {
   "cell_type": "code",
   "outputs": [
    {
     "name": "stdout",
     "output_type": "stream",
     "text": [
      "8\n",
      "8\n",
      "8.0\n",
      "8\n",
      "8\n",
      "Nací en el año 1997\n"
     ]
    }
   ],
   "source": [
    "## Numero 8\n",
    "\n",
    "print(4+4)\n",
    "print(4*2)\n",
    "print(16/2)\n",
    "print(28 - 20)\n",
    "print(28%20)\n",
    "\n",
    "# numero favorito\n",
    "\n",
    "favorito = 1997\n",
    "print(f\"Nací en el año {favorito}\")"
   ],
   "metadata": {
    "collapsed": false,
    "ExecuteTime": {
     "end_time": "2024-04-02T13:25:30.561208Z",
     "start_time": "2024-04-02T13:25:30.555942Z"
    }
   },
   "id": "e382b702b4045871",
   "execution_count": 34
  },
  {
   "cell_type": "markdown",
   "source": [
    "## Comentarios\n",
    "\n",
    "* Por qué son útiles?\n",
    "\n",
    "Los comentarios son útiles ya que ayudan a no olvidar el código que se escribe, ayudan a otras personas a entender lo que se está haciendo, se debería comentar todo el código que sea algo difícil de entender para otras personas.\n",
    "\n",
    "* Qué tipo de comentarios se deberían hacer?\n",
    "\n",
    "Se deberían hacer comentarios explicativos de por qué se hace lo que se hace en el código, no sobre todo lo que se hace, dar una explicación de por qué se escribe lo que escribe.\n",
    "\n",
    "## El zen de Python"
   ],
   "metadata": {
    "collapsed": false
   },
   "id": "3023d02ad25082b6"
  },
  {
   "cell_type": "code",
   "outputs": [
    {
     "name": "stdout",
     "output_type": "stream",
     "text": [
      "The Zen of Python, by Tim Peters\n",
      "\n",
      "Beautiful is better than ugly.\n",
      "Explicit is better than implicit.\n",
      "Simple is better than complex.\n",
      "Complex is better than complicated.\n",
      "Flat is better than nested.\n",
      "Sparse is better than dense.\n",
      "Readability counts.\n",
      "Special cases aren't special enough to break the rules.\n",
      "Although practicality beats purity.\n",
      "Errors should never pass silently.\n",
      "Unless explicitly silenced.\n",
      "In the face of ambiguity, refuse the temptation to guess.\n",
      "There should be one-- and preferably only one --obvious way to do it.\n",
      "Although that way may not be obvious at first unless you're Dutch.\n",
      "Now is better than never.\n",
      "Although never is often better than *right* now.\n",
      "If the implementation is hard to explain, it's a bad idea.\n",
      "If the implementation is easy to explain, it may be a good idea.\n",
      "Namespaces are one honking great idea -- let's do more of those!\n"
     ]
    }
   ],
   "source": [
    "import this"
   ],
   "metadata": {
    "collapsed": false,
    "ExecuteTime": {
     "end_time": "2024-04-02T13:27:38.451697Z",
     "start_time": "2024-04-02T13:27:38.443986Z"
    }
   },
   "id": "56edebee4bafe7d6",
   "execution_count": 35
  },
  {
   "cell_type": "markdown",
   "source": [
    "Fin!"
   ],
   "metadata": {
    "collapsed": false
   },
   "id": "b586dd877635c902"
  }
 ],
 "metadata": {
  "kernelspec": {
   "display_name": "Python 3",
   "language": "python",
   "name": "python3"
  },
  "language_info": {
   "codemirror_mode": {
    "name": "ipython",
    "version": 2
   },
   "file_extension": ".py",
   "mimetype": "text/x-python",
   "name": "python",
   "nbconvert_exporter": "python",
   "pygments_lexer": "ipython2",
   "version": "2.7.6"
  }
 },
 "nbformat": 4,
 "nbformat_minor": 5
}
