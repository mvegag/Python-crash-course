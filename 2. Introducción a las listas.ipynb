{
 "cells": [
  {
   "cell_type": "markdown",
   "id": "834152d33aa7347e",
   "metadata": {},
   "source": [
    "## Listas\n",
    "\n",
    "* Qué es una lista?\n",
    "\n",
    "Una lista es un tipo de dato de Python que permite almacenar otros datos, es ordenada (los elementos están indexados), editable (se puede editar los elementos, agrear y eliminar), dinámica (puede contener diferentes tipos de datos), no única (puede tener elementos duplicados)\n",
    "\n",
    "* Cómo se define una lista?\n",
    "\n",
    "Se define usando [ ]"
   ]
  },
  {
   "cell_type": "code",
   "execution_count": 1,
   "id": "initial_id",
   "metadata": {},
   "outputs": [
    {
     "name": "stdout",
     "output_type": "stream",
     "text": [
      "['trek', 'cannondale', 'redline', 'specialized']\n"
     ]
    }
   ],
   "source": [
    "bicicletas = [\"trek\", \"cannondale\", \"redline\", \"specialized\"]\n",
    "print(bicicletas)"
   ]
  },
  {
   "cell_type": "markdown",
   "id": "b51893c5",
   "metadata": {},
   "source": [
    "### Accediendo a los elementos de una lista\n",
    "\n",
    "* Qué hay que decirle a Python para acceder a los elementos de una lista?\n",
    "\n",
    "Para acceder a los elementos de una lista hay que escribir el nombre de la lista seguido de [] y dentro el indice del objeto que se quiere obtener."
   ]
  },
  {
   "cell_type": "code",
   "execution_count": 2,
   "id": "80905a99",
   "metadata": {},
   "outputs": [
    {
     "name": "stdout",
     "output_type": "stream",
     "text": [
      "trek\n"
     ]
    }
   ],
   "source": [
    "print(bicicletas[0])"
   ]
  },
  {
   "cell_type": "code",
   "execution_count": 3,
   "id": "73631156",
   "metadata": {},
   "outputs": [
    {
     "name": "stdout",
     "output_type": "stream",
     "text": [
      "Trek\n"
     ]
    }
   ],
   "source": [
    "print(bicicletas[0].title())"
   ]
  },
  {
   "cell_type": "markdown",
   "id": "bc3c6948",
   "metadata": {},
   "source": [
    "### Indices empiezan en 0, no 1\n"
   ]
  },
  {
   "cell_type": "code",
   "execution_count": 4,
   "id": "afcf2e11",
   "metadata": {},
   "outputs": [
    {
     "name": "stdout",
     "output_type": "stream",
     "text": [
      "['trek', 'cannondale', 'redline', 'specialized']\n",
      "cannondale\n",
      "specialized\n"
     ]
    }
   ],
   "source": [
    "print(bicicletas)\n",
    "print(bicicletas[1])\n",
    "print(bicicletas[3])"
   ]
  },
  {
   "cell_type": "markdown",
   "id": "30c40d6e",
   "metadata": {},
   "source": [
    "* Para qué sirve poner el indice [-1]?\n",
    "\n",
    "Muestra el último item de una lista.\n",
    "\n",
    "* Cómo se extiende esta convención de indices negativos?\n",
    "\n",
    "Podemos deslizar haciendo usos de los indices negativos"
   ]
  },
  {
   "cell_type": "code",
   "execution_count": 5,
   "id": "fbf57a88",
   "metadata": {},
   "outputs": [
    {
     "name": "stdout",
     "output_type": "stream",
     "text": [
      "specialized\n"
     ]
    }
   ],
   "source": [
    "print(bicicletas[-1])"
   ]
  },
  {
   "cell_type": "markdown",
   "id": "ad3bbc8b",
   "metadata": {},
   "source": [
    "### Usando valores individuales de una lista\n",
    "\n"
   ]
  },
  {
   "cell_type": "code",
   "execution_count": 6,
   "id": "13fedeff",
   "metadata": {},
   "outputs": [
    {
     "name": "stdout",
     "output_type": "stream",
     "text": [
      "Mi primer bicicleta fue una Trek\n"
     ]
    }
   ],
   "source": [
    "mensaje = f\"Mi primer bicicleta fue una {bicicletas[0].title()}\"\n",
    "print(mensaje)"
   ]
  },
  {
   "cell_type": "markdown",
   "id": "53fa2e22",
   "metadata": {},
   "source": [
    "## Ejercicios"
   ]
  },
  {
   "cell_type": "code",
   "execution_count": 7,
   "id": "86e62acc",
   "metadata": {},
   "outputs": [
    {
     "name": "stdout",
     "output_type": "stream",
     "text": [
      "Mateo\n",
      "Cristian\n",
      "Tatiana\n",
      "Sebastian\n",
      "Daniela\n"
     ]
    }
   ],
   "source": [
    "nombres = [\"mateo\", \"Cristian\", \"Tatiana\", \"Daniela\", \"Sebastian\"]\n",
    "print(nombres[0].title())\n",
    "print(nombres[1])\n",
    "print(nombres[2])\n",
    "print(nombres[-1])\n",
    "print(nombres[-2])"
   ]
  },
  {
   "cell_type": "code",
   "execution_count": 8,
   "id": "3c0dbf33",
   "metadata": {},
   "outputs": [
    {
     "name": "stdout",
     "output_type": "stream",
     "text": [
      "Hola mateo\n",
      "Hola Tatiana\n",
      "Hola Sebastian\n"
     ]
    }
   ],
   "source": [
    "saludo = f\"Hola {nombres[0]}\"\n",
    "print(saludo)\n",
    "saludo = f\"Hola {nombres[-3]}\"\n",
    "print(saludo)\n",
    "saludo = f\"Hola {nombres[-1]}\"\n",
    "print(saludo)"
   ]
  },
  {
   "cell_type": "code",
   "execution_count": 9,
   "id": "a22b0125",
   "metadata": {},
   "outputs": [
    {
     "name": "stdout",
     "output_type": "stream",
     "text": [
      "Yo quisiera graduarme para ganar plata este 2024\n"
     ]
    }
   ],
   "source": [
    "objetivo = [\"graduarme\", \"ganar plata\", 2024]\n",
    "mensaje = f\"Yo quisiera {objetivo[0]} para {objetivo[1]} este {objetivo[2]}\"\n",
    "print(mensaje)"
   ]
  },
  {
   "cell_type": "markdown",
   "id": "f1f8dbd5",
   "metadata": {},
   "source": [
    "## Modificar, agregar y remover elementos\n",
    "\n",
    "* Qué significa que las listas son dinámicas?\n",
    "\n",
    "Que pueden tener diferentes tipos de datos.\n",
    "\n",
    "### Modificando los elementos\n",
    "\n",
    "* Cómo es la sintaxis para modificar los elementos?\n",
    "\n",
    "\n",
    "Para modificar un elemento se usa `lista[indice] = \"objeto\"`"
   ]
  },
  {
   "cell_type": "code",
   "execution_count": 10,
   "id": "5f4768fc",
   "metadata": {},
   "outputs": [
    {
     "name": "stdout",
     "output_type": "stream",
     "text": [
      "['honda', 'yamaha', 'suzuki']\n"
     ]
    }
   ],
   "source": [
    "motos = [\"honda\", \"yamaha\", \"suzuki\"]\n",
    "print(motos)"
   ]
  },
  {
   "cell_type": "code",
   "execution_count": 11,
   "id": "107abf90",
   "metadata": {},
   "outputs": [
    {
     "name": "stdout",
     "output_type": "stream",
     "text": [
      "['ducati', 'yamaha', 'suzuki']\n"
     ]
    }
   ],
   "source": [
    "motos[0] = \"ducati\"\n",
    "print(motos)"
   ]
  },
  {
   "cell_type": "markdown",
   "id": "87172818",
   "metadata": {},
   "source": [
    "### Agregar elementos a la lista\n",
    "\n",
    "#### Agregar elementos al final de la lista\n",
    "\n",
    "* Qué metodo se usa para esto?\n",
    "\n",
    "Se usa el método `append()`"
   ]
  },
  {
   "cell_type": "code",
   "execution_count": 12,
   "id": "abb1a810",
   "metadata": {},
   "outputs": [
    {
     "name": "stdout",
     "output_type": "stream",
     "text": [
      "['ducati', 'yamaha', 'suzuki', 'honda']\n"
     ]
    }
   ],
   "source": [
    "motos.append(\"honda\")\n",
    "print(motos)"
   ]
  },
  {
   "cell_type": "code",
   "execution_count": 13,
   "id": "691699bc",
   "metadata": {},
   "outputs": [
    {
     "name": "stdout",
     "output_type": "stream",
     "text": [
      "['honda', 'suzuki', 'yamaha']\n"
     ]
    }
   ],
   "source": [
    "motos = []\n",
    "motos.append(\"honda\")\n",
    "motos.append(\"suzuki\")\n",
    "motos.append(\"yamaha\")\n",
    "print(motos)"
   ]
  },
  {
   "cell_type": "markdown",
   "id": "6d3c83f8",
   "metadata": {},
   "source": [
    "#### Agregar un elemento a la lista\n",
    "\n",
    "* Qué método se usa para agregar un elemento en la posición que se quiera?\n",
    "\n",
    "\n",
    "Se usa el método `insert()`"
   ]
  },
  {
   "cell_type": "code",
   "execution_count": 14,
   "id": "1d814b45",
   "metadata": {},
   "outputs": [
    {
     "name": "stdout",
     "output_type": "stream",
     "text": [
      "['ducati', 'honda', 'yamaha', 'suzuki']\n"
     ]
    }
   ],
   "source": [
    "motos = [\"honda\", \"yamaha\", \"suzuki\"]\n",
    "motos.insert(0, \"ducati\")\n",
    "print(motos)"
   ]
  },
  {
   "cell_type": "markdown",
   "id": "38c4ba9b",
   "metadata": {},
   "source": [
    "### Eliminando elementos de una lista\n",
    "\n",
    "#### Usando el statement DEL"
   ]
  },
  {
   "cell_type": "code",
   "execution_count": 15,
   "id": "80d038ad",
   "metadata": {},
   "outputs": [
    {
     "name": "stdout",
     "output_type": "stream",
     "text": [
      "['ducati', 'honda', 'yamaha', 'suzuki']\n",
      "['honda', 'yamaha', 'suzuki']\n"
     ]
    }
   ],
   "source": [
    "# si se sabe el indice del elemento que se quiere eliminar\n",
    "\n",
    "print(motos)\n",
    "del motos[0]\n",
    "print(motos)"
   ]
  },
  {
   "cell_type": "code",
   "execution_count": 16,
   "id": "1e69deb6",
   "metadata": {},
   "outputs": [],
   "source": [
    "del motos[1]"
   ]
  },
  {
   "cell_type": "markdown",
   "id": "18e82dd5",
   "metadata": {},
   "source": [
    "#### Usando el método pop()\n",
    "\n",
    "* Cual es la diferencia con este método y del?\n",
    "\n",
    "Del elimina el objeto, pop saca el elemento y lo almacena en una nueva variable.\n"
   ]
  },
  {
   "cell_type": "code",
   "execution_count": 17,
   "id": "65abc0e0",
   "metadata": {},
   "outputs": [
    {
     "name": "stdout",
     "output_type": "stream",
     "text": [
      "['honda', 'yamaha', 'suzuki']\n",
      "['honda', 'yamaha']\n",
      "suzuki\n"
     ]
    }
   ],
   "source": [
    "motos = [\"honda\", \"yamaha\", \"suzuki\"]\n",
    "print(motos)\n",
    "popped_moto = motos.pop()\n",
    "print(motos)\n",
    "print(popped_moto)"
   ]
  },
  {
   "cell_type": "code",
   "execution_count": 18,
   "id": "fc91983f",
   "metadata": {},
   "outputs": [
    {
     "name": "stdout",
     "output_type": "stream",
     "text": [
      "Mi primera moto fue Suzuki\n"
     ]
    }
   ],
   "source": [
    "motos = [\"bmw\", \"suzuki\"]\n",
    "primera = motos.pop()\n",
    "print(f\"Mi primera moto fue {primera.title()}\")"
   ]
  },
  {
   "cell_type": "markdown",
   "id": "95f53d67",
   "metadata": {},
   "source": [
    "* Cómo decidimos si usar del o pop()?\n",
    "\n",
    "Si necesitamos el valor del objeto o no.\n",
    "\n",
    "#### Eliminar un elemento por su valor\n",
    "\n",
    "* Cuando es útil esto?\n",
    "\n",
    "Cuando sabemos el valor del elemento pero no su posición."
   ]
  },
  {
   "cell_type": "code",
   "execution_count": 19,
   "id": "861d362e",
   "metadata": {},
   "outputs": [
    {
     "name": "stdout",
     "output_type": "stream",
     "text": [
      "['honda', 'yamaha', 'suzuki', 'ducati']\n",
      "['honda', 'suzuki', 'ducati']\n"
     ]
    }
   ],
   "source": [
    "motos = [\"honda\", \"yamaha\", \"suzuki\", \"ducati\"]\n",
    "print(motos)\n",
    "\n",
    "motos.remove(\"yamaha\")\n",
    "print(motos)"
   ]
  },
  {
   "cell_type": "code",
   "execution_count": 20,
   "id": "7c06621f",
   "metadata": {},
   "outputs": [
    {
     "name": "stdout",
     "output_type": "stream",
     "text": [
      "['honda', 'yamaha', 'suzuki', 'ducati']\n",
      "['honda', 'yamaha', 'suzuki']\n",
      "\n",
      "Una Ducati es muy cara para mi\n"
     ]
    }
   ],
   "source": [
    "motos = [\"honda\", \"yamaha\", \"suzuki\", \"ducati\"]\n",
    "print(motos)\n",
    "\n",
    "muy_cara = \"ducati\"\n",
    "motos.remove(muy_cara)\n",
    "print(motos)\n",
    "print(f\"\\nUna {muy_cara.title()} es muy cara para mi\")"
   ]
  },
  {
   "cell_type": "markdown",
   "id": "66bc36e9",
   "metadata": {},
   "source": [
    "* Como funciona el método remove()? Qué pasa si hay valores repetidos?\n",
    "\n",
    "Solo se borra la primer ocurrencia.\n",
    "\n",
    "### Ejercicios"
   ]
  },
  {
   "cell_type": "code",
   "execution_count": 21,
   "id": "94ca5655",
   "metadata": {},
   "outputs": [
    {
     "name": "stdout",
     "output_type": "stream",
     "text": [
      "Yo te invito a mi fiesta de cumpleaños kanye\n",
      "Yo te invito a mi fiesta de cumpleaños Lynch\n",
      "Yo te invito a mi fiesta de cumpleaños Raschka\n"
     ]
    }
   ],
   "source": [
    "invitados = [\"kanye\", \"Lynch\", \"Raschka\"]\n",
    "print(f\"Yo te invito a mi fiesta de cumpleaños {invitados[0]}\")\n",
    "print(f\"Yo te invito a mi fiesta de cumpleaños {invitados[1]}\")\n",
    "print(f\"Yo te invito a mi fiesta de cumpleaños {invitados[2]}\")"
   ]
  },
  {
   "cell_type": "code",
   "execution_count": 22,
   "id": "6a86599f",
   "metadata": {},
   "outputs": [
    {
     "name": "stdout",
     "output_type": "stream",
     "text": [
      "Raschka no puede venir\n",
      "Yo te invito a mi fiesta de cumpleaños kanye\n",
      "Yo te invito a mi fiesta de cumpleaños Lynch\n",
      "Yo te invito a mi fiesta de cumpleaños Kubrick\n"
     ]
    }
   ],
   "source": [
    "print(f\"{invitados[2]} no puede venir\")\n",
    "invitados[2] = \"Kubrick\"\n",
    "print(f\"Yo te invito a mi fiesta de cumpleaños {invitados[0]}\")\n",
    "print(f\"Yo te invito a mi fiesta de cumpleaños {invitados[1]}\")\n",
    "print(f\"Yo te invito a mi fiesta de cumpleaños {invitados[2]}\")"
   ]
  },
  {
   "cell_type": "code",
   "execution_count": 23,
   "id": "38e27da8",
   "metadata": {},
   "outputs": [
    {
     "name": "stdout",
     "output_type": "stream",
     "text": [
      "Encontramos una mesa nueva más grande\n",
      "Yo te invito a mi fiesta de cumpleaños Kojima\n",
      "Yo te invito a mi fiesta de cumpleaños kanye\n",
      "Yo te invito a mi fiesta de cumpleaños Lynch\n",
      "Yo te invito a mi fiesta de cumpleaños Michael Jackson\n",
      "Yo te invito a mi fiesta de cumpleaños Kubrick\n",
      "Yo te invito a mi fiesta de cumpleaños Poe\n"
     ]
    }
   ],
   "source": [
    "print(\"Encontramos una mesa nueva más grande\")\n",
    "invitados.insert(0, \"Kojima\")\n",
    "invitados.insert(3, \"Michael Jackson\")\n",
    "invitados.append(\"Poe\")\n",
    "print(f\"Yo te invito a mi fiesta de cumpleaños {invitados[0]}\")\n",
    "print(f\"Yo te invito a mi fiesta de cumpleaños {invitados[1]}\")\n",
    "print(f\"Yo te invito a mi fiesta de cumpleaños {invitados[2]}\")\n",
    "print(f\"Yo te invito a mi fiesta de cumpleaños {invitados[3]}\")\n",
    "print(f\"Yo te invito a mi fiesta de cumpleaños {invitados[4]}\")\n",
    "print(f\"Yo te invito a mi fiesta de cumpleaños {invitados[5]}\")"
   ]
  },
  {
   "cell_type": "code",
   "execution_count": 24,
   "id": "d84f420b",
   "metadata": {},
   "outputs": [
    {
     "name": "stdout",
     "output_type": "stream",
     "text": [
      "Solo hay mesa para tres\n",
      "Yo te invito a mi fiesta de cumpleaños Kojima\n",
      "Yo te invito a mi fiesta de cumpleaños kanye\n"
     ]
    }
   ],
   "source": [
    "print(\"Solo hay mesa para tres\")\n",
    "invitados.pop()\n",
    "invitados.pop()\n",
    "invitados.pop()\n",
    "invitados.pop()\n",
    "print(f\"Yo te invito a mi fiesta de cumpleaños {invitados[0]}\")\n",
    "print(f\"Yo te invito a mi fiesta de cumpleaños {invitados[1]}\")"
   ]
  },
  {
   "cell_type": "code",
   "execution_count": 25,
   "id": "4663c029",
   "metadata": {},
   "outputs": [],
   "source": [
    "del invitados[0]\n",
    "del invitados[0]"
   ]
  },
  {
   "cell_type": "code",
   "execution_count": 26,
   "id": "4ffd5b3e",
   "metadata": {},
   "outputs": [
    {
     "name": "stdout",
     "output_type": "stream",
     "text": [
      "[]\n"
     ]
    }
   ],
   "source": [
    "print(invitados)"
   ]
  },
  {
   "cell_type": "markdown",
   "id": "6e1902ed",
   "metadata": {},
   "source": [
    "### Organizando una lista\n",
    "\n",
    "#### Organizando la lista permanentemente con el método sort()\n",
    "\n"
   ]
  },
  {
   "cell_type": "code",
   "execution_count": 1,
   "id": "bda860dd",
   "metadata": {},
   "outputs": [
    {
     "name": "stdout",
     "output_type": "stream",
     "text": [
      "['audi', 'bmw', 'subaru', 'toyota']\n"
     ]
    }
   ],
   "source": [
    "cars = [\"bmw\", \"audi\", \"toyota\", \"subaru\"]\n",
    "cars.sort()\n",
    "print(cars)"
   ]
  },
  {
   "cell_type": "code",
   "execution_count": 3,
   "id": "ad92f4a7",
   "metadata": {},
   "outputs": [
    {
     "name": "stdout",
     "output_type": "stream",
     "text": [
      "['toyota', 'subaru', 'bmw', 'audi']\n"
     ]
    }
   ],
   "source": [
    "cars.sort(reverse = True)\n",
    "print(cars)"
   ]
  },
  {
   "cell_type": "markdown",
   "id": "748206fa",
   "metadata": {},
   "source": [
    "#### Organizando una lista temporalmente con la función sorted()\n"
   ]
  },
  {
   "cell_type": "code",
   "execution_count": 4,
   "id": "8967a40b",
   "metadata": {},
   "outputs": [
    {
     "name": "stdout",
     "output_type": "stream",
     "text": [
      "Esta es la lista original:\n",
      "['bmw', 'audi', 'toyota', 'subaru']\n"
     ]
    }
   ],
   "source": [
    "cars = [\"bmw\", \"audi\", \"toyota\", \"subaru\"]\n",
    "print(\"Esta es la lista original:\")\n",
    "print(cars)"
   ]
  },
  {
   "cell_type": "code",
   "execution_count": 5,
   "id": "3b965bf6",
   "metadata": {},
   "outputs": [
    {
     "name": "stdout",
     "output_type": "stream",
     "text": [
      "\n",
      "Esta es la lista organizada:\n",
      "['audi', 'bmw', 'subaru', 'toyota']\n"
     ]
    }
   ],
   "source": [
    "print(\"\\nEsta es la lista organizada:\")\n",
    "print(sorted(cars))"
   ]
  },
  {
   "cell_type": "code",
   "execution_count": 6,
   "id": "869f233a",
   "metadata": {},
   "outputs": [
    {
     "name": "stdout",
     "output_type": "stream",
     "text": [
      "\n",
      "Esta es la lista otra vez:\n",
      "['bmw', 'audi', 'toyota', 'subaru']\n"
     ]
    }
   ],
   "source": [
    "print(\"\\nEsta es la lista otra vez:\")\n",
    "print(cars)"
   ]
  },
  {
   "cell_type": "markdown",
   "id": "24178395",
   "metadata": {},
   "source": [
    "#### Imprimiendo una lista al revés\n"
   ]
  },
  {
   "cell_type": "code",
   "execution_count": 7,
   "id": "98cfe28e",
   "metadata": {},
   "outputs": [
    {
     "name": "stdout",
     "output_type": "stream",
     "text": [
      "['bmw', 'audi', 'toyota', 'subaru']\n"
     ]
    }
   ],
   "source": [
    "print(cars)"
   ]
  },
  {
   "cell_type": "code",
   "execution_count": 8,
   "id": "0cc7316b",
   "metadata": {},
   "outputs": [
    {
     "name": "stdout",
     "output_type": "stream",
     "text": [
      "['subaru', 'toyota', 'audi', 'bmw']\n"
     ]
    }
   ],
   "source": [
    "cars.reverse()\n",
    "print(cars)"
   ]
  },
  {
   "cell_type": "markdown",
   "id": "bff9ba57",
   "metadata": {},
   "source": [
    "#### Encontrando el tamaño de una lista\n"
   ]
  },
  {
   "cell_type": "code",
   "execution_count": 9,
   "id": "bfb58d82",
   "metadata": {},
   "outputs": [
    {
     "data": {
      "text/plain": [
       "4"
      ]
     },
     "execution_count": 9,
     "metadata": {},
     "output_type": "execute_result"
    }
   ],
   "source": [
    "len(cars)"
   ]
  },
  {
   "cell_type": "markdown",
   "id": "9ec36c02",
   "metadata": {},
   "source": [
    "### Ejercicios\n",
    "\n",
    "1. Guardar cinco lugares que quisiera visitar en una lista"
   ]
  },
  {
   "cell_type": "code",
   "execution_count": 11,
   "id": "8dadb3bf",
   "metadata": {},
   "outputs": [
    {
     "name": "stdout",
     "output_type": "stream",
     "text": [
      "['Japon', 'Noruega', 'Alemania', 'Italia', 'Korea del sur']\n"
     ]
    }
   ],
   "source": [
    "visitar = [\"Japon\", \"Noruega\", \"Alemania\", \"Italia\", \"Korea del sur\"]\n",
    "print(visitar)"
   ]
  },
  {
   "cell_type": "markdown",
   "id": "793ecf38",
   "metadata": {},
   "source": [
    "2. Usar `sorted()` para imporimir la lista en orden alfabetico sin modificar la original"
   ]
  },
  {
   "cell_type": "code",
   "execution_count": 12,
   "id": "975baca9",
   "metadata": {},
   "outputs": [
    {
     "name": "stdout",
     "output_type": "stream",
     "text": [
      "['Alemania', 'Italia', 'Japon', 'Korea del sur', 'Noruega']\n"
     ]
    }
   ],
   "source": [
    "print(sorted(visitar))"
   ]
  },
  {
   "cell_type": "markdown",
   "id": "c73b2d88",
   "metadata": {},
   "source": [
    "3. Mostrar que la lista sigue en su orden original"
   ]
  },
  {
   "cell_type": "code",
   "execution_count": 13,
   "id": "3c58284e",
   "metadata": {},
   "outputs": [
    {
     "name": "stdout",
     "output_type": "stream",
     "text": [
      "['Japon', 'Noruega', 'Alemania', 'Italia', 'Korea del sur']\n"
     ]
    }
   ],
   "source": [
    "print(visitar)"
   ]
  },
  {
   "cell_type": "markdown",
   "id": "6f8e24c9",
   "metadata": {},
   "source": [
    "4. Usar `reverse()` para cambiar el orden la lista, imprimir la nueva lista "
   ]
  },
  {
   "cell_type": "code",
   "execution_count": 14,
   "id": "3d6aa019",
   "metadata": {},
   "outputs": [
    {
     "name": "stdout",
     "output_type": "stream",
     "text": [
      "['Korea del sur', 'Italia', 'Alemania', 'Noruega', 'Japon']\n"
     ]
    }
   ],
   "source": [
    "visitar.reverse()\n",
    "print(visitar)"
   ]
  },
  {
   "cell_type": "markdown",
   "id": "ea3b8f8b",
   "metadata": {},
   "source": [
    "5. Usar `sort()` para cambiar la lista en orden alfabetico"
   ]
  },
  {
   "cell_type": "code",
   "execution_count": 15,
   "id": "35aa0548",
   "metadata": {},
   "outputs": [
    {
     "name": "stdout",
     "output_type": "stream",
     "text": [
      "['Alemania', 'Italia', 'Japon', 'Korea del sur', 'Noruega']\n"
     ]
    }
   ],
   "source": [
    "visitar.sort()\n",
    "print(visitar)"
   ]
  },
  {
   "cell_type": "markdown",
   "id": "77318481",
   "metadata": {},
   "source": [
    "6. Usar `sort()` para cambiar el orden de la lista para que se guarde en orden contrario al alfabetico"
   ]
  },
  {
   "cell_type": "code",
   "execution_count": 16,
   "id": "161779c1",
   "metadata": {},
   "outputs": [
    {
     "name": "stdout",
     "output_type": "stream",
     "text": [
      "['Noruega', 'Korea del sur', 'Japon', 'Italia', 'Alemania']\n"
     ]
    }
   ],
   "source": [
    "visitar.sort(reverse = True)\n",
    "print(visitar)"
   ]
  },
  {
   "cell_type": "code",
   "execution_count": 17,
   "id": "9e9604f9",
   "metadata": {
    "scrolled": true
   },
   "outputs": [
    {
     "data": {
      "text/plain": [
       "5"
      ]
     },
     "execution_count": 17,
     "metadata": {},
     "output_type": "execute_result"
    }
   ],
   "source": [
    "len(visitar)"
   ]
  }
 ],
 "metadata": {
  "kernelspec": {
   "display_name": "Python 3 (ipykernel)",
   "language": "python",
   "name": "python3"
  },
  "language_info": {
   "codemirror_mode": {
    "name": "ipython",
    "version": 3
   },
   "file_extension": ".py",
   "mimetype": "text/x-python",
   "name": "python",
   "nbconvert_exporter": "python",
   "pygments_lexer": "ipython3",
   "version": "3.11.5"
  }
 },
 "nbformat": 4,
 "nbformat_minor": 5
}
