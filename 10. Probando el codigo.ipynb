{
 "cells": [
  {
   "metadata": {},
   "cell_type": "markdown",
   "source": "## Probando una función\n",
   "id": "f86a70e81e042653"
  },
  {
   "cell_type": "code",
   "id": "initial_id",
   "metadata": {
    "collapsed": true,
    "ExecuteTime": {
     "end_time": "2024-06-03T15:00:18.764927Z",
     "start_time": "2024-06-03T15:00:18.678771Z"
    }
   },
   "source": [
    "import pytest\n",
    "\n",
    "\n",
    "# escribimos una función sencilla\n",
    "\n",
    "def obtener_nombre_formato(nombre, apellido):\n",
    "    \"\"\"Genera el nombre completo formateado\"\"\"\n",
    "    nombre_completo = f\"{nombre} {apellido}\"\n",
    "    return nombre_completo.title()"
   ],
   "outputs": [],
   "execution_count": 16
  },
  {
   "metadata": {
    "ExecuteTime": {
     "end_time": "2024-06-03T13:55:35.199296Z",
     "start_time": "2024-06-03T13:54:59.241337Z"
    }
   },
   "cell_type": "code",
   "source": [
    "# probemos que funciona\n",
    "\n",
    "print(\"Escriba 'q' para salir en cualquier momento.\")\n",
    "while True:\n",
    "    nombre = input(\"\\nPor favor escriba su primer nombre: \")\n",
    "    if nombre == \"q\":\n",
    "        break\n",
    "    apellido = input(\"Por favor escriba su apellido: \")\n",
    "    if apellido == \"q\":\n",
    "        break\n",
    "    \n",
    "    nombre_formateado = obtener_nombre_formato(nombre, apellido)\n",
    "    print(f\"\\tNombre con formato: {nombre_formateado}\")"
   ],
   "id": "8ab5aae3b25d79a7",
   "outputs": [
    {
     "name": "stdout",
     "output_type": "stream",
     "text": [
      "Escriba 'q' para salir en cualquier momento.\n",
      "\tNombre con formato: Mateo Vega\n"
     ]
    }
   ],
   "execution_count": 2
  },
  {
   "metadata": {},
   "cell_type": "markdown",
   "source": [
    "### Pruebas unitarias y casos de prueba\n",
    "\n",
    "Una prueba unitaria revisa que un aspecto de una función funcione correctamente. Una prueba de casos es una colección de pruebas unitarias que verifica que toda la función funcione correctamente.\n",
    "\n",
    "### Pasar la prueba\n",
    "\n"
   ],
   "id": "d64257cb974c2ad8"
  },
  {
   "metadata": {
    "ExecuteTime": {
     "end_time": "2024-06-03T13:55:35.203860Z",
     "start_time": "2024-06-03T13:55:35.200306Z"
    }
   },
   "cell_type": "code",
   "source": [
    "## Todas las funciones que empiecen con test pytest las detecta automaticamente\n",
    "\n",
    "def test_formato_nombre():\n",
    "    \"\"\"Sirve un nombre como Jani Joplin?\"\"\"\n",
    "    nombre_formateado = obtener_nombre_formato(\"janis\", \"joplin\")\n",
    "    assert nombre_formateado == \"Janis Joplin\""
   ],
   "id": "40c74c1e0c8f717",
   "outputs": [],
   "execution_count": 3
  },
  {
   "metadata": {
    "ExecuteTime": {
     "end_time": "2024-06-03T13:55:42.645095Z",
     "start_time": "2024-06-03T13:55:35.204869Z"
    }
   },
   "cell_type": "code",
   "source": "test_formato_nombre()",
   "id": "8d6ddda75c281c23",
   "outputs": [],
   "execution_count": 4
  },
  {
   "metadata": {},
   "cell_type": "markdown",
   "source": [
    "### Corriendo una prueba\n",
    "\n",
    "para correr la prueba y todas las pruebas en el archivo desde el cmd corremos pytest, para esto tendríamos que seleccionar la carpeta y tener los archivos como .py.\n",
    "\n",
    "### Una prueba que falla\n",
    "\n",
    "Por ejemplo, modifiquemos la función para que no funcione"
   ],
   "id": "ec415b86dadbddbb"
  },
  {
   "metadata": {
    "ExecuteTime": {
     "end_time": "2024-06-03T13:55:42.654345Z",
     "start_time": "2024-06-03T13:55:42.648103Z"
    }
   },
   "cell_type": "code",
   "source": [
    "def obtener_nombre_formato(nombre, segundo, apellido):\n",
    "    \"\"\"Genera un nombre completo formateado.\"\"\"\n",
    "    nombre_completo = f\"{nombre} {segundo} {apellido}\"\n",
    "    return nombre_completo.title()"
   ],
   "id": "751e7b360b6ed357",
   "outputs": [],
   "execution_count": 5
  },
  {
   "metadata": {
    "ExecuteTime": {
     "end_time": "2024-06-03T13:55:42.664068Z",
     "start_time": "2024-06-03T13:55:42.658359Z"
    }
   },
   "cell_type": "code",
   "source": [
    "def test_formato_nombre():\n",
    "    \"\"\"Sirve un nombre como Jani Joplin?\"\"\"\n",
    "    nombre_formateado = obtener_nombre_formato(\"janis\", \"joplin\")\n",
    "    assert nombre_formateado == \"Janis Joplin\"\n",
    "    \n",
    "# En este caso la prueba fallaría"
   ],
   "id": "df27d0c3b4f540a",
   "outputs": [],
   "execution_count": 6
  },
  {
   "metadata": {},
   "cell_type": "markdown",
   "source": [
    "### Respondiendo a una prueba que falla\n",
    "\n",
    "Tenemos que modificar el código para tratar de arreglar el problema"
   ],
   "id": "b2d43f80f859366a"
  },
  {
   "metadata": {
    "ExecuteTime": {
     "end_time": "2024-06-03T14:00:00.337657Z",
     "start_time": "2024-06-03T14:00:00.333750Z"
    }
   },
   "cell_type": "code",
   "source": [
    "def obtener_nombre_formato(nombre, apellido, segundo = \"\"):\n",
    "    \"\"\"Genera un nombre bien formateado.\"\"\"\n",
    "    if segundo:\n",
    "        nombre_completo = f\"{nombre} {segundo} {apellido}\"\n",
    "    else:\n",
    "        nombre_completo = f\"{nombre} {apellido}\"\n",
    "    return nombre_completo.title()"
   ],
   "id": "6c9d9d73ec10569d",
   "outputs": [],
   "execution_count": 7
  },
  {
   "metadata": {},
   "cell_type": "markdown",
   "source": "### Agregando nuevas pruebas",
   "id": "fa3b2a19db8825da"
  },
  {
   "metadata": {},
   "cell_type": "code",
   "outputs": [],
   "execution_count": null,
   "source": [
    "def test_formato_nombre():\n",
    "    \"\"\"Sirve un nombre como Jani Joplin?\"\"\"\n",
    "    nombre_formateado = obtener_nombre_formato(\"janis\", \"joplin\")\n",
    "    assert nombre_formateado == \"Janis Joplin\"\n",
    "    \n",
    "def test_primer_segundo_apellido():\n",
    "    \"\"\"prueba nombres con segundo nombre\"\"\"\n",
    "    nombre_formateado = obtener_nombre_formato(\n",
    "        \"wolfgang\", \"mozart\", \"amadeus\"\n",
    "    )\n",
    "    assert nombre_formateado == \"Wolfgang Amadeus Mozart\""
   ],
   "id": "1c9f578806631f92"
  },
  {
   "metadata": {},
   "cell_type": "markdown",
   "source": [
    "## Probando una clase\n",
    "\n",
    "### Variedad de Asserts\n",
    "\n",
    "Se puede generar un `assert` con igualdades, desigualdades, boolenaos, si un elemento pertenece a una lista, si no pertenece.\n",
    "\n",
    "### Una clase para probar"
   ],
   "id": "38e1b48a78b01728"
  },
  {
   "metadata": {
    "ExecuteTime": {
     "end_time": "2024-06-03T14:24:08.180003Z",
     "start_time": "2024-06-03T14:24:08.175713Z"
    }
   },
   "cell_type": "code",
   "source": [
    "class EncuestaAnonima:\n",
    "    \"\"\"Colecciona respuestas anonimas para una pregunta de una encuesta.\"\"\"\n",
    "    \n",
    "    def __init__(self, pregunta):\n",
    "        \"\"\"Almacena una pregunta y prepara para almacenar respuestas.\"\"\"\n",
    "        self.pregunta = pregunta\n",
    "        self.respuestas = []\n",
    "        \n",
    "    def mostrar_pregunta(self):\n",
    "        \"\"\"Muestra la pregunta de la encuesta\"\"\"\n",
    "        print(self.pregunta)\n",
    "        \n",
    "    def guardar_respuesta(self, nueva_respuesta):\n",
    "        \"\"\"Almacena una sola respuesta a la encuesta.\"\"\"\n",
    "        self.respuestas.append(nueva_respuesta)\n",
    "        \n",
    "    def mostrar_resultado(self):\n",
    "        \"\"\"Muestra todas las respuestas que han sido dadas.\"\"\"\n",
    "        print(\"Resultados de la encuesta: \")\n",
    "        for respuesta in self.respuestas:\n",
    "            print(f\"- {respuesta}\")"
   ],
   "id": "230fc707e89c0c12",
   "outputs": [],
   "execution_count": 12
  },
  {
   "metadata": {
    "ExecuteTime": {
     "end_time": "2024-06-03T14:17:59.883977Z",
     "start_time": "2024-06-03T14:17:35.421750Z"
    }
   },
   "cell_type": "code",
   "source": [
    "# definir una pregunta y hacer la encuesta\n",
    "\n",
    "pregunta = \"Que idioma te gustaría aprender?\"\n",
    "encuesta_idioma = EncuestaAnonima(pregunta)\n",
    "\n",
    "# mostrar la pregunta y guardar las respuestas\n",
    "encuesta_idioma.mostrar_pregunta()\n",
    "print(\"Escriba 'q' en cualquier momento para salir del programa.\\n\")\n",
    "while True:\n",
    "    respuesta = input(\"Idioma: \")\n",
    "    if respuesta == \"q\":\n",
    "        break\n",
    "    encuesta_idioma.guardar_respuesta(respuesta)\n",
    "    \n",
    "# mostrar los resultados\n",
    "print(\"\\nGracias por participar!\")\n",
    "encuesta_idioma.mostrar_resultado()"
   ],
   "id": "5b1ae5d8c020d426",
   "outputs": [
    {
     "name": "stdout",
     "output_type": "stream",
     "text": [
      "Que idioma te gustaría aprender?\n",
      "Escriba 'q' en cualquier momento para salir del programa.\n",
      "\n",
      "\n",
      "Gracias por participar!\n",
      "Resultados de la encuesta: \n",
      "- Ingles\n",
      "- Español\n",
      "- Japones\n",
      "- Aleman\n"
     ]
    }
   ],
   "execution_count": 9
  },
  {
   "metadata": {},
   "cell_type": "markdown",
   "source": "### Probando la clase",
   "id": "fe9b6e3849153c44"
  },
  {
   "metadata": {
    "ExecuteTime": {
     "end_time": "2024-06-03T14:24:10.830066Z",
     "start_time": "2024-06-03T14:24:10.826128Z"
    }
   },
   "cell_type": "code",
   "source": [
    "def test_guardar_unica_respuesta():\n",
    "    \"\"\"Prueba si una única respuesta se guarda bien\"\"\"\n",
    "    pregunta = \"Qué idioma te gustaría aprender?\"\n",
    "    encuesta_idioma = EncuestaAnonima(pregunta)\n",
    "    encuesta_idioma.guardar_respuesta(\"Español\")\n",
    "    assert \"Español\" in encuesta_idioma.respuestas"
   ],
   "id": "d0225e3d5aa46896",
   "outputs": [],
   "execution_count": 13
  },
  {
   "metadata": {
    "ExecuteTime": {
     "end_time": "2024-06-03T14:39:06.322592Z",
     "start_time": "2024-06-03T14:39:06.319151Z"
    }
   },
   "cell_type": "code",
   "source": [
    "def test_guardar_tres_respuestas():\n",
    "    \"\"\"Prueba si el programa guarda tres respuestas correctamente\"\"\"\n",
    "    pregunta = \"Que idioma te gustaría aprender?\"\n",
    "    encuesta_idioma = EncuestaAnonima(pregunta)\n",
    "    respuestas = [\"Inglés\", \"Español\", \"Mandarin\"]\n",
    "    for respuesta in respuestas:\n",
    "        encuesta_idioma.guardar_respuesta(respuesta)\n",
    "        \n",
    "    for respuesta in respuestas:\n",
    "        assert respuesta in encuesta_idioma.respuestas"
   ],
   "id": "cf0f49714e0f6a54",
   "outputs": [],
   "execution_count": 14
  },
  {
   "metadata": {},
   "cell_type": "markdown",
   "source": [
    "### Usando fixtures\n",
    "\n",
    "En el ejemplo anterior se crea una instancia de la clase para cada prueba, en casos donde haya muchas pruebas esto puede ser problemático. Crear un `fixture` ayuda a crear un ambiente de prueba. Se crea con un `decorator`, un `decorator` es una directiva puesta antes de una la definición de una función, python aplica esta directiva a la función antes de que se ejecute"
   ],
   "id": "3ff438bd5b295b18"
  },
  {
   "metadata": {
    "ExecuteTime": {
     "end_time": "2024-06-03T15:00:22.652175Z",
     "start_time": "2024-06-03T15:00:22.648260Z"
    }
   },
   "cell_type": "code",
   "source": [
    "@pytest.fixture\n",
    "def encuesta_idioma():\n",
    "    \"\"\"Una encuesta que está disponible para probar todas las funciones\"\"\"\n",
    "    pregunta = \"Qué idiomas te gustaría aprender? \"\n",
    "    encuesta_idioma = EncuestaAnonima(pregunta)\n",
    "    return encuesta_idioma\n",
    "\n",
    "def test_guardar_unica_respuesta(encuesta_idioma):\n",
    "    \"\"\"Prueba si una única respuesta se guarda bien\"\"\"\n",
    "    encuesta_idioma.guardar_respuesta(\"Español\")\n",
    "    assert \"Español\" in encuesta_idioma.respuestas\n",
    "    \n",
    "def test_guardar_tres_respuestas(encuesta_idioma):\n",
    "    \"\"\"Prueba si el programa guarda tres respuestas correctamente\"\"\"\n",
    "    respuestas = [\"Inglés\", \"Español\", \"Mandarin\"]\n",
    "    for respuesta in respuestas:\n",
    "        encuesta_idioma.guardar_respuesta(respuesta)\n",
    "        \n",
    "    for respuesta in respuestas:\n",
    "        assert respuesta in encuesta_idioma.respuestas"
   ],
   "id": "5ad5b941456f96b0",
   "outputs": [],
   "execution_count": 17
  }
 ],
 "metadata": {
  "kernelspec": {
   "display_name": "Python 3",
   "language": "python",
   "name": "python3"
  },
  "language_info": {
   "codemirror_mode": {
    "name": "ipython",
    "version": 2
   },
   "file_extension": ".py",
   "mimetype": "text/x-python",
   "name": "python",
   "nbconvert_exporter": "python",
   "pygments_lexer": "ipython2",
   "version": "2.7.6"
  }
 },
 "nbformat": 4,
 "nbformat_minor": 5
}
