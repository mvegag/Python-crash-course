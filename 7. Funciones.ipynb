{
 "cells": [
  {
   "metadata": {},
   "cell_type": "markdown",
   "source": [
    "## Definir una función\n",
    "\n",
    "Una función se define con la palabra `def`"
   ],
   "id": "b58ebd34952944db"
  },
  {
   "metadata": {
    "ExecuteTime": {
     "end_time": "2024-05-28T15:41:08.613432Z",
     "start_time": "2024-05-28T15:41:08.605197Z"
    }
   },
   "cell_type": "code",
   "source": [
    "# def le dice a python que empieza una función\n",
    "def saludar_usuario():\n",
    "    \"\"\"Muestra un saludo sencillo\"\"\"\n",
    "    print(\"Hola!\")\n",
    "    \n",
    "saludar_usuario()"
   ],
   "id": "c9f5aab3883876f8",
   "outputs": [
    {
     "name": "stdout",
     "output_type": "stream",
     "text": [
      "Hola!\n"
     ]
    }
   ],
   "execution_count": 1
  },
  {
   "metadata": {},
   "cell_type": "markdown",
   "source": [
    "### Pasando información en una función\n",
    "\n",
    "La información que se necesita en una función se escribe dentro de los paréntesis."
   ],
   "id": "f1fc649f6208754d"
  },
  {
   "metadata": {
    "ExecuteTime": {
     "end_time": "2024-05-28T15:41:08.642170Z",
     "start_time": "2024-05-28T15:41:08.638588Z"
    }
   },
   "cell_type": "code",
   "source": [
    "def saludar_usuario(usuario):\n",
    "    \"\"\"Función para saludar a un usuario\"\"\"\n",
    "    print(f\"Hola {usuario.title()}!\")\n",
    "    \n",
    "saludar_usuario(\"Mateo\")"
   ],
   "id": "5fcb69317e3bc60d",
   "outputs": [
    {
     "name": "stdout",
     "output_type": "stream",
     "text": [
      "Hola Mateo!\n"
     ]
    }
   ],
   "execution_count": 2
  },
  {
   "metadata": {},
   "cell_type": "markdown",
   "source": [
    "### Argumentos y parámetros\n",
    "\n",
    "En el ejemplo anterior `usuario` es un parámetro, \"Mateo\" es un ejemplo de argumento.\n",
    "\n",
    "### Ejercicios\n",
    "\n",
    "1. Escribir una función sobre que aprendemos en este capítulo"
   ],
   "id": "dc1ab361bc714f5d"
  },
  {
   "metadata": {
    "ExecuteTime": {
     "end_time": "2024-05-28T15:41:08.670459Z",
     "start_time": "2024-05-28T15:41:08.661875Z"
    }
   },
   "cell_type": "code",
   "source": [
    "def mensaje():\n",
    "    \"\"\"Muestra un mensaje sobre el capítulo\"\"\"\n",
    "    print(\"En este capítulo aprendemos de funciones en Python.\")\n",
    "    \n",
    "mensaje()"
   ],
   "id": "913617f47a599bcf",
   "outputs": [
    {
     "name": "stdout",
     "output_type": "stream",
     "text": [
      "En este capítulo aprendemos de funciones en Python.\n"
     ]
    }
   ],
   "execution_count": 3
  },
  {
   "metadata": {},
   "cell_type": "markdown",
   "source": "2. Escribir una función `libros` que reciba un parámetro `titulo` y devuelve un mensaje.",
   "id": "c764c78a0f260782"
  },
  {
   "metadata": {
    "ExecuteTime": {
     "end_time": "2024-05-28T15:41:08.707613Z",
     "start_time": "2024-05-28T15:41:08.702571Z"
    }
   },
   "cell_type": "code",
   "source": [
    "def libros(titulo):\n",
    "    \"\"\"Imprimo un mensaje sobre el libro\"\"\"\n",
    "    print(f\"{titulo.title()} es uno de mis libros favoritos!\")\n",
    "    \n",
    "libros(\"Machine learning\")"
   ],
   "id": "5bf83b4f8572ad38",
   "outputs": [
    {
     "name": "stdout",
     "output_type": "stream",
     "text": [
      "Machine Learning es uno de mis libros favoritos!\n"
     ]
    }
   ],
   "execution_count": 4
  },
  {
   "metadata": {},
   "cell_type": "markdown",
   "source": [
    "## Pasando argumentos\n",
    "\n",
    "### Argumentos posicionales\n",
    "\n",
    "Python debe coincidir cada argumento con un parámetro, la forma mas fácil es con el orden de los parámetros."
   ],
   "id": "b878f0e83e12f963"
  },
  {
   "metadata": {
    "ExecuteTime": {
     "end_time": "2024-05-28T15:41:08.737954Z",
     "start_time": "2024-05-28T15:41:08.734211Z"
    }
   },
   "cell_type": "code",
   "source": [
    "# se necesitan pasar los argumentos en orden para que funcione la función\n",
    "\n",
    "def describir_animal(tipo_animal, nombre):\n",
    "    \"\"\"Función que muestra la información de un animal.\"\"\"\n",
    "    print(f\"\\nYo tengo un {tipo_animal}.\")\n",
    "    print(f\"El nombre de mi {tipo_animal} es {nombre.title()}.\")\n",
    "    \n",
    "describir_animal(\"gato\", \"teemo\")"
   ],
   "id": "8e6a56512204d6fb",
   "outputs": [
    {
     "name": "stdout",
     "output_type": "stream",
     "text": [
      "\n",
      "Yo tengo un gato.\n",
      "El nombre de mi gato es Teemo.\n"
     ]
    }
   ],
   "execution_count": 5
  },
  {
   "metadata": {},
   "cell_type": "markdown",
   "source": [
    "### Llamadas de función múltiples \n",
    "\n",
    "Se puede llamar una función las veces que se necesite"
   ],
   "id": "8c2ec442c0da5055"
  },
  {
   "metadata": {
    "ExecuteTime": {
     "end_time": "2024-05-28T15:41:08.790606Z",
     "start_time": "2024-05-28T15:41:08.786975Z"
    }
   },
   "cell_type": "code",
   "source": [
    "describir_animal(\"gato\", \"ahri\")\n",
    "describir_animal(\"gato\", \"tom\")"
   ],
   "id": "7ec6e560a0f37b39",
   "outputs": [
    {
     "name": "stdout",
     "output_type": "stream",
     "text": [
      "\n",
      "Yo tengo un gato.\n",
      "El nombre de mi gato es Ahri.\n",
      "\n",
      "Yo tengo un gato.\n",
      "El nombre de mi gato es Tom.\n"
     ]
    }
   ],
   "execution_count": 6
  },
  {
   "metadata": {},
   "cell_type": "markdown",
   "source": "### El orden importa",
   "id": "bb305bfbff476b13"
  },
  {
   "metadata": {
    "ExecuteTime": {
     "end_time": "2024-05-28T15:41:08.832469Z",
     "start_time": "2024-05-28T15:41:08.828236Z"
    }
   },
   "cell_type": "code",
   "source": "describir_animal(\"teemo\", \"gato\")",
   "id": "48a716339dd83a11",
   "outputs": [
    {
     "name": "stdout",
     "output_type": "stream",
     "text": [
      "\n",
      "Yo tengo un teemo.\n",
      "El nombre de mi teemo es Gato.\n"
     ]
    }
   ],
   "execution_count": 7
  },
  {
   "metadata": {},
   "cell_type": "markdown",
   "source": [
    "### Argumentos de palabras clave\n",
    "\n",
    "Se escribe el par parámetro - argumento para que no haya equivocación"
   ],
   "id": "25a3e37bc847eda3"
  },
  {
   "metadata": {
    "ExecuteTime": {
     "end_time": "2024-05-28T15:41:08.884190Z",
     "start_time": "2024-05-28T15:41:08.881158Z"
    }
   },
   "cell_type": "code",
   "source": "describir_animal(tipo_animal = \"gato\", nombre = \"teemo\")",
   "id": "b5005b02120ca652",
   "outputs": [
    {
     "name": "stdout",
     "output_type": "stream",
     "text": [
      "\n",
      "Yo tengo un gato.\n",
      "El nombre de mi gato es Teemo.\n"
     ]
    }
   ],
   "execution_count": 8
  },
  {
   "metadata": {
    "ExecuteTime": {
     "end_time": "2024-05-28T15:41:08.922856Z",
     "start_time": "2024-05-28T15:41:08.918478Z"
    }
   },
   "cell_type": "code",
   "source": "describir_animal(nombre = \"teemo\", tipo_animal = \"gato\")",
   "id": "1ed7d9fcbca4d22",
   "outputs": [
    {
     "name": "stdout",
     "output_type": "stream",
     "text": [
      "\n",
      "Yo tengo un gato.\n",
      "El nombre de mi gato es Teemo.\n"
     ]
    }
   ],
   "execution_count": 9
  },
  {
   "metadata": {},
   "cell_type": "markdown",
   "source": [
    "### Valores por defecto\n",
    "\n",
    "Se puede escribir una argumento por defecto para cada parámetro dentro de la función."
   ],
   "id": "dac0744272267d8b"
  },
  {
   "metadata": {
    "ExecuteTime": {
     "end_time": "2024-05-28T15:41:08.992359Z",
     "start_time": "2024-05-28T15:41:08.987702Z"
    }
   },
   "cell_type": "code",
   "source": [
    "# perro es el valor por defecto para tipo_animal\n",
    "# hay que cambiar el orden de los parámetros, los que tienen valor por defecto van de últimas\n",
    "\n",
    "def describir_animal(nombre, tipo_animal = \"perro\"):\n",
    "    \"\"\"Función que muestra la información de un animal.\"\"\"\n",
    "    print(f\"\\nYo tengo un {tipo_animal}.\")\n",
    "    print(f\"El nombre de mi {tipo_animal} es {nombre.title()}.\")\n",
    "    \n",
    "describir_animal(nombre = \"milka\")"
   ],
   "id": "e1ef48a9866d996c",
   "outputs": [
    {
     "name": "stdout",
     "output_type": "stream",
     "text": [
      "\n",
      "Yo tengo un perro.\n",
      "El nombre de mi perro es Milka.\n"
     ]
    }
   ],
   "execution_count": 10
  },
  {
   "metadata": {
    "ExecuteTime": {
     "end_time": "2024-05-28T15:41:09.029366Z",
     "start_time": "2024-05-28T15:41:09.026006Z"
    }
   },
   "cell_type": "code",
   "source": "describir_animal(\"milka\")",
   "id": "19383562548dc555",
   "outputs": [
    {
     "name": "stdout",
     "output_type": "stream",
     "text": [
      "\n",
      "Yo tengo un perro.\n",
      "El nombre de mi perro es Milka.\n"
     ]
    }
   ],
   "execution_count": 11
  },
  {
   "metadata": {
    "ExecuteTime": {
     "end_time": "2024-05-28T15:41:09.078362Z",
     "start_time": "2024-05-28T15:41:09.074967Z"
    }
   },
   "cell_type": "code",
   "source": [
    "# igual se puede cambiar el valor por defecto\n",
    "\n",
    "describir_animal(nombre = \"milka\", tipo_animal = \"vaca\")"
   ],
   "id": "7e798dc98c27d4e",
   "outputs": [
    {
     "name": "stdout",
     "output_type": "stream",
     "text": [
      "\n",
      "Yo tengo un vaca.\n",
      "El nombre de mi vaca es Milka.\n"
     ]
    }
   ],
   "execution_count": 12
  },
  {
   "metadata": {},
   "cell_type": "markdown",
   "source": [
    "### Llamadas equivalentes\n",
    "\n",
    "Con todas estas opciones de argumentos, se pueden tener varias formas de llamar la función de la misma manera"
   ],
   "id": "a885e5f6cab6d143"
  },
  {
   "metadata": {
    "ExecuteTime": {
     "end_time": "2024-05-28T15:41:09.094112Z",
     "start_time": "2024-05-28T15:41:09.089910Z"
    }
   },
   "cell_type": "code",
   "source": [
    "describir_animal(\"milka\")\n",
    "\n",
    "describir_animal(nombre = \"milka\")"
   ],
   "id": "62f0fd25d0d26eef",
   "outputs": [
    {
     "name": "stdout",
     "output_type": "stream",
     "text": [
      "\n",
      "Yo tengo un perro.\n",
      "El nombre de mi perro es Milka.\n",
      "\n",
      "Yo tengo un perro.\n",
      "El nombre de mi perro es Milka.\n"
     ]
    }
   ],
   "execution_count": 13
  },
  {
   "metadata": {
    "ExecuteTime": {
     "end_time": "2024-05-28T15:41:09.125473Z",
     "start_time": "2024-05-28T15:41:09.121981Z"
    }
   },
   "cell_type": "code",
   "source": [
    "describir_animal(\"teemo\", \"gato\")\n",
    "describir_animal(nombre = \"teemo\", tipo_animal = \"gato\")\n",
    "describir_animal(tipo_animal = \"gato\", nombre = \"teemo\")"
   ],
   "id": "acf470f324ac636c",
   "outputs": [
    {
     "name": "stdout",
     "output_type": "stream",
     "text": [
      "\n",
      "Yo tengo un gato.\n",
      "El nombre de mi gato es Teemo.\n",
      "\n",
      "Yo tengo un gato.\n",
      "El nombre de mi gato es Teemo.\n",
      "\n",
      "Yo tengo un gato.\n",
      "El nombre de mi gato es Teemo.\n"
     ]
    }
   ],
   "execution_count": 14
  },
  {
   "metadata": {},
   "cell_type": "markdown",
   "source": [
    "### Ejercicios\n",
    "\n",
    "1. Una función que reciba la talla de una camisa y un mensaje"
   ],
   "id": "cbc21e68cccd1b96"
  },
  {
   "metadata": {
    "ExecuteTime": {
     "end_time": "2024-05-28T15:41:09.190341Z",
     "start_time": "2024-05-28T15:41:09.186234Z"
    }
   },
   "cell_type": "code",
   "source": [
    "def hacer_camisa(talla, mensaje):\n",
    "    \"\"\"Imprime el mensaje en la camisa\"\"\"\n",
    "    print(f\"La camisa talla {talla} con el mensaje impreso: '{mensaje}' está lista.\")\n",
    "    \n",
    "hacer_camisa(\"L\", \"Hola soy autista!\")"
   ],
   "id": "be14025b5da096e1",
   "outputs": [
    {
     "name": "stdout",
     "output_type": "stream",
     "text": [
      "La camisa talla L con el mensaje impreso: 'Hola soy autista!' está lista.\n"
     ]
    }
   ],
   "execution_count": 15
  },
  {
   "metadata": {
    "ExecuteTime": {
     "end_time": "2024-05-28T15:41:09.245873Z",
     "start_time": "2024-05-28T15:41:09.242315Z"
    }
   },
   "cell_type": "code",
   "source": "hacer_camisa(mensaje = \"Hola soy Mateo!\", talla = \"M\")",
   "id": "6f1045edd7ec7589",
   "outputs": [
    {
     "name": "stdout",
     "output_type": "stream",
     "text": [
      "La camisa talla M con el mensaje impreso: 'Hola soy Mateo!' está lista.\n"
     ]
    }
   ],
   "execution_count": 16
  },
  {
   "metadata": {},
   "cell_type": "markdown",
   "source": "2. Modificar para que la talla por defecto sea L y el mensaje sea: 'me gusta python'",
   "id": "cc6eca5e41d79beb"
  },
  {
   "metadata": {
    "ExecuteTime": {
     "end_time": "2024-05-28T15:41:09.271172Z",
     "start_time": "2024-05-28T15:41:09.267481Z"
    }
   },
   "cell_type": "code",
   "source": [
    "def hacer_camisa(talla = \"L\", mensaje = \"Me gusta Python!\"):\n",
    "    \"\"\"Imprime el mensaje en la camisa\"\"\"\n",
    "    print(f\"La camisa talla {talla} con el mensaje impreso: '{mensaje}' está lista.\")\n",
    "    \n",
    "hacer_camisa()\n",
    "hacer_camisa(talla = \"M\")\n",
    "hacer_camisa(mensaje = \"Me gusta Rust!\")"
   ],
   "id": "7960aa6ba9e23cbf",
   "outputs": [
    {
     "name": "stdout",
     "output_type": "stream",
     "text": [
      "La camisa talla L con el mensaje impreso: 'Me gusta Python!' está lista.\n",
      "La camisa talla M con el mensaje impreso: 'Me gusta Python!' está lista.\n",
      "La camisa talla L con el mensaje impreso: 'Me gusta Rust!' está lista.\n"
     ]
    }
   ],
   "execution_count": 17
  },
  {
   "metadata": {},
   "cell_type": "markdown",
   "source": "3. Una función que reciba el nombre de una ciudad, el pais y devuelva una frase",
   "id": "ba5ae1a7ed87ef72"
  },
  {
   "metadata": {
    "ExecuteTime": {
     "end_time": "2024-05-28T15:41:09.330697Z",
     "start_time": "2024-05-28T15:41:09.325975Z"
    }
   },
   "cell_type": "code",
   "source": [
    "def ciudad(pais, ciudad):\n",
    "    \"\"\"Crea un mensaje sobre la ciudad y el pais\"\"\"\n",
    "    print(f\"La ciudad {ciudad.title()} queda en {pais.title()}.\")\n",
    "\n",
    "ciudad(\"Colombia\", \"Bogotá\")\n",
    "ciudad(ciudad = \"quito\", pais = \"ecuador\")\n",
    "ciudad(pais = \"perú\", ciudad = \"lima\")"
   ],
   "id": "deec2d9fc2d6a36a",
   "outputs": [
    {
     "name": "stdout",
     "output_type": "stream",
     "text": [
      "La ciudad Bogotá queda en Colombia.\n",
      "La ciudad Quito queda en Ecuador.\n",
      "La ciudad Lima queda en Perú.\n"
     ]
    }
   ],
   "execution_count": 18
  },
  {
   "metadata": {},
   "cell_type": "markdown",
   "source": [
    "## Devolver valores\n",
    "\n",
    "### Devolver un valor simple\n"
   ],
   "id": "1cb57f234bae9165"
  },
  {
   "metadata": {
    "ExecuteTime": {
     "end_time": "2024-05-28T15:41:09.379645Z",
     "start_time": "2024-05-28T15:41:09.375006Z"
    }
   },
   "cell_type": "code",
   "source": [
    "def nombre_formato(nombre, apellido):\n",
    "    \"\"\"Devuelve un nombre con el formato adecuado\"\"\"\n",
    "    nombre_completo = f\"{nombre} {apellido}\"\n",
    "    return nombre_completo.title()\n",
    "\n",
    "musico = nombre_formato(\"frank\", \"ocean\")\n",
    "print(musico)"
   ],
   "id": "1736e4c4da92e064",
   "outputs": [
    {
     "name": "stdout",
     "output_type": "stream",
     "text": [
      "Frank Ocean\n"
     ]
    }
   ],
   "execution_count": 19
  },
  {
   "metadata": {},
   "cell_type": "markdown",
   "source": [
    "### Convertir un argumento en opcional\n",
    "\n",
    "Funciona cuando hay un argumento que puede ser usado en algunos casos y en otros no es necesario."
   ],
   "id": "1ee4d905e248efc8"
  },
  {
   "metadata": {
    "ExecuteTime": {
     "end_time": "2024-05-28T15:41:09.418345Z",
     "start_time": "2024-05-28T15:41:09.413889Z"
    }
   },
   "cell_type": "code",
   "source": [
    "def nombre_formato(nombre, segundo_nombre, apellido):\n",
    "    \"\"\"Devuelve un nombre con el formato adecuado\"\"\"\n",
    "    nombre_completo = f\"{nombre} {segundo_nombre} {apellido}\"\n",
    "    return nombre_completo.title()\n",
    "\n",
    "musico = nombre_formato(\"john\", \"lee\", \"hooker\")\n",
    "print(musico)"
   ],
   "id": "dee77fc03222ccd4",
   "outputs": [
    {
     "name": "stdout",
     "output_type": "stream",
     "text": [
      "John Lee Hooker\n"
     ]
    }
   ],
   "execution_count": 20
  },
  {
   "metadata": {
    "ExecuteTime": {
     "end_time": "2024-05-28T15:41:09.458324Z",
     "start_time": "2024-05-28T15:41:09.452977Z"
    }
   },
   "cell_type": "code",
   "source": [
    "# queremos que el segundo nombre sea opcional\n",
    "\n",
    "def nombre_formato(nombre, apellido, segundo_nombre = \"\"):\n",
    "    \"\"\"Devuelve un nombre con el formato adecuado\"\"\"\n",
    "    if segundo_nombre:\n",
    "        nombre_completo = f\"{nombre} {segundo_nombre} {apellido}\"\n",
    "    else:\n",
    "        nombre_completo = f\"{nombre} {apellido}\"\n",
    "    return nombre_completo.title()\n",
    "\n",
    "musico = nombre_formato(\"frank\", \"ocean\")\n",
    "print(musico)\n",
    "\n",
    "musico = nombre_formato(\"john\", \"lee\", \"hooker\")\n",
    "print(musico)"
   ],
   "id": "a2a19ead4ffb7463",
   "outputs": [
    {
     "name": "stdout",
     "output_type": "stream",
     "text": [
      "Frank Ocean\n",
      "John Hooker Lee\n"
     ]
    }
   ],
   "execution_count": 21
  },
  {
   "metadata": {},
   "cell_type": "markdown",
   "source": [
    "### Devolver un diccionario\n",
    "\n",
    "Una función puede devolver cualquier objeto"
   ],
   "id": "7054b9d9a927f3db"
  },
  {
   "metadata": {
    "ExecuteTime": {
     "end_time": "2024-05-28T15:41:09.558007Z",
     "start_time": "2024-05-28T15:41:09.552991Z"
    }
   },
   "cell_type": "code",
   "source": [
    "def construir_persona(nombre, apellido):\n",
    "    \"\"\"Devolver un diccionario de información sobre una persona\"\"\"\n",
    "    persona = {\"nombre\": nombre, \"apellido\": apellido}\n",
    "    return persona\n",
    "\n",
    "musico = construir_persona(\"frank\", \"ocean\")\n",
    "print(musico)"
   ],
   "id": "cdce9af6ba697c06",
   "outputs": [
    {
     "name": "stdout",
     "output_type": "stream",
     "text": [
      "{'nombre': 'frank', 'apellido': 'ocean'}\n"
     ]
    }
   ],
   "execution_count": 22
  },
  {
   "metadata": {
    "ExecuteTime": {
     "end_time": "2024-05-28T15:41:09.587988Z",
     "start_time": "2024-05-28T15:41:09.583116Z"
    }
   },
   "cell_type": "code",
   "source": [
    "def construir_persona(nombre, apellido, edad = None):\n",
    "    \"\"\"Devuelve un diccionario de información sobre una persona\"\"\"\n",
    "    persona = {\"nombre\": nombre, \"apellido\": apellido}\n",
    "    if edad:\n",
    "        persona[\"edad\"] = edad\n",
    "    return persona\n",
    "\n",
    "musico = construir_persona(\"frank\", \"ocean\", 35)\n",
    "print(musico)"
   ],
   "id": "6ad6bfa089cb6845",
   "outputs": [
    {
     "name": "stdout",
     "output_type": "stream",
     "text": [
      "{'nombre': 'frank', 'apellido': 'ocean', 'edad': 35}\n"
     ]
    }
   ],
   "execution_count": 23
  },
  {
   "metadata": {},
   "cell_type": "markdown",
   "source": "### Usando una función con un loop while\n",
   "id": "6922e494fab8bf5"
  },
  {
   "metadata": {
    "ExecuteTime": {
     "end_time": "2024-05-28T15:41:16.118661Z",
     "start_time": "2024-05-28T15:41:09.629854Z"
    }
   },
   "cell_type": "code",
   "source": [
    "def obtener_nombre(nombre, apellido):\n",
    "    \"\"\"Devuelve un nombre completo, formateado\"\"\"\n",
    "    nombre_completo = f\"{nombre} {apellido}\"\n",
    "    return nombre_completo.title()\n",
    "\n",
    "while True:\n",
    "    print(\"\\nDime tu nombre: \")\n",
    "    print(\"(Entra 'q' en cualquier momento para salir del programa)\")\n",
    "    \n",
    "    f_nombre = input(\"Primer nombre: \")\n",
    "    if f_nombre == \"q\":\n",
    "        break\n",
    "        \n",
    "    l_nombre = input(\"Apellido: \")\n",
    "    if l_nombre == \"q\":\n",
    "        break\n",
    "        \n",
    "    nombre_formateado = obtener_nombre(f_nombre, l_nombre)\n",
    "    print(f\"\\nHola, {nombre_formateado}\")"
   ],
   "id": "8743d4e6b894d1cf",
   "outputs": [
    {
     "name": "stdout",
     "output_type": "stream",
     "text": [
      "\n",
      "Dime tu nombre: \n",
      "(Entra 'q' en cualquier momento para salir del programa)\n",
      "\n",
      "Hola, Mateo Vega\n",
      "\n",
      "Dime tu nombre: \n",
      "(Entra 'q' en cualquier momento para salir del programa)\n"
     ]
    }
   ],
   "execution_count": 24
  },
  {
   "metadata": {},
   "cell_type": "markdown",
   "source": [
    "### Ejercicios\n",
    "\n",
    "1. Una función que reciba una ciudad y un pais que devuelva \"ciudad, pais\""
   ],
   "id": "2d302173f7414c31"
  },
  {
   "metadata": {
    "ExecuteTime": {
     "end_time": "2024-05-28T15:41:16.123207Z",
     "start_time": "2024-05-28T15:41:16.118661Z"
    }
   },
   "cell_type": "code",
   "source": [
    "def ciudad_pais(ciudad, pais):\n",
    "    \"\"\"Devuelve la ciudad, pais\"\"\"\n",
    "    return f\"{ciudad.title()}, {pais.title()}\""
   ],
   "id": "3dbe0826a99f3c40",
   "outputs": [],
   "execution_count": 25
  },
  {
   "metadata": {
    "ExecuteTime": {
     "end_time": "2024-05-28T15:41:16.130477Z",
     "start_time": "2024-05-28T15:41:16.124215Z"
    }
   },
   "cell_type": "code",
   "source": "ciudad_pais(\"bogota\", \"colombia\")",
   "id": "3b9100287fc198b8",
   "outputs": [
    {
     "data": {
      "text/plain": [
       "'Bogota, Colombia'"
      ]
     },
     "execution_count": 26,
     "metadata": {},
     "output_type": "execute_result"
    }
   ],
   "execution_count": 26
  },
  {
   "metadata": {},
   "cell_type": "markdown",
   "source": "2. una función que devuelva un diccionario describiendo un álbum",
   "id": "de586378ca27288a"
  },
  {
   "metadata": {
    "ExecuteTime": {
     "end_time": "2024-05-28T15:41:16.135146Z",
     "start_time": "2024-05-28T15:41:16.131485Z"
    }
   },
   "cell_type": "code",
   "source": [
    "def hacer_album(artista, nombre, num_canciones = None):\n",
    "    \"\"\"Imprime el nombre del artista con el nombre del album\"\"\"\n",
    "    if num_canciones:\n",
    "        album = {\"Nombre\": nombre.title(), \"Artista\": artista.title(), \"Numero canciones\": num_canciones}\n",
    "    else:\n",
    "        album = {\"Nombre\": nombre.title(), \"Artista\": artista.title()}\n",
    "    return album"
   ],
   "id": "dfd26387c3c7dead",
   "outputs": [],
   "execution_count": 27
  },
  {
   "metadata": {
    "ExecuteTime": {
     "end_time": "2024-05-28T15:41:16.140724Z",
     "start_time": "2024-05-28T15:41:16.136155Z"
    }
   },
   "cell_type": "code",
   "source": "hacer_album(\"Kanye\", \"yeezus\")",
   "id": "9dbf82f8e9e57bbe",
   "outputs": [
    {
     "data": {
      "text/plain": [
       "{'Nombre': 'Yeezus', 'Artista': 'Kanye'}"
      ]
     },
     "execution_count": 28,
     "metadata": {},
     "output_type": "execute_result"
    }
   ],
   "execution_count": 28
  },
  {
   "metadata": {
    "ExecuteTime": {
     "end_time": "2024-05-28T15:41:16.146456Z",
     "start_time": "2024-05-28T15:41:16.141734Z"
    }
   },
   "cell_type": "code",
   "source": "hacer_album(\"frank ocean\", \"blonde\", 12)",
   "id": "3658c7bbcb6b0f6b",
   "outputs": [
    {
     "data": {
      "text/plain": [
       "{'Nombre': 'Blonde', 'Artista': 'Frank Ocean', 'Numero canciones': 12}"
      ]
     },
     "execution_count": 29,
     "metadata": {},
     "output_type": "execute_result"
    }
   ],
   "execution_count": 29
  },
  {
   "metadata": {},
   "cell_type": "markdown",
   "source": "3. Hacer la función de albumes con un while que permita al usuario ingresar los artistas y titulos",
   "id": "4e2f7cef1fb5e690"
  },
  {
   "metadata": {
    "ExecuteTime": {
     "end_time": "2024-05-28T15:41:19.438286Z",
     "start_time": "2024-05-28T15:41:16.171107Z"
    }
   },
   "cell_type": "code",
   "source": [
    "def hacer_album2():\n",
    "    salir = 'y'\n",
    "    while salir != 'q':\n",
    "        artista = input(\"Ingrese el nombre de su artista \")\n",
    "        titulo = input(\"Ingrese el nombre del album \")\n",
    "        album = hacer_album(artista, titulo)\n",
    "        print(album)\n",
    "        salir = input(\"Si desea salir ingreses 'q' \")\n",
    "        \n",
    "hacer_album2()"
   ],
   "id": "b2b8fc9f126ca221",
   "outputs": [
    {
     "name": "stdout",
     "output_type": "stream",
     "text": [
      "{'Nombre': 'Q', 'Artista': 'Q'}\n"
     ]
    }
   ],
   "execution_count": 30
  },
  {
   "metadata": {},
   "cell_type": "markdown",
   "source": [
    "## Pasando una lista\n",
    "\n",
    "Las funciones pueden recibir cualquier tipo de objeto"
   ],
   "id": "bfbeb7ee3f6aafc"
  },
  {
   "metadata": {
    "ExecuteTime": {
     "end_time": "2024-05-28T15:41:19.443761Z",
     "start_time": "2024-05-28T15:41:19.438286Z"
    }
   },
   "cell_type": "code",
   "source": [
    "def saludar(nombres):\n",
    "    \"\"\"Imprime un saluda a cada usuario\"\"\"\n",
    "    for nombre in nombres:\n",
    "        msg = f\"Hola, {nombre.title()}!\"\n",
    "        print(msg)\n",
    "        \n",
    "usuarios = [\"Mateo\", \"Tatiana\", \"Nicole\", \"Cristian\"]\n",
    "saludar(usuarios)"
   ],
   "id": "42e5389989c49769",
   "outputs": [
    {
     "name": "stdout",
     "output_type": "stream",
     "text": [
      "Hola, Mateo!\n",
      "Hola, Tatiana!\n",
      "Hola, Nicole!\n",
      "Hola, Cristian!\n"
     ]
    }
   ],
   "execution_count": 31
  },
  {
   "metadata": {},
   "cell_type": "markdown",
   "source": [
    "### Modificar una lista en una función\n",
    "\n"
   ],
   "id": "9f9e18618ee5c9c"
  },
  {
   "metadata": {
    "ExecuteTime": {
     "end_time": "2024-05-28T15:41:19.449851Z",
     "start_time": "2024-05-28T15:41:19.444770Z"
    }
   },
   "cell_type": "code",
   "source": [
    "# diseños que necesitan ser impresos\n",
    "\n",
    "disenos_iniciales = [\"cargadores\", \"pendiente\", \"Triangulo\"]\n",
    "modelos_completos = []\n",
    "\n",
    "# simular los diseños hasta que no hayan mas\n",
    "# mover cada diseño a modelos_completos despues de imprimir\n",
    "\n",
    "while disenos_iniciales:\n",
    "    diseno_actual = disenos_iniciales.pop()\n",
    "    print(f\"Imprimiendo modelo: {diseno_actual}\")\n",
    "    modelos_completos.append(diseno_actual)\n",
    "    \n",
    "# mostrar los modelos completos\n",
    "print(\"\\nLos siguientes modelos han sido impresos: \")\n",
    "for modelo in modelos_completos:\n",
    "    print(modelo)"
   ],
   "id": "8b0276a7ac875229",
   "outputs": [
    {
     "name": "stdout",
     "output_type": "stream",
     "text": [
      "Imprimiendo modelo: Triangulo\n",
      "Imprimiendo modelo: pendiente\n",
      "Imprimiendo modelo: cargadores\n",
      "\n",
      "Los siguientes modelos han sido impresos: \n",
      "Triangulo\n",
      "pendiente\n",
      "cargadores\n"
     ]
    }
   ],
   "execution_count": 32
  },
  {
   "metadata": {},
   "cell_type": "markdown",
   "source": "Se puede hacer lo mismo con dos funciones",
   "id": "3e19cd166afc3d9c"
  },
  {
   "metadata": {
    "ExecuteTime": {
     "end_time": "2024-05-28T15:45:26.373379Z",
     "start_time": "2024-05-28T15:45:26.368360Z"
    }
   },
   "cell_type": "code",
   "source": [
    "def imprimir_modelos(disenos_iniciales, modelos_completos):\n",
    "    \"\"\"\n",
    "    Simular imprimir cada diseño hasta que no quede ninguno\n",
    "    Mover cada diseño a modelos_completos despues de imprimir\n",
    "    \"\"\"\n",
    "    while disenos_iniciales:\n",
    "        diseno_actual = disenos_iniciales.pop()\n",
    "        print(f\"Imprimiendo el modelo: {diseno_actual}\")\n",
    "        modelos_completos.append(diseno_actual)\n",
    "\n",
    "def mostrar_modelos(modelos_completos):\n",
    "    \"\"\"Muestra los modelos que se han imprimido\"\"\"\n",
    "    print(\"\\nLos siguientes modelos han sido imprimidos: \")\n",
    "    for modelo in modelos_completos:\n",
    "        print(modelo)\n",
    "        \n",
    "disenos_iniciales = [\"cargadores\", \"pendiente\", \"Triangulo\"]\n",
    "modelos_completos = []\n",
    "\n",
    "imprimir_modelos(disenos_iniciales, modelos_completos)\n",
    "mostrar_modelos(modelos_completos)"
   ],
   "id": "fd640d720aec376a",
   "outputs": [
    {
     "name": "stdout",
     "output_type": "stream",
     "text": [
      "Imprimiendo el modelo: Triangulo\n",
      "Imprimiendo el modelo: pendiente\n",
      "Imprimiendo el modelo: cargadores\n",
      "\n",
      "Los siguientes modelos han sido imprimidos: \n",
      "Triangulo\n",
      "pendiente\n",
      "cargadores\n"
     ]
    }
   ],
   "execution_count": 33
  },
  {
   "metadata": {},
   "cell_type": "markdown",
   "source": [
    "Dividir el trabajo en funciones hace que sea mas organizado, que sea más fácil de mantener.\n",
    "\n",
    "### Evitando que una función modifique una lista"
   ],
   "id": "a2948b59a0a7f172"
  },
  {
   "metadata": {
    "ExecuteTime": {
     "end_time": "2024-05-28T15:50:29.203248Z",
     "start_time": "2024-05-28T15:50:29.198885Z"
    }
   },
   "cell_type": "code",
   "source": [
    "# para evitar que se pierda la original podemos pasar una copia de la lista\n",
    "\n",
    "disenos_iniciales = [\"cargadores\", \"pendiente\", \"Triangulo\"]\n",
    "modelos_completos = []\n",
    "\n",
    "imprimir_modelos(disenos_iniciales[:], modelos_completos)\n",
    "mostrar_modelos(modelos_completos)\n",
    "\n",
    "print(disenos_iniciales)"
   ],
   "id": "fbce41c4bb4386d6",
   "outputs": [
    {
     "name": "stdout",
     "output_type": "stream",
     "text": [
      "Imprimiendo el modelo: Triangulo\n",
      "Imprimiendo el modelo: pendiente\n",
      "Imprimiendo el modelo: cargadores\n",
      "\n",
      "Los siguientes modelos han sido imprimidos: \n",
      "Triangulo\n",
      "pendiente\n",
      "cargadores\n",
      "['cargadores', 'pendiente', 'Triangulo']\n"
     ]
    }
   ],
   "execution_count": 34
  },
  {
   "metadata": {},
   "cell_type": "markdown",
   "source": [
    "### Ejercicios\n",
    "\n",
    "1. Escribir una lista de mensaje cortos y una función que los imprima"
   ],
   "id": "f845692c0c1191d6"
  },
  {
   "metadata": {
    "ExecuteTime": {
     "end_time": "2024-05-28T16:02:28.888589Z",
     "start_time": "2024-05-28T16:02:28.884876Z"
    }
   },
   "cell_type": "code",
   "source": [
    "mensajes = [\"Hola como estas?\", \"Bien y tu?\", \"Bien gracias\", \"Ok hasta luego\"]\n",
    "\n",
    "def imprimir(mensajes):\n",
    "    for mensaje in mensajes:\n",
    "        print(mensaje)\n",
    "        \n",
    "imprimir(mensajes)"
   ],
   "id": "f5514db095aa5eab",
   "outputs": [
    {
     "name": "stdout",
     "output_type": "stream",
     "text": [
      "Hola como estas?\n",
      "Bien y tu?\n",
      "Bien gracias\n",
      "Ok hasta luego\n"
     ]
    }
   ],
   "execution_count": 35
  },
  {
   "metadata": {
    "ExecuteTime": {
     "end_time": "2024-05-28T16:07:13.197053Z",
     "start_time": "2024-05-28T16:07:13.193056Z"
    }
   },
   "cell_type": "code",
   "source": [
    "# ahora crear otra lista para mover los mensajes despues de enviarlos\n",
    "mensajes = [\"Hola como estas?\", \"Bien y tu?\", \"Bien gracias\", \"Ok hasta luego\"]\n",
    "enviados = []\n",
    "\n",
    "def enviar_mensaje(mensajes):\n",
    "    while mensajes:\n",
    "        mensaje = mensajes.pop()\n",
    "        print(mensaje)\n",
    "        enviados.append(mensaje)\n",
    "\n",
    "enviar_mensaje(mensajes)\n",
    "print(mensajes)\n",
    "print(enviados)"
   ],
   "id": "f2124f90c0fc4ba4",
   "outputs": [
    {
     "name": "stdout",
     "output_type": "stream",
     "text": [
      "Ok hasta luego\n",
      "Bien gracias\n",
      "Bien y tu?\n",
      "Hola como estas?\n",
      "[]\n",
      "['Ok hasta luego', 'Bien gracias', 'Bien y tu?', 'Hola como estas?']\n"
     ]
    }
   ],
   "execution_count": 37
  },
  {
   "metadata": {
    "ExecuteTime": {
     "end_time": "2024-05-28T16:12:10.420578Z",
     "start_time": "2024-05-28T16:12:10.417033Z"
    }
   },
   "cell_type": "code",
   "source": [
    "# mensajes archivados\n",
    "mensajes = [\"Hola como estas?\", \"Bien y tu?\", \"Bien gracias\", \"Ok hasta luego\"]\n",
    "enviados = []\n",
    "\n",
    "enviar_mensaje(mensajes[:])\n",
    "print(mensajes)\n",
    "print(enviados)"
   ],
   "id": "676d81ede911bf66",
   "outputs": [
    {
     "name": "stdout",
     "output_type": "stream",
     "text": [
      "Ok hasta luego\n",
      "Bien gracias\n",
      "Bien y tu?\n",
      "Hola como estas?\n",
      "['Hola como estas?', 'Bien y tu?', 'Bien gracias', 'Ok hasta luego']\n",
      "['Ok hasta luego', 'Bien gracias', 'Bien y tu?', 'Hola como estas?']\n"
     ]
    }
   ],
   "execution_count": 40
  },
  {
   "metadata": {},
   "cell_type": "markdown",
   "source": [
    "### Pasando un número arbitrario de argumentos\n",
    "\n",
    "Cuando no es necesario especificar el número total de argumentos"
   ],
   "id": "d00f692fb9262bd2"
  },
  {
   "metadata": {
    "ExecuteTime": {
     "end_time": "2024-05-28T19:45:53.469607Z",
     "start_time": "2024-05-28T19:45:53.464576Z"
    }
   },
   "cell_type": "code",
   "source": [
    "def hacer_pizza(*ingredientes):\n",
    "    \"\"\"Imprimir la lista de ingredientes que se piden.\"\"\"\n",
    "    print(ingredientes)\n",
    "    \n",
    "hacer_pizza(\"carne\")\n",
    "hacer_pizza(\"champiñones\", \"carne\", \"queso\", \"piña\")"
   ],
   "id": "9c474b3d7d785bf8",
   "outputs": [
    {
     "name": "stdout",
     "output_type": "stream",
     "text": [
      "('carne',)\n",
      "('champiñones', 'carne', 'queso', 'piña')\n"
     ]
    }
   ],
   "execution_count": 41
  },
  {
   "metadata": {
    "ExecuteTime": {
     "end_time": "2024-05-28T19:47:02.025638Z",
     "start_time": "2024-05-28T19:47:02.021734Z"
    }
   },
   "cell_type": "code",
   "source": [
    "def hacer_pizza(*ingredientes):\n",
    "    print(\"\\nHaciendo una pizza con los siguientes ingredientes: \")\n",
    "    for ingrediente in ingredientes:\n",
    "        print(f\"- {ingrediente}\")\n",
    "        \n",
    "hacer_pizza(\"carne\")\n",
    "hacer_pizza(\"champiñones\", \"carne\", \"queso\", \"piña\")"
   ],
   "id": "5fd06484f02367d7",
   "outputs": [
    {
     "name": "stdout",
     "output_type": "stream",
     "text": [
      "\n",
      "Haciendo una pizza con los siguientes ingredientes: \n",
      "- carne\n",
      "\n",
      "Haciendo una pizza con los siguientes ingredientes: \n",
      "- champiñones\n",
      "- carne\n",
      "- queso\n",
      "- piña\n"
     ]
    }
   ],
   "execution_count": 43
  },
  {
   "metadata": {},
   "cell_type": "markdown",
   "source": [
    "### Mezclando argumentos posicionales y arbitrarios\n",
    "\n",
    "Los argumentos arbitrarios deben ir de últimos en la lista de argumentos de la función"
   ],
   "id": "d1eeab87c8358bdc"
  },
  {
   "metadata": {
    "ExecuteTime": {
     "end_time": "2024-05-28T19:50:15.667310Z",
     "start_time": "2024-05-28T19:50:15.663173Z"
    }
   },
   "cell_type": "code",
   "source": [
    "## Ingredientes es una tupla\n",
    "\n",
    "def hacer_pizza(tamano, *ingredientes):\n",
    "    print(f\"\\nEstamos haciendo una pizza tamaño {tamano} con los siguientes ingredientes: \")\n",
    "    for ingrediente in ingredientes:\n",
    "        print(f\"- {ingrediente}\")\n",
    "        \n",
    "hacer_pizza(\"l\", \"carne\")\n",
    "hacer_pizza(\"s\", \"queso\", \"piña\")"
   ],
   "id": "eed4d191a45554d1",
   "outputs": [
    {
     "name": "stdout",
     "output_type": "stream",
     "text": [
      "\n",
      "Estamos haciendo una pizza tamaño l con los siguientes ingredientes: \n",
      "- carne\n",
      "\n",
      "Estamos haciendo una pizza tamaño s con los siguientes ingredientes: \n",
      "- queso\n",
      "- piña\n"
     ]
    }
   ],
   "execution_count": 44
  },
  {
   "metadata": {},
   "cell_type": "markdown",
   "source": [
    "### Usando argumentos arbitrarios con nombre\n",
    "\n"
   ],
   "id": "7150770a06c512f8"
  },
  {
   "metadata": {
    "ExecuteTime": {
     "end_time": "2024-05-28T20:07:30.544640Z",
     "start_time": "2024-05-28T20:07:30.540547Z"
    }
   },
   "cell_type": "code",
   "source": [
    "## los doble astericos ** permiten al usuario entrar un diccionario\n",
    "\n",
    "def hacer_perfil(nombre, apellido, **informacion_usuario):\n",
    "    \"\"\"Construye un diccionario con todo lo que se sabe del usuario\"\"\"\n",
    "    informacion_usuario[\"Nombre\"] = nombre\n",
    "    informacion_usuario[\"Apellido\"] = apellido\n",
    "    return informacion_usuario\n",
    "\n",
    "usuario = hacer_perfil(\"albert\", \"einstein\",\n",
    "                       ubicacion = \"princeton\",\n",
    "                       campo = \"fisica\")\n",
    "\n",
    "print(usuario)"
   ],
   "id": "e74e0634838e1933",
   "outputs": [
    {
     "name": "stdout",
     "output_type": "stream",
     "text": [
      "{'ubicacion': 'princeton', 'campo': 'fisica', 'Nombre': 'albert', 'Apellido': 'einstein'}\n"
     ]
    }
   ],
   "execution_count": 46
  },
  {
   "metadata": {},
   "cell_type": "markdown",
   "source": [
    "### Ejercicios \n",
    "\n",
    "1. Unas función que acepte la lista de ingredientes de un sandwich\n",
    "2. perfil mío usando `hacer_perfil()`\n",
    "3. Una función que guarda información de un carro en un diccionario"
   ],
   "id": "b20c3dba28b9a298"
  },
  {
   "metadata": {
    "ExecuteTime": {
     "end_time": "2024-05-28T20:37:12.801800Z",
     "start_time": "2024-05-28T20:37:12.798043Z"
    }
   },
   "cell_type": "code",
   "source": [
    "# 1\n",
    "def hacer_sandwich(*ingredientes):\n",
    "    \"\"\"Imprime los ingredientes usados para un sandwich\"\"\"\n",
    "    print(\"El sandwich contiene: \")\n",
    "    for ingrediente in ingredientes:\n",
    "        print(f\" -{ingrediente}\")\n",
    "        \n",
    "hacer_sandwich(\"pan\", \"queso\", \"tomate\", \"carne\")"
   ],
   "id": "aef8b9031152b02a",
   "outputs": [
    {
     "name": "stdout",
     "output_type": "stream",
     "text": [
      "El sandwich contiene: \n",
      " -pan\n",
      " -queso\n",
      " -tomate\n",
      " -carne\n"
     ]
    }
   ],
   "execution_count": 47
  },
  {
   "metadata": {
    "ExecuteTime": {
     "end_time": "2024-05-28T20:47:56.204583Z",
     "start_time": "2024-05-28T20:47:56.200067Z"
    }
   },
   "cell_type": "code",
   "source": [
    "# 2\n",
    "mateo = hacer_perfil(\"mateo\", \"vega\", ubicacion = \"guasca\", campo = \"estadistica\", estado = \"casado\")\n",
    "print(mateo)"
   ],
   "id": "ac01d5149a37adea",
   "outputs": [
    {
     "name": "stdout",
     "output_type": "stream",
     "text": [
      "{'ubicacion': 'guasca', 'campo': 'estadistica', 'estado': 'casado', 'Nombre': 'mateo', 'Apellido': 'vega'}\n"
     ]
    }
   ],
   "execution_count": 49
  },
  {
   "metadata": {
    "ExecuteTime": {
     "end_time": "2024-05-28T20:50:25.856114Z",
     "start_time": "2024-05-28T20:50:25.851737Z"
    }
   },
   "cell_type": "code",
   "source": [
    "# 3\n",
    "\n",
    "def hacer_carro(marca, modelo, **caracteristicas):\n",
    "    caracteristicas[\"marca\"] = marca\n",
    "    caracteristicas[\"modelo\"] = modelo\n",
    "    return caracteristicas\n",
    "\n",
    "carro = hacer_carro(\"subaru\", \"outback\", color = \"azul\", tow_package = True)\n",
    "print(carro)"
   ],
   "id": "da97a9472a81813",
   "outputs": [
    {
     "name": "stdout",
     "output_type": "stream",
     "text": [
      "{'color': 'azul', 'tow_package': True, 'marca': 'subaru', 'modelo': 'outback'}\n"
     ]
    }
   ],
   "execution_count": 50
  }
 ],
 "metadata": {
  "kernelspec": {
   "display_name": "Python 3",
   "language": "python",
   "name": "python3"
  },
  "language_info": {
   "codemirror_mode": {
    "name": "ipython",
    "version": 2
   },
   "file_extension": ".py",
   "mimetype": "text/x-python",
   "name": "python",
   "nbconvert_exporter": "python",
   "pygments_lexer": "ipython2",
   "version": "2.7.6"
  }
 },
 "nbformat": 4,
 "nbformat_minor": 5
}
