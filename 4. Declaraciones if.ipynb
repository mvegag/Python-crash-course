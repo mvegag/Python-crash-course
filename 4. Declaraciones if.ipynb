{
 "cells": [
  {
   "cell_type": "markdown",
   "id": "575acf3f",
   "metadata": {},
   "source": [
    "## Un ejemplo simple\n",
    "\n",
    "Como ejemplo escribirmos un código que revisa si la marca de carro es BMW, en ese caso la imprime toda en mayusculas"
   ]
  },
  {
   "cell_type": "code",
   "execution_count": 1,
   "id": "a7edb2d2",
   "metadata": {
    "scrolled": true
   },
   "outputs": [],
   "source": [
    "carros = [\"audi\", \"bmw\", \"subaru\", \"toyota\"]"
   ]
  },
  {
   "cell_type": "code",
   "execution_count": 2,
   "id": "ba7c60b1",
   "metadata": {},
   "outputs": [
    {
     "name": "stdout",
     "output_type": "stream",
     "text": [
      "Audi\n",
      "BMW\n",
      "Subaru\n",
      "Toyota\n"
     ]
    }
   ],
   "source": [
    "for carro in carros:\n",
    "    if carro == \"bmw\":\n",
    "        print(carro.upper())\n",
    "    else:\n",
    "        print(carro.title())"
   ]
  },
  {
   "cell_type": "markdown",
   "id": "3db7c3ad",
   "metadata": {},
   "source": [
    "## Pruebas condicionales\n",
    "\n",
    "En cada declaración if hay una expresión que se puede evaluar `True` o `False`, esto es una prueba condicional.\n",
    "\n",
    "### Probando igualdad"
   ]
  },
  {
   "cell_type": "code",
   "execution_count": 3,
   "id": "3d005e04",
   "metadata": {},
   "outputs": [
    {
     "data": {
      "text/plain": [
       "True"
      ]
     },
     "execution_count": 3,
     "metadata": {},
     "output_type": "execute_result"
    }
   ],
   "source": [
    "carro = \"bmw\"\n",
    "carro == \"bmw\" # == es el operador de igualdad"
   ]
  },
  {
   "cell_type": "code",
   "execution_count": 4,
   "id": "2e61b41f",
   "metadata": {},
   "outputs": [
    {
     "data": {
      "text/plain": [
       "False"
      ]
     },
     "execution_count": 4,
     "metadata": {},
     "output_type": "execute_result"
    }
   ],
   "source": [
    "carro = \"audi\"\n",
    "carro == \"bmw\""
   ]
  },
  {
   "cell_type": "markdown",
   "id": "b72fb752",
   "metadata": {},
   "source": [
    "### Ignorando la mayuscula al probar igualdad"
   ]
  },
  {
   "cell_type": "code",
   "execution_count": 5,
   "id": "b09ede37",
   "metadata": {},
   "outputs": [
    {
     "data": {
      "text/plain": [
       "False"
      ]
     },
     "execution_count": 5,
     "metadata": {},
     "output_type": "execute_result"
    }
   ],
   "source": [
    "carro = \"Audi\"\n",
    "carro == \"audi\""
   ]
  },
  {
   "cell_type": "code",
   "execution_count": 6,
   "id": "65699b02",
   "metadata": {},
   "outputs": [
    {
     "data": {
      "text/plain": [
       "True"
      ]
     },
     "execution_count": 6,
     "metadata": {},
     "output_type": "execute_result"
    }
   ],
   "source": [
    "carro.lower() == \"audi\" # en esta prueba no importa si es carro está en mayuscula o no, se transforma a minuscula"
   ]
  },
  {
   "cell_type": "code",
   "execution_count": 7,
   "id": "5d297ceb",
   "metadata": {},
   "outputs": [
    {
     "data": {
      "text/plain": [
       "'Audi'"
      ]
     },
     "execution_count": 7,
     "metadata": {},
     "output_type": "execute_result"
    }
   ],
   "source": [
    "# lower() no afecta a la variable original\n",
    "carro"
   ]
  },
  {
   "cell_type": "markdown",
   "id": "03849284",
   "metadata": {},
   "source": [
    "### Probando desigualdades"
   ]
  },
  {
   "cell_type": "code",
   "execution_count": 8,
   "id": "c90ce004",
   "metadata": {},
   "outputs": [
    {
     "name": "stdout",
     "output_type": "stream",
     "text": [
      "No sirvan pollo!\n"
     ]
    }
   ],
   "source": [
    "ingredientes = \"champiñones\"\n",
    "\n",
    "if ingredientes != \"pollo\": # != es verdadero si los dos objetos son diferentes\n",
    "    print(\"No sirvan pollo!\")"
   ]
  },
  {
   "cell_type": "markdown",
   "id": "80798b23",
   "metadata": {},
   "source": [
    "### Comparaciones numéricas\n",
    "\n",
    "Se hace igual que lo visto anterior."
   ]
  },
  {
   "cell_type": "code",
   "execution_count": 9,
   "id": "32ae212f",
   "metadata": {},
   "outputs": [
    {
     "data": {
      "text/plain": [
       "True"
      ]
     },
     "execution_count": 9,
     "metadata": {},
     "output_type": "execute_result"
    }
   ],
   "source": [
    "edad = 18\n",
    "edad == 18"
   ]
  },
  {
   "cell_type": "code",
   "execution_count": 10,
   "id": "e1a8210b",
   "metadata": {},
   "outputs": [
    {
     "name": "stdout",
     "output_type": "stream",
     "text": [
      "Esa no es la respuesta correcta!\n"
     ]
    }
   ],
   "source": [
    "# se puede probar también si dos números son diferentes\n",
    "\n",
    "respuesta = 17\n",
    "if respuesta != 42:\n",
    "    print(\"Esa no es la respuesta correcta!\")"
   ]
  },
  {
   "cell_type": "code",
   "execution_count": 11,
   "id": "8c68ad45",
   "metadata": {},
   "outputs": [
    {
     "data": {
      "text/plain": [
       "True"
      ]
     },
     "execution_count": 11,
     "metadata": {},
     "output_type": "execute_result"
    }
   ],
   "source": [
    "# se pueden tener otras declaraciones condicionales\n",
    "\n",
    "edad = 19\n",
    "edad < 21"
   ]
  },
  {
   "cell_type": "code",
   "execution_count": 12,
   "id": "c1befa1c",
   "metadata": {},
   "outputs": [
    {
     "data": {
      "text/plain": [
       "True"
      ]
     },
     "execution_count": 12,
     "metadata": {},
     "output_type": "execute_result"
    }
   ],
   "source": [
    "edad <= 21"
   ]
  },
  {
   "cell_type": "code",
   "execution_count": 13,
   "id": "4c25d3ba",
   "metadata": {},
   "outputs": [
    {
     "data": {
      "text/plain": [
       "False"
      ]
     },
     "execution_count": 13,
     "metadata": {},
     "output_type": "execute_result"
    }
   ],
   "source": [
    "edad > 21"
   ]
  },
  {
   "cell_type": "code",
   "execution_count": 14,
   "id": "a34d93dc",
   "metadata": {},
   "outputs": [
    {
     "data": {
      "text/plain": [
       "False"
      ]
     },
     "execution_count": 14,
     "metadata": {},
     "output_type": "execute_result"
    }
   ],
   "source": [
    "edad >= 21"
   ]
  },
  {
   "cell_type": "markdown",
   "id": "570a44b4",
   "metadata": {},
   "source": [
    "### Probando multiples condiciones\n",
    "\n",
    "Por ejemplo, a veces se necesita que se cumplan dos condiciones o más al tiempo para proceder a la acción.\n",
    "\n",
    "#### Usando and para probar multiples condiciones\n",
    "\n",
    "`and` evalua ambas expresiones, si ambas son verdaderas devuelve verdadero, si alguna falla devuelve falso"
   ]
  },
  {
   "cell_type": "code",
   "execution_count": 15,
   "id": "a76836b3",
   "metadata": {},
   "outputs": [
    {
     "data": {
      "text/plain": [
       "False"
      ]
     },
     "execution_count": 15,
     "metadata": {},
     "output_type": "execute_result"
    }
   ],
   "source": [
    "edad_0 = 22\n",
    "edad_1 = 18\n",
    "\n",
    "edad_0 >= 21 and edad_1 >= 21"
   ]
  },
  {
   "cell_type": "code",
   "execution_count": 16,
   "id": "81a6e12f",
   "metadata": {},
   "outputs": [
    {
     "data": {
      "text/plain": [
       "True"
      ]
     },
     "execution_count": 16,
     "metadata": {},
     "output_type": "execute_result"
    }
   ],
   "source": [
    "edad_1 = 22\n",
    "\n",
    "edad_0 >= 21 and edad_1 >= 21"
   ]
  },
  {
   "cell_type": "code",
   "execution_count": 17,
   "id": "524c2f75",
   "metadata": {},
   "outputs": [
    {
     "data": {
      "text/plain": [
       "True"
      ]
     },
     "execution_count": 17,
     "metadata": {},
     "output_type": "execute_result"
    }
   ],
   "source": [
    "# se pueden usar parentesis para que sean mas facil de leer\n",
    "\n",
    "(edad_0 >= 21) and (edad_1 >= 21)"
   ]
  },
  {
   "cell_type": "markdown",
   "id": "8cb8f8bc",
   "metadata": {},
   "source": [
    "#### Usando or para probar multiples condiciones\n",
    "\n",
    "`or` devuelve `True` si alguna de las dos condiciones es verdadera y `False` si ambas son falsas."
   ]
  },
  {
   "cell_type": "code",
   "execution_count": 18,
   "id": "27df724b",
   "metadata": {},
   "outputs": [
    {
     "data": {
      "text/plain": [
       "True"
      ]
     },
     "execution_count": 18,
     "metadata": {},
     "output_type": "execute_result"
    }
   ],
   "source": [
    "edad_0 = 22\n",
    "edad_1 = 18\n",
    "\n",
    "edad_0 >= 21 or edad_1 >= 21"
   ]
  },
  {
   "cell_type": "code",
   "execution_count": 19,
   "id": "bea3b0df",
   "metadata": {},
   "outputs": [
    {
     "data": {
      "text/plain": [
       "False"
      ]
     },
     "execution_count": 19,
     "metadata": {},
     "output_type": "execute_result"
    }
   ],
   "source": [
    "edad_0 = 18\n",
    "edad_0 >= 21 or edad_1 >= 21"
   ]
  },
  {
   "cell_type": "markdown",
   "id": "35994e69",
   "metadata": {},
   "source": [
    "## Probando si un valor está en una lista\n",
    "\n",
    "Para esto se usa la palabra `in`"
   ]
  },
  {
   "cell_type": "code",
   "execution_count": 20,
   "id": "b15236ee",
   "metadata": {},
   "outputs": [
    {
     "data": {
      "text/plain": [
       "True"
      ]
     },
     "execution_count": 20,
     "metadata": {},
     "output_type": "execute_result"
    }
   ],
   "source": [
    "ingredientes = ['champiñones', 'cebollas', 'piña']\n",
    "\n",
    "'champiñones' in ingredientes"
   ]
  },
  {
   "cell_type": "code",
   "execution_count": 21,
   "id": "85ae1d0c",
   "metadata": {},
   "outputs": [
    {
     "data": {
      "text/plain": [
       "False"
      ]
     },
     "execution_count": 21,
     "metadata": {},
     "output_type": "execute_result"
    }
   ],
   "source": [
    "'carne' in ingredientes"
   ]
  },
  {
   "cell_type": "markdown",
   "id": "36954f23",
   "metadata": {},
   "source": [
    "### Probando si un valor no está en la lista\n",
    "\n",
    "Para esto usamos la palabra `not`"
   ]
  },
  {
   "cell_type": "code",
   "execution_count": 22,
   "id": "1769029f",
   "metadata": {},
   "outputs": [
    {
     "name": "stdout",
     "output_type": "stream",
     "text": [
      "Daniela, puede postear una respuesta.\n"
     ]
    }
   ],
   "source": [
    "usuarios_baneados = ['Mateo', 'Tatiana', 'Samuel']\n",
    "usuario = 'Daniela'\n",
    "\n",
    "if usuario not in usuarios_baneados:\n",
    "    print(f\"{usuario.title()}, puede postear una respuesta.\")"
   ]
  },
  {
   "cell_type": "markdown",
   "id": "9fc0173e",
   "metadata": {},
   "source": [
    "## Expresiones booleanas\n",
    "\n",
    "Un valor booleano es verdadero o falso, se usan para hacer seguimiento a algunas condiciones"
   ]
  },
  {
   "cell_type": "code",
   "execution_count": 23,
   "id": "474ac4d1",
   "metadata": {},
   "outputs": [],
   "source": [
    "juego_activo = True\n",
    "puede_editar = False"
   ]
  },
  {
   "cell_type": "markdown",
   "id": "e0518c3d",
   "metadata": {},
   "source": [
    "## Ejercicios"
   ]
  },
  {
   "cell_type": "code",
   "execution_count": 25,
   "id": "4f6f295e",
   "metadata": {},
   "outputs": [
    {
     "name": "stdout",
     "output_type": "stream",
     "text": [
      "el carro es suzuki?\n",
      "True\n"
     ]
    }
   ],
   "source": [
    "# 1. escribir una serie de expresiones condicionales\n",
    "\n",
    "carro = 'suzuki'\n",
    "print(\"el carro es suzuki?\")\n",
    "print(carro == 'suzuki')"
   ]
  },
  {
   "cell_type": "code",
   "execution_count": 26,
   "id": "e0ebc0f9",
   "metadata": {},
   "outputs": [
    {
     "name": "stdout",
     "output_type": "stream",
     "text": [
      "Mateo está invitado?\n",
      "True\n"
     ]
    }
   ],
   "source": [
    "invitados = ['Daniela', 'Mateo', 'Cristian']\n",
    "print(\"Mateo está invitado?\")\n",
    "print(\"Mateo\" in invitados)"
   ]
  },
  {
   "cell_type": "code",
   "execution_count": 27,
   "id": "c0a8007f",
   "metadata": {},
   "outputs": [
    {
     "name": "stdout",
     "output_type": "stream",
     "text": [
      "La edad es igual o mayor a 50?\n",
      "True\n"
     ]
    }
   ],
   "source": [
    "edad = 50\n",
    "print(\"La edad es igual o mayor a 50?\")\n",
    "print(edad >= 50)"
   ]
  },
  {
   "cell_type": "code",
   "execution_count": 29,
   "id": "d9fd4beb",
   "metadata": {},
   "outputs": [
    {
     "name": "stdout",
     "output_type": "stream",
     "text": [
      "\n",
      " El nombre es mateo?\n",
      "False\n"
     ]
    }
   ],
   "source": [
    "nombres = \"Mateo\"\n",
    "print(\"\\n El nombre es mateo?\")\n",
    "print(nombres == \"mateo\")"
   ]
  },
  {
   "cell_type": "code",
   "execution_count": 30,
   "id": "f7988d66",
   "metadata": {},
   "outputs": [
    {
     "name": "stdout",
     "output_type": "stream",
     "text": [
      "El nombre es igual a mateo\n",
      "True\n"
     ]
    }
   ],
   "source": [
    "nombre = \"Mateo\"\n",
    "print(\"El nombre es igual a mateo\")\n",
    "print(nombre.lower() == \"mateo\")"
   ]
  },
  {
   "cell_type": "code",
   "execution_count": 31,
   "id": "249fd836",
   "metadata": {},
   "outputs": [
    {
     "name": "stdout",
     "output_type": "stream",
     "text": [
      "El nombre es Mateo y la edad es mayor a 25?\n",
      "True\n"
     ]
    }
   ],
   "source": [
    "nombre = \"Mateo\"\n",
    "edad = 27\n",
    "print(\"El nombre es Mateo y la edad es mayor a 25?\")\n",
    "print(nombre == \"Mateo\" and edad >= 25)"
   ]
  },
  {
   "cell_type": "code",
   "execution_count": 32,
   "id": "07b53046",
   "metadata": {},
   "outputs": [
    {
     "name": "stdout",
     "output_type": "stream",
     "text": [
      "El nombre es Cristian o la edad es 30?\n",
      "False\n"
     ]
    }
   ],
   "source": [
    "print(\"El nombre es Cristian o la edad es 30?\")\n",
    "print(nombre == \"Cristian\" or edad == 30)"
   ]
  },
  {
   "cell_type": "code",
   "execution_count": 33,
   "id": "434872aa",
   "metadata": {},
   "outputs": [
    {
     "name": "stdout",
     "output_type": "stream",
     "text": [
      "Cristian no está en invitados?\n",
      "False\n"
     ]
    }
   ],
   "source": [
    "print(\"Cristian no está en invitados?\")\n",
    "print(\"Cristian\" not in invitados)"
   ]
  },
  {
   "cell_type": "markdown",
   "id": "0dda6696",
   "metadata": {},
   "source": [
    "## Declaraciones if\n",
    "\n",
    "### Declaraciones if simples\n",
    "\n",
    "El modo de escribir una declaración if es el siguiente:\n",
    "\n",
    "`if prueba_condicional:`\n",
    "    `hacer algo`"
   ]
  },
  {
   "cell_type": "code",
   "execution_count": 34,
   "id": "e0ac4a3d",
   "metadata": {},
   "outputs": [
    {
     "name": "stdout",
     "output_type": "stream",
     "text": [
      "Puedes votar!\n"
     ]
    }
   ],
   "source": [
    "edad = 19\n",
    "if edad >= 18:\n",
    "    print(\"Puedes votar!\")"
   ]
  },
  {
   "cell_type": "code",
   "execution_count": 35,
   "id": "90fe4a00",
   "metadata": {},
   "outputs": [
    {
     "name": "stdout",
     "output_type": "stream",
     "text": [
      "Puedes votar!\n",
      "Ya votaste?\n"
     ]
    }
   ],
   "source": [
    "# todo la indentacion se corre si el if es verdadero\n",
    "\n",
    "edad = 19\n",
    "if edad >= 18:\n",
    "    print(\"Puedes votar!\")\n",
    "    print(\"Ya votaste?\")"
   ]
  },
  {
   "cell_type": "markdown",
   "id": "8351ff83",
   "metadata": {},
   "source": [
    "### Declaraciones con if - else\n",
    "\n",
    "Si no se cumple la primer condición podemos tomar una segunda acción con `else`"
   ]
  },
  {
   "cell_type": "code",
   "execution_count": 37,
   "id": "c41dc70d",
   "metadata": {},
   "outputs": [
    {
     "name": "stdout",
     "output_type": "stream",
     "text": [
      "Eres muy joven para votar\n"
     ]
    }
   ],
   "source": [
    "edad = 17\n",
    "if edad >= 18:\n",
    "    print(\"Puedes votar!\")\n",
    "    print(\"Ya votaste?\")\n",
    "else:\n",
    "    print(\"Eres muy joven para votar\")"
   ]
  },
  {
   "cell_type": "markdown",
   "id": "16c882a9",
   "metadata": {},
   "source": [
    "### La cadena if-elif-else\n",
    "\n",
    "Cuando se tienen varias expresiones condicionales podemos usar `elif`"
   ]
  },
  {
   "cell_type": "code",
   "execution_count": 38,
   "id": "685f1e21",
   "metadata": {},
   "outputs": [
    {
     "name": "stdout",
     "output_type": "stream",
     "text": [
      "El costo de admisión es $25\n"
     ]
    }
   ],
   "source": [
    "edad = 12\n",
    "\n",
    "if edad < 4:\n",
    "    print(\"El costo de admisión es $0\")\n",
    "elif edad < 18:\n",
    "    print(\"El costo de admisión es $25\")\n",
    "else:\n",
    "    print(\"El costo de admisión es $40\")"
   ]
  },
  {
   "cell_type": "code",
   "execution_count": 39,
   "id": "8e6f13a5",
   "metadata": {},
   "outputs": [
    {
     "name": "stdout",
     "output_type": "stream",
     "text": [
      "Tu admisión es de 25\n"
     ]
    }
   ],
   "source": [
    "# es mejor usar un solo print\n",
    "\n",
    "edad = 12\n",
    "\n",
    "if edad < 4:\n",
    "    precio = 0\n",
    "elif edad < 18:\n",
    "    precio = 25\n",
    "else: \n",
    "    precio = 40\n",
    "\n",
    "print(f\"Tu admisión es de {precio}\")"
   ]
  },
  {
   "cell_type": "markdown",
   "id": "91f36947",
   "metadata": {},
   "source": [
    "### Usando multiples bloques elif\n",
    "\n",
    "Si hay más condiciones se pueden usar varios `elif`, para la última condición se puede usar el `else`"
   ]
  },
  {
   "cell_type": "code",
   "execution_count": 40,
   "id": "21545a9d",
   "metadata": {
    "scrolled": true
   },
   "outputs": [
    {
     "name": "stdout",
     "output_type": "stream",
     "text": [
      "La admisión es de 25\n"
     ]
    }
   ],
   "source": [
    "edad = 12\n",
    "\n",
    "if edad < 4:\n",
    "    precio = 0\n",
    "elif edad < 18:\n",
    "    precio = 25\n",
    "elif edad < 65:\n",
    "    precio = 40\n",
    "else: \n",
    "    precio = 20\n",
    "    \n",
    "print(f\"La admisión es de {precio}\")"
   ]
  },
  {
   "cell_type": "markdown",
   "id": "8e09e48a",
   "metadata": {},
   "source": [
    "### Omitir el bloque else\n",
    "\n",
    "No se requiere un `else` al final de un cadena `if - elif`"
   ]
  },
  {
   "cell_type": "code",
   "execution_count": 42,
   "id": "8aa4db6b",
   "metadata": {},
   "outputs": [
    {
     "name": "stdout",
     "output_type": "stream",
     "text": [
      "La admisión es de $25\n"
     ]
    }
   ],
   "source": [
    "edad = 12\n",
    "\n",
    "if edad < 4:\n",
    "    precio = 0\n",
    "elif edad < 18:\n",
    "    precio = 25\n",
    "elif edad < 65:\n",
    "    precio = 40\n",
    "elif edad >= 65:  # En este caso todos los valores cumplen una condición, \n",
    "    precio = 20   # es mejor así que dejar un else que toma los casos que no cumplieron con ninguna\n",
    "     \n",
    "print(f\"La admisión es de ${precio}\")"
   ]
  },
  {
   "cell_type": "markdown",
   "id": "4c6c3fbe",
   "metadata": {},
   "source": [
    "### Probando multiples condiciones\n",
    "\n",
    "La cadena if elif solo funciona encontrando la primer prueba que pase y se salta las siguientes pruebas. \n",
    "\n",
    "Para cuando se necesiten probar todas las condiciones de interés se deberían hacer bloques de `if` no `elif`."
   ]
  },
  {
   "cell_type": "code",
   "execution_count": 43,
   "id": "a589846f",
   "metadata": {},
   "outputs": [
    {
     "name": "stdout",
     "output_type": "stream",
     "text": [
      "Agregando champiñones.\n",
      "Agregar queso\n",
      "\n",
      "La pizza ya está hecha\n"
     ]
    }
   ],
   "source": [
    "ingredientes = [\"champiñones\", \"queso\"]\n",
    "\n",
    "if \"champiñones\" in ingredientes:\n",
    "    print(\"Agregando champiñones.\")\n",
    "if \"carne\" in ingredientes:\n",
    "    print(\"Agregar carne.\")\n",
    "if \"queso\" in ingredientes:\n",
    "    print(\"Agregar queso\")\n",
    "\n",
    "print(\"\\nLa pizza ya está hecha\")\n",
    "\n",
    "# Este código no funcionaría con if elif else"
   ]
  },
  {
   "cell_type": "markdown",
   "id": "16dff467",
   "metadata": {},
   "source": [
    "## Ejercicios\n",
    "\n",
    "1. crear una variable llamada `color_alien` y asignar un valor de `verde`, `amarillo`, `rojo`.\n",
    "1.1 Crear un if para probar si el color del alien es verde, si es verde imprimir un mensaje que el jugador ganó 5 puntos.\n",
    "1.2 Escribir una versión del programa que pase la prueba u otra que no"
   ]
  },
  {
   "cell_type": "code",
   "execution_count": 45,
   "id": "3bab5ad9",
   "metadata": {},
   "outputs": [
    {
     "name": "stdout",
     "output_type": "stream",
     "text": [
      "Ganaste 5 puntos\n"
     ]
    }
   ],
   "source": [
    "color_alien = \"verde\"\n",
    "\n",
    "if color_alien == \"verde\":\n",
    "    print(\"Ganaste 5 puntos\")\n",
    "    \n",
    "color_alien = \"amarillo\"\n",
    "\n",
    "if color_alien == \"verde\":\n",
    "    print(\"Ganaste 5 puntos\")"
   ]
  },
  {
   "cell_type": "code",
   "execution_count": 46,
   "id": "e1ac0fa2",
   "metadata": {},
   "outputs": [
    {
     "name": "stdout",
     "output_type": "stream",
     "text": [
      "Ganaste 10 puntos\n"
     ]
    }
   ],
   "source": [
    "# 2 \n",
    "\n",
    "color_alien = \"amarillo\"\n",
    "\n",
    "if color_alien == \"verde\":\n",
    "    print(\"Ganaste 5 puntos\")\n",
    "else:\n",
    "    print(\"Ganaste 10 puntos\")"
   ]
  },
  {
   "cell_type": "code",
   "execution_count": 47,
   "id": "7ff3137c",
   "metadata": {},
   "outputs": [
    {
     "name": "stdout",
     "output_type": "stream",
     "text": [
      "Ganaste 5 puntos\n"
     ]
    }
   ],
   "source": [
    "color_alien = \"verde\"\n",
    "\n",
    "if color_alien == \"verde\":\n",
    "    print(\"Ganaste 5 puntos\")\n",
    "else:\n",
    "    print(\"Ganaste 10 puntos\")"
   ]
  },
  {
   "cell_type": "code",
   "execution_count": 48,
   "id": "1fce7ac5",
   "metadata": {
    "scrolled": true
   },
   "outputs": [
    {
     "name": "stdout",
     "output_type": "stream",
     "text": [
      "Ganaste 5 puntos\n"
     ]
    }
   ],
   "source": [
    "# 3\n",
    "\n",
    "color_alien = \"verde\"\n",
    "\n",
    "if color_alien == \"verde\":\n",
    "    print(\"Ganaste 5 puntos\")\n",
    "elif color_alien == \"amarillo\":\n",
    "    print(\"Ganaste 10 puntos\")\n",
    "else:\n",
    "    print(\"Ganaste 15 puntos\")"
   ]
  },
  {
   "cell_type": "code",
   "execution_count": 49,
   "id": "b5d70bad",
   "metadata": {},
   "outputs": [
    {
     "name": "stdout",
     "output_type": "stream",
     "text": [
      "Ganaste 10 puntos\n"
     ]
    }
   ],
   "source": [
    "color_alien = \"amarillo\"\n",
    "\n",
    "if color_alien == \"verde\":\n",
    "    print(\"Ganaste 5 puntos\")\n",
    "elif color_alien == \"amarillo\":\n",
    "    print(\"Ganaste 10 puntos\")\n",
    "else:\n",
    "    print(\"Ganaste 15 puntos\")"
   ]
  },
  {
   "cell_type": "code",
   "execution_count": 50,
   "id": "6518505e",
   "metadata": {},
   "outputs": [
    {
     "name": "stdout",
     "output_type": "stream",
     "text": [
      "Ganaste 15 puntos\n"
     ]
    }
   ],
   "source": [
    "color_alien = \"rojo\"\n",
    "\n",
    "if color_alien == \"verde\":\n",
    "    print(\"Ganaste 5 puntos\")\n",
    "elif color_alien == \"amarillo\":\n",
    "    print(\"Ganaste 10 puntos\")\n",
    "else:\n",
    "    print(\"Ganaste 15 puntos\")"
   ]
  },
  {
   "cell_type": "code",
   "execution_count": 56,
   "id": "c10b4d09",
   "metadata": {},
   "outputs": [
    {
     "name": "stdout",
     "output_type": "stream",
     "text": [
      "Es un anciano\n"
     ]
    }
   ],
   "source": [
    "# 4\n",
    "\n",
    "edad = 79\n",
    "\n",
    "if edad < 2:\n",
    "    print(\"Es un bebé\")\n",
    "elif edad < 4:\n",
    "    print(\"Es un niño pequeño\")\n",
    "elif edad < 13:\n",
    "    print(\"Es un niño\")\n",
    "elif edad < 20:\n",
    "    print(\"Es un adolescente\")\n",
    "elif edad < 65:\n",
    "    print(\"Es un adulto\")\n",
    "elif edad >= 65:\n",
    "    print(\"Es un anciano\")"
   ]
  },
  {
   "cell_type": "code",
   "execution_count": 58,
   "id": "6862ae1f",
   "metadata": {},
   "outputs": [
    {
     "name": "stdout",
     "output_type": "stream",
     "text": [
      "Qué rico las manzanas\n",
      "No me gusta la guayaba\n"
     ]
    }
   ],
   "source": [
    "# 5\n",
    "\n",
    "frutas = [\"Manzana\", \"Mango\", \"Banano\", \"Sandia\"]\n",
    "\n",
    "if \"Manzana\" in frutas:\n",
    "    print(\"Qué rico las manzanas\")\n",
    "    \n",
    "if \"Guayaba\" not in frutas:\n",
    "    print(\"No me gusta la guayaba\")"
   ]
  },
  {
   "cell_type": "markdown",
   "id": "c4916ff7",
   "metadata": {},
   "source": [
    "## Usando if con listas\n",
    "\n",
    "### Probando un elemento especial\n",
    "\n",
    "Se puede usar `if` en listas si se necesitan tratar elementos de la lista de forma especial"
   ]
  },
  {
   "cell_type": "code",
   "execution_count": 59,
   "id": "063ec3ec",
   "metadata": {},
   "outputs": [
    {
     "name": "stdout",
     "output_type": "stream",
     "text": [
      "Agregando champiñones.\n",
      "Agregando carne.\n",
      "Agregando queso.\n",
      "\n",
      "La pizza está terminada.\n"
     ]
    }
   ],
   "source": [
    "ingredientes = [\"champiñones\", \"carne\", \"queso\"]\n",
    "\n",
    "for ingrediente in ingredientes:\n",
    "    print(f\"Agregando {ingrediente}.\")\n",
    "\n",
    "print(\"\\nLa pizza está terminada.\")"
   ]
  },
  {
   "cell_type": "code",
   "execution_count": 60,
   "id": "ce66535c",
   "metadata": {
    "scrolled": true
   },
   "outputs": [
    {
     "name": "stdout",
     "output_type": "stream",
     "text": [
      "Agregando champiñones.\n",
      "Perdón, se nos acabó la carne.\n",
      "Agregando queso.\n",
      "\n",
      "La pizza está terminada.\n"
     ]
    }
   ],
   "source": [
    "# si algún ingrediente se acabó\n",
    "\n",
    "for ingrediente in ingredientes:\n",
    "    if ingrediente == \"carne\":\n",
    "        print(\"Perdón, se nos acabó la carne.\")\n",
    "    else:\n",
    "        print(f\"Agregando {ingrediente}.\")\n",
    "\n",
    "print(\"\\nLa pizza está terminada.\")"
   ]
  },
  {
   "cell_type": "markdown",
   "id": "2e3205bf",
   "metadata": {},
   "source": [
    "### Probando que la lista no esté vacía\n"
   ]
  },
  {
   "cell_type": "code",
   "execution_count": 61,
   "id": "ce344bf7",
   "metadata": {},
   "outputs": [
    {
     "name": "stdout",
     "output_type": "stream",
     "text": [
      "Seguro quieres una pizza sin ingredientes?\n"
     ]
    }
   ],
   "source": [
    "ingredientes = []\n",
    "\n",
    "if ingredientes:                     # Aquí python devuelve True si la lista contiene por lo menos un elemento\n",
    "    for ingrediente in ingredientes:\n",
    "        print(f\"Agregando {ingrediente}.\")\n",
    "\n",
    "    print(\"\\nLa pizza está terminada.\")\n",
    "else:\n",
    "    print(\"Seguro quieres una pizza sin ingredientes?\")"
   ]
  },
  {
   "cell_type": "markdown",
   "id": "b8d35950",
   "metadata": {},
   "source": [
    "## Usando multiples listas\n",
    "\n"
   ]
  },
  {
   "cell_type": "code",
   "execution_count": 62,
   "id": "145fedcd",
   "metadata": {},
   "outputs": [
    {
     "name": "stdout",
     "output_type": "stream",
     "text": [
      "Agregando champiñones\n",
      "Perdón, no tenemos pollo.\n",
      "Agregando queso\n",
      "\n",
      " Se terminó de hacer la pizza!\n"
     ]
    }
   ],
   "source": [
    "ingredientes_disponibles = [\"champiñones\", \"olivas\", \"carne\",\n",
    "                            \"pepperoni\", \"piña\", \"queso\"]\n",
    "\n",
    "ingredientes_buscados = [\"champiñones\", \"pollo\", \"queso\"]\n",
    "\n",
    "for ingrediente in ingredientes_buscados:\n",
    "    if ingrediente in ingredientes_disponibles:\n",
    "        print(f\"Agregando {ingrediente}\")\n",
    "    else:\n",
    "        print(f\"Perdón, no tenemos {ingrediente}.\")\n",
    "\n",
    "print(\"\\n Se terminó de hacer la pizza!\")"
   ]
  },
  {
   "cell_type": "markdown",
   "id": "921fbddb",
   "metadata": {},
   "source": [
    "## Ejercicios"
   ]
  },
  {
   "cell_type": "code",
   "execution_count": 63,
   "id": "23c9da4d",
   "metadata": {},
   "outputs": [
    {
     "name": "stdout",
     "output_type": "stream",
     "text": [
      "Bienvenido usuario Mateo\n",
      "Bienvenido usuario Daniela\n",
      "Bienvenido usuario Tatiana\n",
      "Bienvenido usuario Cristian\n",
      "Bienvenido administrador!\n"
     ]
    }
   ],
   "source": [
    "# 1. \n",
    "\n",
    "usuarios = [\"Mateo\", \"Daniela\", \"Tatiana\", \"Cristian\", \"Admin\"]\n",
    "\n",
    "for usuario in usuarios:\n",
    "    if usuario == \"Admin\":\n",
    "        print(\"Bienvenido administrador!\")\n",
    "    else:\n",
    "        print(f\"Bienvenido usuario {usuario.title()}\")"
   ]
  },
  {
   "cell_type": "code",
   "execution_count": 64,
   "id": "6b65aec1",
   "metadata": {},
   "outputs": [
    {
     "name": "stdout",
     "output_type": "stream",
     "text": [
      "No hay usuarios\n"
     ]
    }
   ],
   "source": [
    "# 2. Agregar un if que revise si la lista está vacia\n",
    "\n",
    "usuarios = []\n",
    "\n",
    "if usuarios:\n",
    "    for usuario in usuarios:\n",
    "        if usuario == \"Admin\":\n",
    "            print(\"Bienvenido administrador!\")\n",
    "    else:\n",
    "        print(f\"Bienvenido usuario {usuario.title()}\")\n",
    "else: \n",
    "    print(\"No hay usuarios\")"
   ]
  },
  {
   "cell_type": "code",
   "execution_count": 65,
   "id": "ff0442e3",
   "metadata": {},
   "outputs": [
    {
     "name": "stdout",
     "output_type": "stream",
     "text": [
      "Usuario disponible\n",
      "Usuario disponible\n",
      "Usuario disponible\n",
      "Usuario disponible\n",
      "Usuario disponible\n",
      "Se necesita nuevo nombre de usuario\n"
     ]
    }
   ],
   "source": [
    "# 3. un prgrama que verifique si los usuarios son únicos\n",
    "\n",
    "usuarios_activos = [\"hola\", \"matiu\", \"tatismo\", \"meloman\", \"juanc\"]\n",
    "nuevos_usuarios = [\"cristian\", \"kevin\", \"dani\", \"lauris\", \"samu\", \"meloman\"]\n",
    "\n",
    "for usuario in nuevos_usuarios:\n",
    "    if usuario in usuarios_activos:\n",
    "        print(\"Se necesita nuevo nombre de usuario\")\n",
    "    else:\n",
    "        print(\"Usuario disponible\")"
   ]
  }
 ],
 "metadata": {
  "kernelspec": {
   "display_name": "Python 3 (ipykernel)",
   "language": "python",
   "name": "python3"
  },
  "language_info": {
   "codemirror_mode": {
    "name": "ipython",
    "version": 3
   },
   "file_extension": ".py",
   "mimetype": "text/x-python",
   "name": "python",
   "nbconvert_exporter": "python",
   "pygments_lexer": "ipython3",
   "version": "3.11.5"
  }
 },
 "nbformat": 4,
 "nbformat_minor": 5
}
