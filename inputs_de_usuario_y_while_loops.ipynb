{
 "cells": [
  {
   "cell_type": "markdown",
   "id": "7b1def89",
   "metadata": {},
   "source": [
    "## Como funciona input()\n",
    "\n",
    "Este pausa el programa y espera a que el usuario entre algun texto"
   ]
  },
  {
   "cell_type": "code",
   "execution_count": 1,
   "id": "bc7ba9c1",
   "metadata": {},
   "outputs": [
    {
     "name": "stdout",
     "output_type": "stream",
     "text": [
      "Cuentame algo y yo te lo repito: Hola\n",
      "Hola\n"
     ]
    }
   ],
   "source": [
    "mensaje = input(\"Cuentame algo y yo te lo repito: \")\n",
    "print(mensaje)"
   ]
  },
  {
   "cell_type": "markdown",
   "id": "824e298c",
   "metadata": {},
   "source": [
    "### Escribiendo prompts claros\n",
    "\n",
    "Cada vez que haya un `input()` se necesita un prompt claro y fácil de seguir"
   ]
  },
  {
   "cell_type": "code",
   "execution_count": 2,
   "id": "071f47c3",
   "metadata": {},
   "outputs": [
    {
     "name": "stdout",
     "output_type": "stream",
     "text": [
      "Por favor dime tu nombre: Mateo\n",
      "\n",
      "Hola, Mateo!\n"
     ]
    }
   ],
   "source": [
    "nombre = input(\"Por favor dime tu nombre: \")\n",
    "print(f\"\\nHola, {nombre}!\")"
   ]
  },
  {
   "cell_type": "code",
   "execution_count": 3,
   "id": "c89ae7c0",
   "metadata": {},
   "outputs": [
    {
     "name": "stdout",
     "output_type": "stream",
     "text": [
      "Si compartes tu nombre, podemos personalizar los mensajes que ves.\n",
      "Cual es tu nombre? Mateo\n",
      "Hola, Mateo!\n"
     ]
    }
   ],
   "source": [
    "# para escribir prompts mas largos\n",
    "\n",
    "prompt = \"Si compartes tu nombre, podemos personalizar los mensajes que ves.\"\n",
    "prompt += \"\\nCual es tu nombre? \"\n",
    "\n",
    "nombre = input(prompt)\n",
    "print(f\"Hola, {nombre}!\")"
   ]
  },
  {
   "cell_type": "markdown",
   "id": "6cca7b77",
   "metadata": {},
   "source": [
    "### Usando int para inputs numéricos\n",
    "\n",
    "`input()` interpreta todo como una cadena."
   ]
  },
  {
   "cell_type": "code",
   "execution_count": 4,
   "id": "a89037de",
   "metadata": {},
   "outputs": [
    {
     "name": "stdout",
     "output_type": "stream",
     "text": [
      "Qué edad tienes? 27\n"
     ]
    },
    {
     "data": {
      "text/plain": [
       "'27'"
      ]
     },
     "execution_count": 4,
     "metadata": {},
     "output_type": "execute_result"
    }
   ],
   "source": [
    "edad = input(\"Qué edad tienes? \")\n",
    "edad"
   ]
  },
  {
   "cell_type": "code",
   "execution_count": 5,
   "id": "944bda74",
   "metadata": {},
   "outputs": [
    {
     "ename": "TypeError",
     "evalue": "'>=' not supported between instances of 'str' and 'int'",
     "output_type": "error",
     "traceback": [
      "\u001b[1;31m---------------------------------------------------------------------------\u001b[0m",
      "\u001b[1;31mTypeError\u001b[0m                                 Traceback (most recent call last)",
      "Cell \u001b[1;32mIn[5], line 3\u001b[0m\n\u001b[0;32m      1\u001b[0m \u001b[38;5;66;03m# hay problemas si no es numérico\u001b[39;00m\n\u001b[1;32m----> 3\u001b[0m edad \u001b[38;5;241m>\u001b[39m\u001b[38;5;241m=\u001b[39m \u001b[38;5;241m18\u001b[39m\n",
      "\u001b[1;31mTypeError\u001b[0m: '>=' not supported between instances of 'str' and 'int'"
     ]
    }
   ],
   "source": [
    "# hay problemas si no es numérico\n",
    "\n",
    "edad >= 18"
   ]
  },
  {
   "cell_type": "code",
   "execution_count": 6,
   "id": "20248956",
   "metadata": {},
   "outputs": [
    {
     "name": "stdout",
     "output_type": "stream",
     "text": [
      "Qué edad tienes? 27\n"
     ]
    },
    {
     "data": {
      "text/plain": [
       "True"
      ]
     },
     "execution_count": 6,
     "metadata": {},
     "output_type": "execute_result"
    }
   ],
   "source": [
    "# para volverlo un numero\n",
    "\n",
    "edad = input(\"Qué edad tienes? \")\n",
    "edad = int(edad)\n",
    "edad >= 18"
   ]
  },
  {
   "cell_type": "code",
   "execution_count": 7,
   "id": "2cc2851a",
   "metadata": {},
   "outputs": [
    {
     "name": "stdout",
     "output_type": "stream",
     "text": [
      "Cual es tu altura en centimetros? 189\n",
      "\n",
      "Eres lo suficientemente alto!\n"
     ]
    }
   ],
   "source": [
    "# ejemplo\n",
    "\n",
    "altura = input(\"Cual es tu altura en centimetros? \")\n",
    "altura = int(altura)\n",
    "\n",
    "if altura >= 140:\n",
    "    print(\"\\nEres lo suficientemente alto!\")\n",
    "else:\n",
    "    print(\"\\nNo puedes montar en la atracción todavía.\")"
   ]
  },
  {
   "cell_type": "markdown",
   "id": "4fa2f0b9",
   "metadata": {},
   "source": [
    "###  El operador modulo\n",
    "\n",
    "Divide dos valores y devuelve el restante"
   ]
  },
  {
   "cell_type": "code",
   "execution_count": 8,
   "id": "2e6cb2c4",
   "metadata": {},
   "outputs": [
    {
     "data": {
      "text/plain": [
       "1"
      ]
     },
     "execution_count": 8,
     "metadata": {},
     "output_type": "execute_result"
    }
   ],
   "source": [
    "4 % 3"
   ]
  },
  {
   "cell_type": "code",
   "execution_count": 9,
   "id": "6a5e5298",
   "metadata": {},
   "outputs": [
    {
     "data": {
      "text/plain": [
       "2"
      ]
     },
     "execution_count": 9,
     "metadata": {},
     "output_type": "execute_result"
    }
   ],
   "source": [
    "5 % 3"
   ]
  },
  {
   "cell_type": "code",
   "execution_count": 10,
   "id": "932e926a",
   "metadata": {},
   "outputs": [
    {
     "data": {
      "text/plain": [
       "0"
      ]
     },
     "execution_count": 10,
     "metadata": {},
     "output_type": "execute_result"
    }
   ],
   "source": [
    "6 % 3"
   ]
  },
  {
   "cell_type": "code",
   "execution_count": 11,
   "id": "1024c19b",
   "metadata": {
    "scrolled": true
   },
   "outputs": [
    {
     "data": {
      "text/plain": [
       "1"
      ]
     },
     "execution_count": 11,
     "metadata": {},
     "output_type": "execute_result"
    }
   ],
   "source": [
    "7 % 3"
   ]
  },
  {
   "cell_type": "code",
   "execution_count": 12,
   "id": "18d15556",
   "metadata": {},
   "outputs": [
    {
     "name": "stdout",
     "output_type": "stream",
     "text": [
      "Entra un número y te diré si es par o impar: 6\n",
      "\n",
      "El número 6 es par.\n"
     ]
    }
   ],
   "source": [
    "# Encontrar si un numero es par o impar\n",
    "\n",
    "numero = input(\"Entra un número y te diré si es par o impar: \")\n",
    "numero = int(numero)\n",
    "\n",
    "if numero % 2 == 0:\n",
    "    print(f\"\\nEl número {numero} es par.\")\n",
    "else:\n",
    "    print(f\"\\nEl número {numero} es impar.\")"
   ]
  },
  {
   "cell_type": "markdown",
   "id": "e13bfe77",
   "metadata": {},
   "source": [
    "## Ejercicios\n",
    "\n",
    "1. Un programa que le pregunte al usuario que carro quiere rentar e imprima un mensaje\n"
   ]
  },
  {
   "cell_type": "code",
   "execution_count": 13,
   "id": "ce6225f9",
   "metadata": {},
   "outputs": [
    {
     "name": "stdout",
     "output_type": "stream",
     "text": [
      "Qué carro quisiera rentar? subaru\n",
      "El carro que va a rentar es un subaru\n"
     ]
    }
   ],
   "source": [
    "carro = input(\"Qué carro quisiera rentar? \")\n",
    "print(f\"El carro que va a rentar es un {carro}\")"
   ]
  },
  {
   "cell_type": "markdown",
   "id": "0fa1810e",
   "metadata": {},
   "source": [
    "2. Un programa que pregunte cuantas personas son, si son mas de 8 imprimir un mensaje que van a tener que esperar una mesa"
   ]
  },
  {
   "cell_type": "code",
   "execution_count": 14,
   "id": "c95d2d93",
   "metadata": {},
   "outputs": [
    {
     "name": "stdout",
     "output_type": "stream",
     "text": [
      "Cuantas personas van a comer? 10\n",
      "Van a tener que esperar por una mesa.\n"
     ]
    }
   ],
   "source": [
    "personas = input(\"Cuantas personas van a comer? \")\n",
    "personas = int(personas)\n",
    "\n",
    "if personas > 8:\n",
    "    print(\"Van a tener que esperar por una mesa.\")\n",
    "else:\n",
    "    print(\"Bienvenidos!\")"
   ]
  },
  {
   "cell_type": "markdown",
   "id": "8cf6d38c",
   "metadata": {},
   "source": [
    "3. Preguntar por un número, reportar si es multiplo de 10"
   ]
  },
  {
   "cell_type": "code",
   "execution_count": 15,
   "id": "79b5b052",
   "metadata": {},
   "outputs": [
    {
     "name": "stdout",
     "output_type": "stream",
     "text": [
      "Entre un número y te diré si es multiplo de 10: 60\n",
      "El número 60 es multiplo de 10\n"
     ]
    }
   ],
   "source": [
    "numero = input(\"Entre un número y te diré si es multiplo de 10: \")\n",
    "numero = int(numero)\n",
    "\n",
    "if numero % 10 == 0:\n",
    "    print(f\"El número {numero} es multiplo de 10\")\n",
    "else:\n",
    "    print(f\"El número {numero} no es multiplo de 10\")"
   ]
  },
  {
   "cell_type": "markdown",
   "id": "97a3658b",
   "metadata": {},
   "source": [
    "## El loop while\n",
    "\n",
    "Este a diferencia de `for` corre hasta que cierta condición cambie a falso"
   ]
  },
  {
   "cell_type": "code",
   "execution_count": 16,
   "id": "a7921985",
   "metadata": {
    "scrolled": true
   },
   "outputs": [
    {
     "name": "stdout",
     "output_type": "stream",
     "text": [
      "1\n",
      "2\n",
      "3\n",
      "4\n",
      "5\n"
     ]
    }
   ],
   "source": [
    "# por ejemplo, para contar de 1 a 5\n",
    "\n",
    "numero = 1\n",
    "\n",
    "while numero <= 5:\n",
    "    print(numero)\n",
    "    numero += 1"
   ]
  },
  {
   "cell_type": "markdown",
   "id": "58e90f2d",
   "metadata": {},
   "source": [
    "### Dejando que el usuario escoja cuando parar\n",
    "\n"
   ]
  },
  {
   "cell_type": "code",
   "execution_count": 17,
   "id": "aac15f45",
   "metadata": {},
   "outputs": [
    {
     "name": "stdout",
     "output_type": "stream",
     "text": [
      "\n",
      "Dime algo y yo lo repito: \n",
      "Escriba 'Salir' para finalizar el programa. Hola soy mateo\n",
      "Hola soy mateo\n",
      "\n",
      "Dime algo y yo lo repito: \n",
      "Escriba 'Salir' para finalizar el programa. Salir\n"
     ]
    }
   ],
   "source": [
    "prompt = \"\\nDime algo y yo lo repito: \"\n",
    "prompt += \"\\nEscriba 'Salir' para finalizar el programa. \"\n",
    "\n",
    "mensaje = \"\"\n",
    "while mensaje != \"Salir\":\n",
    "    mensaje = input(prompt)\n",
    "    \n",
    "    if mensaje != \"Salir\":\n",
    "        print(mensaje)"
   ]
  },
  {
   "cell_type": "markdown",
   "id": "2f544430",
   "metadata": {},
   "source": [
    "### Usando una bandera\n",
    "\n",
    "Cuando el programa depende de varias condiciones podemos usar una bandera, el programa corre mientras la bandera sea verdadera."
   ]
  },
  {
   "cell_type": "code",
   "execution_count": 18,
   "id": "453eb749",
   "metadata": {},
   "outputs": [
    {
     "name": "stdout",
     "output_type": "stream",
     "text": [
      "\n",
      "Dime algo y yo lo repito: \n",
      "Escriba 'Salir' para finalizar el programa. Hola soy mateo\n",
      "Hola soy mateo\n",
      "\n",
      "Dime algo y yo lo repito: \n",
      "Escriba 'Salir' para finalizar el programa. Salir\n"
     ]
    }
   ],
   "source": [
    "prompt = \"\\nDime algo y yo lo repito: \"\n",
    "prompt += \"\\nEscriba 'Salir' para finalizar el programa. \"\n",
    "\n",
    "activo = True\n",
    "while activo:\n",
    "    mensaje = input(prompt)\n",
    "    \n",
    "    if mensaje == \"Salir\":\n",
    "        activo = False\n",
    "    else:\n",
    "        print(mensaje)"
   ]
  },
  {
   "cell_type": "markdown",
   "id": "65c56e83",
   "metadata": {},
   "source": [
    "### Usando break para salir de un loop\n",
    "\n",
    "Podemos usar `break` para evitar ejecutar lineas de código"
   ]
  },
  {
   "cell_type": "code",
   "execution_count": 19,
   "id": "f9aba4d7",
   "metadata": {},
   "outputs": [
    {
     "name": "stdout",
     "output_type": "stream",
     "text": [
      "\n",
      "Por favor entre el nombre de una ciudad que hayas visitado: \n",
      "(Escriba 'Salir' cuando termine) Hola soy mateo\n",
      "Me gustaría visitar Hola Soy Mateo\n",
      "\n",
      "Por favor entre el nombre de una ciudad que hayas visitado: \n",
      "(Escriba 'Salir' cuando termine) Bogota\n",
      "Me gustaría visitar Bogota\n",
      "\n",
      "Por favor entre el nombre de una ciudad que hayas visitado: \n",
      "(Escriba 'Salir' cuando termine) Quito\n",
      "Me gustaría visitar Quito\n",
      "\n",
      "Por favor entre el nombre de una ciudad que hayas visitado: \n",
      "(Escriba 'Salir' cuando termine) Salir\n"
     ]
    }
   ],
   "source": [
    "prompt = \"\\nPor favor entre el nombre de una ciudad que hayas visitado: \"\n",
    "prompt += \"\\n(Escriba 'Salir' cuando termine) \"\n",
    "\n",
    "while True:\n",
    "    ciudad = input(prompt)\n",
    "    \n",
    "    if ciudad == \"Salir\":\n",
    "        break\n",
    "    else:\n",
    "        print(f\"Me gustaría visitar {ciudad.title()}\")"
   ]
  },
  {
   "cell_type": "markdown",
   "id": "4fb709cf",
   "metadata": {},
   "source": [
    "### Usando continue en un loop\n",
    "\n",
    "Se puede usar `continue` para volver al inicio de un loop"
   ]
  },
  {
   "cell_type": "code",
   "execution_count": 21,
   "id": "cbfd6dcd",
   "metadata": {},
   "outputs": [
    {
     "name": "stdout",
     "output_type": "stream",
     "text": [
      "1\n",
      "3\n",
      "5\n",
      "7\n",
      "9\n"
     ]
    }
   ],
   "source": [
    "numero = 0\n",
    "while numero < 10:\n",
    "    numero += 1\n",
    "    if numero % 2 == 0:\n",
    "        continue\n",
    "    \n",
    "    print(numero)"
   ]
  },
  {
   "cell_type": "markdown",
   "id": "db000a21",
   "metadata": {},
   "source": [
    "### Evitando loops infinitos"
   ]
  },
  {
   "cell_type": "code",
   "execution_count": 22,
   "id": "18190afb",
   "metadata": {},
   "outputs": [
    {
     "name": "stdout",
     "output_type": "stream",
     "text": [
      "1\n",
      "2\n",
      "3\n",
      "4\n",
      "5\n"
     ]
    }
   ],
   "source": [
    "x = 1\n",
    "while x <= 5:\n",
    "    print(x)\n",
    "    x += 1     # si se omite esta linea se correría infinitamente"
   ]
  },
  {
   "cell_type": "markdown",
   "id": "af9645ee",
   "metadata": {},
   "source": [
    "## Ejercicios\n",
    "\n",
    "1. Un programa donde el usuario entre sus ingredientes para pizza"
   ]
  },
  {
   "cell_type": "code",
   "execution_count": 1,
   "id": "35f29b58",
   "metadata": {},
   "outputs": [
    {
     "name": "stdout",
     "output_type": "stream",
     "text": [
      "Ingrese los ingredientes que desea en su pizza, si desea salir escriba 'Salir' carne\n",
      "Su ingrediente es carne\n",
      "\n",
      "Cual es su siguiente ingrediente? queso\n",
      "Su ingrediente es queso\n",
      "\n",
      "Cual es su siguiente ingrediente? pollo\n",
      "Su ingrediente es pollo\n",
      "\n",
      "Cual es su siguiente ingrediente? Salir\n",
      "Su pizza está terminada!\n"
     ]
    }
   ],
   "source": [
    "ingrediente = input(\"Ingrese los ingredientes que desea en su pizza, si desea salir escriba 'Salir' \")\n",
    "\n",
    "while ingrediente != \"Salir\":\n",
    "    print(f\"Su ingrediente es {ingrediente}\")\n",
    "    ingrediente = input(\"\\nCual es su siguiente ingrediente? \")\n",
    "\n",
    "print(\"Su pizza está terminada!\")"
   ]
  },
  {
   "cell_type": "code",
   "execution_count": 5,
   "id": "7be126fc",
   "metadata": {
    "scrolled": true
   },
   "outputs": [
    {
     "name": "stdout",
     "output_type": "stream",
     "text": [
      "Cual es su edad? 18\n",
      "El precio de su boleta es $15\n"
     ]
    }
   ],
   "source": [
    "# preguntar la edad y definir costo\n",
    "\n",
    "edad = int(input(\"Cual es su edad? \"))\n",
    "\n",
    "if edad <= 3:\n",
    "    precio = 0\n",
    "elif edad <= 12:\n",
    "    precio = 10\n",
    "else:\n",
    "    precio = 15\n",
    "\n",
    "print(f\"El precio de su boleta es ${precio}\")"
   ]
  },
  {
   "cell_type": "code",
   "execution_count": 6,
   "id": "a669ba1f",
   "metadata": {},
   "outputs": [
    {
     "name": "stdout",
     "output_type": "stream",
     "text": [
      "Ingrese los ingredientes que desea en su pizza, si desea salir escriba 'Salir' Queso\n",
      "Su ingrediente es Queso\n",
      "Ingrese los ingredientes que desea en su pizza, si desea salir escriba 'Salir' Carne\n",
      "Su ingrediente es Carne\n",
      "Ingrese los ingredientes que desea en su pizza, si desea salir escriba 'Salir' Salir\n",
      "Su pizza está terminada!\n"
     ]
    }
   ],
   "source": [
    "# 3 ingrediente con break\n",
    "\n",
    "while True:\n",
    "    ingrediente = input(\"Ingrese los ingredientes que desea en su pizza, si desea salir escriba 'Salir' \")\n",
    "    \n",
    "    if ingrediente == \"Salir\":\n",
    "        break\n",
    "    else:\n",
    "        print(f\"Su ingrediente es {ingrediente}\")\n",
    "\n",
    "print(\"Su pizza está terminada!\")"
   ]
  },
  {
   "cell_type": "code",
   "execution_count": 7,
   "id": "166b3320",
   "metadata": {},
   "outputs": [
    {
     "name": "stdout",
     "output_type": "stream",
     "text": [
      "Ingrese los ingredientes que desea en su pizza, si desea salir escriba 'Salir' Queso\n",
      "Su ingrediente es Queso\n",
      "Ingrese los ingredientes que desea en su pizza, si desea salir escriba 'Salir' Carne\n",
      "Su ingrediente es Carne\n",
      "Ingrese los ingredientes que desea en su pizza, si desea salir escriba 'Salir' Salir\n",
      "Su pizza está terminada!\n"
     ]
    }
   ],
   "source": [
    "# ingrediente con bandera\n",
    "\n",
    "bandera = True\n",
    "\n",
    "while bandera == True:\n",
    "    ingrediente = input(\"Ingrese los ingredientes que desea en su pizza, si desea salir escriba 'Salir' \")\n",
    "    \n",
    "    if ingrediente == \"Salir\":\n",
    "        bandera = False\n",
    "    else:\n",
    "        print(f\"Su ingrediente es {ingrediente}\")\n",
    "\n",
    "print(\"Su pizza está terminada!\")"
   ]
  },
  {
   "cell_type": "markdown",
   "id": "7e424f3d",
   "metadata": {},
   "source": [
    "## Usando while con listas y diccionarios\n",
    "\n",
    "Esto es útil para modificar valores dentro de una lista\n",
    "\n",
    "### Moviendo elementos de una lista a otra"
   ]
  },
  {
   "cell_type": "code",
   "execution_count": 8,
   "id": "b205a377",
   "metadata": {},
   "outputs": [
    {
     "name": "stdout",
     "output_type": "stream",
     "text": [
      "Verificando el usuario: David\n",
      "Verificando el usuario: Mateo\n",
      "Verificando el usuario: Tatiana\n",
      "\n",
      "Los siguientes usuarios han sido confirmados:\n",
      "David\n",
      "Mateo\n",
      "Tatiana\n"
     ]
    }
   ],
   "source": [
    "# ejemplo, mover usuarios verificados a una nueva lista\n",
    "\n",
    "usuarios_no_confirmados = [\"Tatiana\", \"Mateo\", \"David\"]\n",
    "confirmados = []\n",
    "\n",
    "while usuarios_no_confirmados:\n",
    "    usuario_actual = usuarios_no_confirmados.pop()\n",
    "    \n",
    "    print(f\"Verificando el usuario: {usuario_actual.title()}\")\n",
    "    confirmados.append(usuario_actual)\n",
    "    \n",
    "print(\"\\nLos siguientes usuarios han sido confirmados:\")\n",
    "for confirmado in confirmados:\n",
    "    print(confirmado.title())"
   ]
  },
  {
   "cell_type": "markdown",
   "id": "5c0e12e4",
   "metadata": {},
   "source": [
    "### Eliminar todas las instancias de valores especificos de una lista\n",
    "\n",
    "Si queremos eliminar valores repetidos de una lista"
   ]
  },
  {
   "cell_type": "code",
   "execution_count": 9,
   "id": "b83b7406",
   "metadata": {},
   "outputs": [
    {
     "name": "stdout",
     "output_type": "stream",
     "text": [
      "['perro', 'gato', 'perro', 'pescado', 'gato', 'conejo', 'gato']\n",
      "['perro', 'perro', 'pescado', 'conejo']\n"
     ]
    }
   ],
   "source": [
    "mascotas = [\"perro\", \"gato\", \"perro\", \"pescado\", \"gato\", \"conejo\", \"gato\"]\n",
    "print(mascotas)\n",
    "\n",
    "while \"gato\" in mascotas:\n",
    "    mascotas.remove(\"gato\")\n",
    "    \n",
    "print(mascotas)"
   ]
  },
  {
   "cell_type": "markdown",
   "id": "a702f76f",
   "metadata": {},
   "source": [
    "### Llenando un diccionario con los inputs del usuario"
   ]
  },
  {
   "cell_type": "code",
   "execution_count": 10,
   "id": "a6c208b6",
   "metadata": {},
   "outputs": [
    {
     "name": "stdout",
     "output_type": "stream",
     "text": [
      "\n",
      "Cual es tu nombre? Mateo\n",
      "Qué montaña te gustaría escalar? Everest\n",
      "Te gustaría que otra persona responda? (si/no) no\n",
      "\n",
      "--- Resultados ---\n",
      "Mateo le gustaría escalar la montaña Everest\n"
     ]
    }
   ],
   "source": [
    "respuestas = {}\n",
    "\n",
    "# poner una bandera para indicar que se está llenando\n",
    "\n",
    "activo = True\n",
    "while activo:\n",
    "    # recoger el nombre y la respuesta\n",
    "    nombre = input(\"\\nCual es tu nombre? \")\n",
    "    respuesta = input(\"Qué montaña te gustaría escalar? \")\n",
    "    \n",
    "    # guardar los datos\n",
    "    respuestas[nombre] = respuesta\n",
    "    \n",
    "    # alguien mas va a responder\n",
    "    repetir = input(\"Te gustaría que otra persona responda? (si/no) \")\n",
    "    if repetir == \"no\":\n",
    "        activo = False\n",
    "        \n",
    "# mostrar los resultados\n",
    "\n",
    "print(\"\\n--- Resultados ---\")\n",
    "for nombre, respuesta in respuestas.items():\n",
    "    print(f\"{nombre} le gustaría escalar la montaña {respuesta}\")"
   ]
  }
 ],
 "metadata": {
  "kernelspec": {
   "display_name": "Python 3 (ipykernel)",
   "language": "python",
   "name": "python3"
  },
  "language_info": {
   "codemirror_mode": {
    "name": "ipython",
    "version": 3
   },
   "file_extension": ".py",
   "mimetype": "text/x-python",
   "name": "python",
   "nbconvert_exporter": "python",
   "pygments_lexer": "ipython3",
   "version": "3.11.5"
  }
 },
 "nbformat": 4,
 "nbformat_minor": 5
}
