{
 "cells": [
  {
   "metadata": {},
   "cell_type": "markdown",
   "source": [
    "## Leyendo de un archivo\n",
    "\n",
    "### Leyendo los contenidos de un archivo"
   ],
   "id": "7f57454cc04371c9"
  },
  {
   "cell_type": "code",
   "id": "initial_id",
   "metadata": {
    "collapsed": true,
    "ExecuteTime": {
     "end_time": "2024-06-01T13:46:59.054422Z",
     "start_time": "2024-06-01T13:46:58.919247Z"
    }
   },
   "source": [
    "from pathlib import Path\n",
    "path = Path('datos/pi_digits.txt')\n",
    "contenido = path.read_text()\n",
    "print(contenido)"
   ],
   "outputs": [
    {
     "name": "stdout",
     "output_type": "stream",
     "text": [
      "3.1415926535\n",
      "  8979323846\n",
      "  2643383279\n",
      "\n"
     ]
    }
   ],
   "execution_count": 1
  },
  {
   "metadata": {
    "ExecuteTime": {
     "end_time": "2024-06-01T13:46:59.064998Z",
     "start_time": "2024-06-01T13:46:59.055957Z"
    }
   },
   "cell_type": "code",
   "source": [
    "# esto  imprime una linea extra blanca\n",
    "# para evitar esto usamos rstrip()\n",
    "\n",
    "contenido = contenido.rstrip()\n",
    "print(contenido)"
   ],
   "id": "1edb90dfc6ef7bed",
   "outputs": [
    {
     "name": "stdout",
     "output_type": "stream",
     "text": [
      "3.1415926535\n",
      "  8979323846\n",
      "  2643383279\n"
     ]
    }
   ],
   "execution_count": 2
  },
  {
   "metadata": {
    "ExecuteTime": {
     "end_time": "2024-06-01T13:46:59.070920Z",
     "start_time": "2024-06-01T13:46:59.066458Z"
    }
   },
   "cell_type": "code",
   "source": [
    "# se puede hacer directo, esto se llama encadenamiento de métodos\n",
    "\n",
    "contenido = path.read_text().rstrip()\n",
    "print(contenido)"
   ],
   "id": "a0e7726e31a6b8ef",
   "outputs": [
    {
     "name": "stdout",
     "output_type": "stream",
     "text": [
      "3.1415926535\n",
      "  8979323846\n",
      "  2643383279\n"
     ]
    }
   ],
   "execution_count": 3
  },
  {
   "metadata": {},
   "cell_type": "markdown",
   "source": [
    "### Rutas de archivo absolutas y relativas\n",
    "\n",
    "\n",
    "El relativo le dice a python que busque en la ubicación del directorio donde el programa o script está guardado.\n",
    "\n",
    "El absoluto le dice a python exactamente donde está el archivo independientemente de donde se encuentra el programa o archivo.\n",
    "\n",
    "### Accediendo una linea de un archivo"
   ],
   "id": "dfe10315ef7ec037"
  },
  {
   "metadata": {
    "ExecuteTime": {
     "end_time": "2024-06-01T13:46:59.077868Z",
     "start_time": "2024-06-01T13:46:59.072932Z"
    }
   },
   "cell_type": "code",
   "source": [
    "contenido = path.read_text()\n",
    "\n",
    "lineas = contenido.splitlines()\n",
    "for linea in lineas:\n",
    "    print(linea)"
   ],
   "id": "dd4e104c3d85472f",
   "outputs": [
    {
     "name": "stdout",
     "output_type": "stream",
     "text": [
      "3.1415926535\n",
      "  8979323846\n",
      "  2643383279\n"
     ]
    }
   ],
   "execution_count": 4
  },
  {
   "metadata": {},
   "cell_type": "markdown",
   "source": "### Trabajando con el contenido de un archivo",
   "id": "fbcd248d9a8a8a96"
  },
  {
   "metadata": {
    "ExecuteTime": {
     "end_time": "2024-06-01T13:46:59.083506Z",
     "start_time": "2024-06-01T13:46:59.078875Z"
    }
   },
   "cell_type": "code",
   "source": [
    "pi_cadena = \"\"\n",
    "\n",
    "for linea in lineas:\n",
    "    pi_cadena += linea\n",
    "    \n",
    "print(pi_cadena)\n",
    "print(len(pi_cadena))"
   ],
   "id": "f304913a80366540",
   "outputs": [
    {
     "name": "stdout",
     "output_type": "stream",
     "text": [
      "3.1415926535  8979323846  2643383279\n",
      "36\n"
     ]
    }
   ],
   "execution_count": 5
  },
  {
   "metadata": {
    "ExecuteTime": {
     "end_time": "2024-06-01T13:46:59.089427Z",
     "start_time": "2024-06-01T13:46:59.084514Z"
    }
   },
   "cell_type": "code",
   "source": [
    "# podemos eliminar el espacio en blanco\n",
    "\n",
    "pi_cadena = \"\"\n",
    "\n",
    "for linea in lineas:\n",
    "    pi_cadena += linea.lstrip()\n",
    "    \n",
    "print(pi_cadena)\n",
    "print(len(pi_cadena))"
   ],
   "id": "521508f7adf29908",
   "outputs": [
    {
     "name": "stdout",
     "output_type": "stream",
     "text": [
      "3.141592653589793238462643383279\n",
      "32\n"
     ]
    }
   ],
   "execution_count": 6
  },
  {
   "metadata": {},
   "cell_type": "markdown",
   "source": [
    "### Archivos grandes\n",
    "\n",
    "Para archivos grandes igualmente funciona lo que se hizo antes"
   ],
   "id": "cfb76fc067eb6e35"
  },
  {
   "metadata": {
    "ExecuteTime": {
     "end_time": "2024-06-01T13:46:59.299929Z",
     "start_time": "2024-06-01T13:46:59.090435Z"
    }
   },
   "cell_type": "code",
   "source": [
    "path = Path(\"datos/pi_million_digits.txt\")\n",
    "\n",
    "contenido = path.read_text()\n",
    "\n",
    "lineas = contenido.splitlines()\n",
    "pi_cadena = \"\"\n",
    "for linea in lineas:\n",
    "    pi_cadena += linea.lstrip()\n",
    "    \n",
    "print(f\"{pi_cadena[:52]}...\")\n",
    "print(len(pi_cadena))"
   ],
   "id": "b146c553fd94bdf9",
   "outputs": [
    {
     "name": "stdout",
     "output_type": "stream",
     "text": [
      "3.14159265358979323846264338327950288419716939937510...\n",
      "1000002\n"
     ]
    }
   ],
   "execution_count": 7
  },
  {
   "metadata": {},
   "cell_type": "markdown",
   "source": "### Está mi cumpleaños en pi?",
   "id": "14381c7af88b7c93"
  },
  {
   "metadata": {
    "ExecuteTime": {
     "end_time": "2024-06-01T13:47:07.326640Z",
     "start_time": "2024-06-01T13:46:59.300939Z"
    }
   },
   "cell_type": "code",
   "source": [
    "cumpleanos = input(\"Entra tu cumpleaños, en la forma mmddyy: \")\n",
    "\n",
    "if cumpleanos in pi_cadena:\n",
    "    print(\"Tu cumpleaños está en pi!\")\n",
    "else:\n",
    "    print(\"Tu cumpleaños no aparece en los primeros 1 millón de digitos de pi!\")"
   ],
   "id": "ec8fa074f84ee0a3",
   "outputs": [
    {
     "name": "stdout",
     "output_type": "stream",
     "text": [
      "Tu cumpleaños no aparece en los primeros 1 millón de digitos de pi!\n"
     ]
    }
   ],
   "execution_count": 8
  },
  {
   "metadata": {},
   "cell_type": "markdown",
   "source": [
    "### Ejercicios\n",
    "\n",
    "1. Leer el archivo `aprendido_python` e imprimir dos veces su información."
   ],
   "id": "8dbe19c218d80772"
  },
  {
   "metadata": {
    "ExecuteTime": {
     "end_time": "2024-06-01T13:47:07.333175Z",
     "start_time": "2024-06-01T13:47:07.327649Z"
    }
   },
   "cell_type": "code",
   "source": [
    "path = Path(\"datos/aprendido_python.txt\")\n",
    "\n",
    "contenido = path.read_text().rstrip()\n",
    "print(contenido)\n",
    "\n",
    "lineas = contenido.splitlines()\n",
    "for linea in lineas:\n",
    "    print(linea)"
   ],
   "id": "c76462b9d0208208",
   "outputs": [
    {
     "name": "stdout",
     "output_type": "stream",
     "text": [
      "sobre python he aprendido sobre listas, diccionarios, tuplas.\n",
      "sobre python he aprendido sobre if, while, for.\n",
      "sobre python he aprendido sobre funciones, clases.\n",
      "sobre python he aprendido sobre listas, diccionarios, tuplas.\n",
      "sobre python he aprendido sobre if, while, for.\n",
      "sobre python he aprendido sobre funciones, clases.\n"
     ]
    }
   ],
   "execution_count": 9
  },
  {
   "metadata": {
    "ExecuteTime": {
     "end_time": "2024-06-01T13:47:07.339295Z",
     "start_time": "2024-06-01T13:47:07.334187Z"
    }
   },
   "cell_type": "code",
   "source": [
    "# 2 Reemplazar python con rust\n",
    "\n",
    "lineas = contenido.splitlines()\n",
    "for linea in lineas:\n",
    "    print(linea.replace(\"python\", \"rust\"))"
   ],
   "id": "d7dd9e67d58d9f84",
   "outputs": [
    {
     "name": "stdout",
     "output_type": "stream",
     "text": [
      "sobre rust he aprendido sobre listas, diccionarios, tuplas.\n",
      "sobre rust he aprendido sobre if, while, for.\n",
      "sobre rust he aprendido sobre funciones, clases.\n"
     ]
    }
   ],
   "execution_count": 10
  },
  {
   "metadata": {
    "ExecuteTime": {
     "end_time": "2024-06-01T13:47:07.435264Z",
     "start_time": "2024-06-01T13:47:07.431508Z"
    }
   },
   "cell_type": "code",
   "source": [
    "# 3 simplificar el programa para leer archivos\n",
    "\n",
    "for linea in contenido.splitlines():\n",
    "    print(linea)"
   ],
   "id": "81b1d225e15c548c",
   "outputs": [
    {
     "name": "stdout",
     "output_type": "stream",
     "text": [
      "sobre python he aprendido sobre listas, diccionarios, tuplas.\n",
      "sobre python he aprendido sobre if, while, for.\n",
      "sobre python he aprendido sobre funciones, clases.\n"
     ]
    }
   ],
   "execution_count": 11
  },
  {
   "metadata": {},
   "cell_type": "markdown",
   "source": [
    "## Escribiendo en un archivo\n",
    "\n",
    "### Escribiendo una sola linea\n",
    "\n"
   ],
   "id": "f8f1bc1e7ff8c6a4"
  },
  {
   "metadata": {
    "ExecuteTime": {
     "end_time": "2024-06-01T13:47:07.476942Z",
     "start_time": "2024-06-01T13:47:07.469382Z"
    }
   },
   "cell_type": "code",
   "source": [
    "path = Path(\"programando.txt\")\n",
    "path.write_text(\"Me gusta programar!\")"
   ],
   "id": "648c135f006e9b37",
   "outputs": [
    {
     "data": {
      "text/plain": [
       "19"
      ]
     },
     "execution_count": 12,
     "metadata": {},
     "output_type": "execute_result"
    }
   ],
   "execution_count": 12
  },
  {
   "metadata": {},
   "cell_type": "markdown",
   "source": "### Escribiendo multiples lineas",
   "id": "21237fb1929eb7b6"
  },
  {
   "metadata": {
    "ExecuteTime": {
     "end_time": "2024-06-01T13:47:07.587370Z",
     "start_time": "2024-06-01T13:47:07.581355Z"
    }
   },
   "cell_type": "code",
   "source": [
    "contenido = \"Me gusta programar!\\n\"\n",
    "contenido += \"Me gusta crear juegos!\\n\"\n",
    "contenido += \"También me gusta trabajar con datos!\\n\"\n",
    "\n",
    "path.write_text(contenido)"
   ],
   "id": "42bf144fb1f242af",
   "outputs": [
    {
     "data": {
      "text/plain": [
       "80"
      ]
     },
     "execution_count": 13,
     "metadata": {},
     "output_type": "execute_result"
    }
   ],
   "execution_count": 13
  },
  {
   "metadata": {},
   "cell_type": "markdown",
   "source": [
    "### Ejercicios \n",
    "\n",
    "1. programa que pida los nombres de usuario y los guarde en un archivo de texto"
   ],
   "id": "902e2957db814338"
  },
  {
   "metadata": {
    "ExecuteTime": {
     "end_time": "2024-06-01T13:47:15.880941Z",
     "start_time": "2024-06-01T13:47:07.623949Z"
    }
   },
   "cell_type": "code",
   "source": [
    "path = Path(\"datos/nombres.txt\")\n",
    "bandera = True\n",
    "nombres = []\n",
    "print(\"Para salir del programa ingreses 'q'\")\n",
    "while bandera:\n",
    "    nombre = input(\"Ingrese su primer nombre\")\n",
    "    if nombre == \"q\":\n",
    "        bandera = False\n",
    "    else:\n",
    "        nombres.append(nombre)\n",
    "\n",
    "nombre_cadena = \"\"\n",
    "for i in range(len(nombres)):\n",
    "    nombre_cadena += f\"{nombres[i]}\\n\"\n",
    "\n",
    "path.write_text(nombre_cadena)"
   ],
   "id": "9aa99d4853905c1f",
   "outputs": [
    {
     "name": "stdout",
     "output_type": "stream",
     "text": [
      "Para salir del programa ingreses 'q'\n"
     ]
    },
    {
     "data": {
      "text/plain": [
       "16"
      ]
     },
     "execution_count": 14,
     "metadata": {},
     "output_type": "execute_result"
    }
   ],
   "execution_count": 14
  },
  {
   "metadata": {},
   "cell_type": "markdown",
   "source": [
    "## Excepciones\n",
    "\n",
    "Las excepciones manejan errores durante la ejecución de un programa. Si se tiene una excepción python crea un objeto de excepción y seguirá corriendo.\n",
    "\n",
    "Esto lo hacemos con bloques `try-except`.\n",
    "\n",
    "### Manejando el error de división por cero"
   ],
   "id": "382568b0ca4f8f20"
  },
  {
   "metadata": {
    "ExecuteTime": {
     "end_time": "2024-06-01T13:47:16.444153Z",
     "start_time": "2024-06-01T13:47:15.882950Z"
    }
   },
   "cell_type": "code",
   "source": [
    "# obtenemos un traceback, python da un excepción\n",
    "# ZeroDivisionError es un objeto excepcion\n",
    "\n",
    "print(5/0)"
   ],
   "id": "a998b02b7f4c383d",
   "outputs": [
    {
     "ename": "ZeroDivisionError",
     "evalue": "division by zero",
     "output_type": "error",
     "traceback": [
      "\u001B[1;31m---------------------------------------------------------------------------\u001B[0m",
      "\u001B[1;31mZeroDivisionError\u001B[0m                         Traceback (most recent call last)",
      "Cell \u001B[1;32mIn[15], line 4\u001B[0m\n\u001B[0;32m      1\u001B[0m \u001B[38;5;66;03m# obtenemos un traceback, python da un excepción\u001B[39;00m\n\u001B[0;32m      2\u001B[0m \u001B[38;5;66;03m# ZeroDivisionError es un objeto excepcion\u001B[39;00m\n\u001B[1;32m----> 4\u001B[0m \u001B[38;5;28mprint\u001B[39m(\u001B[38;5;241m5\u001B[39m\u001B[38;5;241m/\u001B[39m\u001B[38;5;241m0\u001B[39m)\n",
      "\u001B[1;31mZeroDivisionError\u001B[0m: division by zero"
     ]
    }
   ],
   "execution_count": 15
  },
  {
   "metadata": {},
   "cell_type": "markdown",
   "source": "### Usando bloques try - except",
   "id": "ba18f6f4e39e943d"
  },
  {
   "metadata": {
    "ExecuteTime": {
     "end_time": "2024-06-01T13:47:32.533072Z",
     "start_time": "2024-06-01T13:47:32.529782Z"
    }
   },
   "cell_type": "code",
   "source": [
    "try:\n",
    "    print(5/0)\n",
    "except ZeroDivisionError:\n",
    "    print(\"No se puede dividir por cero!\")"
   ],
   "id": "eb0d95ff7fc02bf8",
   "outputs": [
    {
     "name": "stdout",
     "output_type": "stream",
     "text": [
      "No se puede dividir por cero!\n"
     ]
    }
   ],
   "execution_count": 16
  },
  {
   "metadata": {},
   "cell_type": "markdown",
   "source": [
    "### Usando excepciones para evitar crasheos\n",
    "\n",
    "Si el programa debe seguir funcionando a pesar del error"
   ],
   "id": "37805ad1132648e1"
  },
  {
   "metadata": {
    "ExecuteTime": {
     "end_time": "2024-06-01T13:47:43.875280Z",
     "start_time": "2024-06-01T13:47:38.569189Z"
    }
   },
   "cell_type": "code",
   "source": [
    "# ene ste caso el programa se detiene si el usuario entra 0 en el segundo numero\n",
    "\n",
    "print(\"dame dos numeros y los divido\")\n",
    "print(\"escriba 'q' para salir\")\n",
    "\n",
    "while True:\n",
    "    primer_numero = input(\"\\nPrimer número: \")\n",
    "    if primer_numero == \"q\":\n",
    "        break\n",
    "    segundo_numero = input(\"Segundo número: \")\n",
    "    if segundo_numero == \"q\":\n",
    "        break\n",
    "    respuesta = int(primer_numero) / int(segundo_numero)\n",
    "    print(respuesta)"
   ],
   "id": "bde67292a9fb2b7f",
   "outputs": [
    {
     "name": "stdout",
     "output_type": "stream",
     "text": [
      "dame dos numeros y los divido\n",
      "escriba 'q' para salir\n"
     ]
    },
    {
     "ename": "ZeroDivisionError",
     "evalue": "division by zero",
     "output_type": "error",
     "traceback": [
      "\u001B[1;31m---------------------------------------------------------------------------\u001B[0m",
      "\u001B[1;31mZeroDivisionError\u001B[0m                         Traceback (most recent call last)",
      "Cell \u001B[1;32mIn[17], line 13\u001B[0m\n\u001B[0;32m     11\u001B[0m \u001B[38;5;28;01mif\u001B[39;00m segundo_numero \u001B[38;5;241m==\u001B[39m \u001B[38;5;124m\"\u001B[39m\u001B[38;5;124mq\u001B[39m\u001B[38;5;124m\"\u001B[39m:\n\u001B[0;32m     12\u001B[0m     \u001B[38;5;28;01mbreak\u001B[39;00m\n\u001B[1;32m---> 13\u001B[0m respuesta \u001B[38;5;241m=\u001B[39m \u001B[38;5;28mint\u001B[39m(primer_numero) \u001B[38;5;241m/\u001B[39m \u001B[38;5;28mint\u001B[39m(segundo_numero)\n\u001B[0;32m     14\u001B[0m \u001B[38;5;28mprint\u001B[39m(respuesta)\n",
      "\u001B[1;31mZeroDivisionError\u001B[0m: division by zero"
     ]
    }
   ],
   "execution_count": 17
  },
  {
   "metadata": {},
   "cell_type": "markdown",
   "source": [
    "### El bloque else\n",
    "\n",
    "Para que siga funcionando usamos un bloque else"
   ],
   "id": "49f229e262079ea2"
  },
  {
   "metadata": {
    "ExecuteTime": {
     "end_time": "2024-06-01T13:47:59.315242Z",
     "start_time": "2024-06-01T13:47:55.256616Z"
    }
   },
   "cell_type": "code",
   "source": [
    "print(\"dame dos numeros y los divido\")\n",
    "print(\"escriba 'q' para salir\")\n",
    "\n",
    "while True:\n",
    "    primer_numero = input(\"\\nPrimer número: \")\n",
    "    if primer_numero == \"q\":\n",
    "        break\n",
    "    segundo_numero = input(\"Segundo número: \")\n",
    "    if segundo_numero == \"q\":\n",
    "        break\n",
    "    try:\n",
    "        respuesta = int(primer_numero) / int(segundo_numero)\n",
    "    except ZeroDivisionError:\n",
    "        print(\"No se puede dividir por cero!\")\n",
    "    else:\n",
    "        print(respuesta)"
   ],
   "id": "29eda4970a842a9f",
   "outputs": [
    {
     "name": "stdout",
     "output_type": "stream",
     "text": [
      "dame dos numeros y los divido\n",
      "escriba 'q' para salir\n",
      "No se puede dividir por cero!\n"
     ]
    }
   ],
   "execution_count": 18
  },
  {
   "metadata": {},
   "cell_type": "markdown",
   "source": [
    "### Manejando la excepcion FileNotFound\n",
    "\n",
    "Este es el caso que python no encuentre el archivo que estamos intentando utilizar"
   ],
   "id": "3f87842c8cbcb3ae"
  },
  {
   "metadata": {
    "ExecuteTime": {
     "end_time": "2024-06-01T13:48:01.839278Z",
     "start_time": "2024-06-01T13:48:01.693719Z"
    }
   },
   "cell_type": "code",
   "source": [
    "path = Path(\"alicia.txt\")\n",
    "contenido = path.read_text(encoding = \"utf-8\")"
   ],
   "id": "73850f9ac6b33eea",
   "outputs": [
    {
     "ename": "FileNotFoundError",
     "evalue": "[Errno 2] No such file or directory: 'alicia.txt'",
     "output_type": "error",
     "traceback": [
      "\u001B[1;31m---------------------------------------------------------------------------\u001B[0m",
      "\u001B[1;31mFileNotFoundError\u001B[0m                         Traceback (most recent call last)",
      "Cell \u001B[1;32mIn[19], line 2\u001B[0m\n\u001B[0;32m      1\u001B[0m path \u001B[38;5;241m=\u001B[39m Path(\u001B[38;5;124m\"\u001B[39m\u001B[38;5;124malicia.txt\u001B[39m\u001B[38;5;124m\"\u001B[39m)\n\u001B[1;32m----> 2\u001B[0m contenido \u001B[38;5;241m=\u001B[39m path\u001B[38;5;241m.\u001B[39mread_text(encoding \u001B[38;5;241m=\u001B[39m \u001B[38;5;124m\"\u001B[39m\u001B[38;5;124mutf-8\u001B[39m\u001B[38;5;124m\"\u001B[39m)\n",
      "File \u001B[1;32m~\\anaconda3\\Lib\\pathlib.py:1058\u001B[0m, in \u001B[0;36mPath.read_text\u001B[1;34m(self, encoding, errors)\u001B[0m\n\u001B[0;32m   1054\u001B[0m \u001B[38;5;250m\u001B[39m\u001B[38;5;124;03m\"\"\"\u001B[39;00m\n\u001B[0;32m   1055\u001B[0m \u001B[38;5;124;03mOpen the file in text mode, read it, and close the file.\u001B[39;00m\n\u001B[0;32m   1056\u001B[0m \u001B[38;5;124;03m\"\"\"\u001B[39;00m\n\u001B[0;32m   1057\u001B[0m encoding \u001B[38;5;241m=\u001B[39m io\u001B[38;5;241m.\u001B[39mtext_encoding(encoding)\n\u001B[1;32m-> 1058\u001B[0m \u001B[38;5;28;01mwith\u001B[39;00m \u001B[38;5;28mself\u001B[39m\u001B[38;5;241m.\u001B[39mopen(mode\u001B[38;5;241m=\u001B[39m\u001B[38;5;124m'\u001B[39m\u001B[38;5;124mr\u001B[39m\u001B[38;5;124m'\u001B[39m, encoding\u001B[38;5;241m=\u001B[39mencoding, errors\u001B[38;5;241m=\u001B[39merrors) \u001B[38;5;28;01mas\u001B[39;00m f:\n\u001B[0;32m   1059\u001B[0m     \u001B[38;5;28;01mreturn\u001B[39;00m f\u001B[38;5;241m.\u001B[39mread()\n",
      "File \u001B[1;32m~\\anaconda3\\Lib\\pathlib.py:1044\u001B[0m, in \u001B[0;36mPath.open\u001B[1;34m(self, mode, buffering, encoding, errors, newline)\u001B[0m\n\u001B[0;32m   1042\u001B[0m \u001B[38;5;28;01mif\u001B[39;00m \u001B[38;5;124m\"\u001B[39m\u001B[38;5;124mb\u001B[39m\u001B[38;5;124m\"\u001B[39m \u001B[38;5;129;01mnot\u001B[39;00m \u001B[38;5;129;01min\u001B[39;00m mode:\n\u001B[0;32m   1043\u001B[0m     encoding \u001B[38;5;241m=\u001B[39m io\u001B[38;5;241m.\u001B[39mtext_encoding(encoding)\n\u001B[1;32m-> 1044\u001B[0m \u001B[38;5;28;01mreturn\u001B[39;00m io\u001B[38;5;241m.\u001B[39mopen(\u001B[38;5;28mself\u001B[39m, mode, buffering, encoding, errors, newline)\n",
      "\u001B[1;31mFileNotFoundError\u001B[0m: [Errno 2] No such file or directory: 'alicia.txt'"
     ]
    }
   ],
   "execution_count": 19
  },
  {
   "metadata": {
    "ExecuteTime": {
     "end_time": "2024-06-01T13:48:03.864691Z",
     "start_time": "2024-06-01T13:48:03.860385Z"
    }
   },
   "cell_type": "code",
   "source": [
    "path = Path(\"alicia.txt\")\n",
    "try:\n",
    "    contenido = path.read_text(encoding = \"utf-8\")\n",
    "except FileNotFoundError:\n",
    "    print(f\"Perdón, el archivo {path} no existe.\")"
   ],
   "id": "a2a00f292ded4e59",
   "outputs": [
    {
     "name": "stdout",
     "output_type": "stream",
     "text": [
      "Perdón, el archivo alicia.txt no existe.\n"
     ]
    }
   ],
   "execution_count": 20
  },
  {
   "metadata": {},
   "cell_type": "markdown",
   "source": [
    "### Analizando texto\n",
    "\n"
   ],
   "id": "b06e5f31ab1ce408"
  },
  {
   "metadata": {
    "ExecuteTime": {
     "end_time": "2024-06-01T13:48:06.390207Z",
     "start_time": "2024-06-01T13:48:06.386778Z"
    }
   },
   "cell_type": "code",
   "source": [
    "# por ejemplo podemos contar el numero de palabras en un texto\n",
    "\n",
    "path = Path(\"datos/alicia.txt\")\n"
   ],
   "id": "3f8fc8de887abfb0",
   "outputs": [],
   "execution_count": 21
  },
  {
   "metadata": {},
   "cell_type": "markdown",
   "source": [
    "### Trabajando con multiples archivos\n",
    "\n"
   ],
   "id": "cd21c0681bb598dd"
  },
  {
   "metadata": {
    "ExecuteTime": {
     "end_time": "2024-06-01T13:48:08.106675Z",
     "start_time": "2024-06-01T13:48:08.102905Z"
    }
   },
   "cell_type": "code",
   "source": [
    "# creamos una función para contar palabras\n",
    "\n",
    "def contar_palabras(path):\n",
    "    \"\"\"Cuenta las palabras de un archivo\"\"\"\n",
    "    try:\n",
    "        contenido = path.read_text(encoding=\"utf-8\")\n",
    "    except FileNotFoundError:\n",
    "        print(f\"Lo sentimos, el archivo {path} no existe\")\n",
    "    else:\n",
    "        # contar las palabras\n",
    "        palabras = contenido.split()\n",
    "        num_palabras = len(palabras)\n",
    "        print(f\"El número de palabras en {path} es {num_palabras}\")"
   ],
   "id": "4c5bf62b70206f24",
   "outputs": [],
   "execution_count": 22
  },
  {
   "metadata": {
    "ExecuteTime": {
     "end_time": "2024-06-01T13:48:10.175230Z",
     "start_time": "2024-06-01T13:48:10.169786Z"
    }
   },
   "cell_type": "code",
   "source": [
    "path = Path(\"datos/alicia.txt\")\n",
    "contar_palabras(path)"
   ],
   "id": "6535c7a1c5ab7d24",
   "outputs": [
    {
     "name": "stdout",
     "output_type": "stream",
     "text": [
      "El número de palabras en datos\\alicia.txt es 12598\n"
     ]
    }
   ],
   "execution_count": 23
  },
  {
   "metadata": {
    "ExecuteTime": {
     "end_time": "2024-06-01T13:48:12.099578Z",
     "start_time": "2024-06-01T13:48:12.042984Z"
    }
   },
   "cell_type": "code",
   "source": [
    "# ahora para varios archivos\n",
    "\n",
    "nombres_archivos = ['datos/siddhartha.txt', \"datos/little women.txt\", \"datos/alicia.txt\", \"datos/moby dick.txt\", \"datos/alice.txt\"]\n",
    "\n",
    "for archivo in nombres_archivos:\n",
    "    path = Path(archivo)\n",
    "    contar_palabras(path)"
   ],
   "id": "1e7768eef9c2389c",
   "outputs": [
    {
     "name": "stdout",
     "output_type": "stream",
     "text": [
      "El número de palabras en datos\\siddhartha.txt es 42186\n",
      "El número de palabras en datos\\little women.txt es 189138\n",
      "El número de palabras en datos\\alicia.txt es 12598\n",
      "El número de palabras en datos\\moby dick.txt es 215838\n",
      "Lo sentimos, el archivo datos\\alice.txt no existe\n"
     ]
    }
   ],
   "execution_count": 24
  },
  {
   "metadata": {},
   "cell_type": "markdown",
   "source": [
    "### Fallar silenciosamente\n",
    "\n",
    "No siempre hay que reportar un error, se modificaría el programa así"
   ],
   "id": "741c42b8c6d71aca"
  },
  {
   "metadata": {
    "ExecuteTime": {
     "end_time": "2024-06-01T13:48:14.096939Z",
     "start_time": "2024-06-01T13:48:14.092598Z"
    }
   },
   "cell_type": "code",
   "source": [
    "def contar_palabras(path):\n",
    "    \"\"\"Cuenta las palabras de un archivo\"\"\"\n",
    "    try:\n",
    "        contenido = path.read_text(encoding=\"utf-8\")\n",
    "    except FileNotFoundError:\n",
    "        # hacemos un pass para que python siga corriendo el programa sin informar del error\n",
    "        pass\n",
    "    else:\n",
    "        # contar las palabras\n",
    "        palabras = contenido.split()\n",
    "        num_palabras = len(palabras)\n",
    "        print(f\"El número de palabras en {path} es {num_palabras}\")"
   ],
   "id": "95e4930c698170fe",
   "outputs": [],
   "execution_count": 25
  },
  {
   "metadata": {
    "ExecuteTime": {
     "end_time": "2024-06-01T13:48:15.694181Z",
     "start_time": "2024-06-01T13:48:15.646432Z"
    }
   },
   "cell_type": "code",
   "source": [
    "for archivo in nombres_archivos:\n",
    "    path = Path(archivo)\n",
    "    contar_palabras(path)"
   ],
   "id": "8013a86c0baba6d1",
   "outputs": [
    {
     "name": "stdout",
     "output_type": "stream",
     "text": [
      "El número de palabras en datos\\siddhartha.txt es 42186\n",
      "El número de palabras en datos\\little women.txt es 189138\n",
      "El número de palabras en datos\\alicia.txt es 12598\n",
      "El número de palabras en datos\\moby dick.txt es 215838\n"
     ]
    }
   ],
   "execution_count": 26
  },
  {
   "metadata": {},
   "cell_type": "markdown",
   "source": [
    "### Ejercicios\n",
    "\n",
    "1. Suma, atrapar el error en caso que no sea un número el valor ingresado"
   ],
   "id": "f8f119fe7b214f5c"
  },
  {
   "metadata": {
    "ExecuteTime": {
     "end_time": "2024-06-01T13:48:18.205775Z",
     "start_time": "2024-06-01T13:48:18.202318Z"
    }
   },
   "cell_type": "code",
   "source": [
    "def suma():\n",
    "    x = input(\"Ingrese el primer número: \")\n",
    "    y = input(\"Ingrese el segundo número: \")\n",
    "    try:\n",
    "        x = int(x)\n",
    "        y = int(y)\n",
    "    except ValueError:\n",
    "        print(\"Alguno de los dos valores no es un número, intente de nuevo.\")\n",
    "    else:\n",
    "        print(f\"La suma de los dos números ingresado es {x + y}\")"
   ],
   "id": "9484e5be0899ba61",
   "outputs": [],
   "execution_count": 27
  },
  {
   "metadata": {
    "ExecuteTime": {
     "end_time": "2024-06-01T13:48:28.205781Z",
     "start_time": "2024-06-01T13:48:25.718727Z"
    }
   },
   "cell_type": "code",
   "source": "suma()",
   "id": "4c01eeb9dede1a83",
   "outputs": [
    {
     "name": "stdout",
     "output_type": "stream",
     "text": [
      "Alguno de los dos valores no es un número, intente de nuevo.\n"
     ]
    }
   ],
   "execution_count": 29
  },
  {
   "metadata": {},
   "cell_type": "markdown",
   "source": "2. Hacer una calculadora con un while",
   "id": "7cd461f3aefe5e79"
  },
  {
   "metadata": {
    "ExecuteTime": {
     "end_time": "2024-06-01T13:52:58.180713Z",
     "start_time": "2024-06-01T13:52:58.176420Z"
    }
   },
   "cell_type": "code",
   "source": [
    "def suma():\n",
    "    bandera = \" \"\n",
    "    while bandera != \"q\":\n",
    "        x = input(\"Ingrese el primer número: \")\n",
    "        y = input(\"Ingrese el segundo número: \")\n",
    "        try:\n",
    "            x = int(x)\n",
    "            y = int(y)\n",
    "        except ValueError:\n",
    "            print(\"Alguno de los dos valores no es un número, intente de nuevo.\")\n",
    "        else:\n",
    "            print(f\"La suma de los dos números ingresado es {x + y}\")\n",
    "        bandera = input(\"Desea salir? para salir escriba 'q'\")"
   ],
   "id": "d3103f38d0e31b7b",
   "outputs": [],
   "execution_count": 34
  },
  {
   "metadata": {
    "ExecuteTime": {
     "end_time": "2024-06-01T13:52:45.812972Z",
     "start_time": "2024-06-01T13:52:12.665592Z"
    }
   },
   "cell_type": "code",
   "source": "suma()",
   "id": "1ffe0d146ab8fa96",
   "outputs": [
    {
     "name": "stdout",
     "output_type": "stream",
     "text": [
      "La suma de los dos números ingresado es 15\n",
      "La suma de los dos números ingresado es 15\n",
      "Alguno de los dos valores no es un número, intente de nuevo.\n",
      "Alguno de los dos valores no es un número, intente de nuevo.\n",
      "Alguno de los dos valores no es un número, intente de nuevo.\n"
     ]
    }
   ],
   "execution_count": 33
  },
  {
   "metadata": {},
   "cell_type": "markdown",
   "source": "3. gatos y perros",
   "id": "596b499932a39237"
  },
  {
   "metadata": {
    "ExecuteTime": {
     "end_time": "2024-06-01T14:15:37.392992Z",
     "start_time": "2024-06-01T14:15:37.386074Z"
    }
   },
   "cell_type": "code",
   "source": [
    "path = Path(\"datos/gatos.txt\")\n",
    "path_2 = Path(\"datos/perros.txt\")\n",
    "gatos = [\"tom\", \"teemo\", \"ahri\", \"nala\"]\n",
    "perros = [\"milka\", \"anacaona\", \"luna\"]\n",
    "\n",
    "contenido_perros = \"\"\n",
    "contenido_gatos = \"\"\n",
    "for i in range(len(perros)):\n",
    "    contenido_perros += f\"{perros[i]}\\n\"\n",
    "for i in range(len(gatos)):\n",
    "    contenido_gatos += f\"{gatos[i]}\\n\"\n",
    "\n",
    "path.write_text(contenido_gatos)\n",
    "path_2.write_text(contenido_perros)"
   ],
   "id": "4f4871fb223626b5",
   "outputs": [
    {
     "data": {
      "text/plain": [
       "20"
      ]
     },
     "execution_count": 62,
     "metadata": {},
     "output_type": "execute_result"
    }
   ],
   "execution_count": 62
  },
  {
   "metadata": {
    "ExecuteTime": {
     "end_time": "2024-06-01T14:22:39.441858Z",
     "start_time": "2024-06-01T14:22:39.436061Z"
    }
   },
   "cell_type": "code",
   "source": [
    "def leer_archivos(ubicacion):\n",
    "    path = Path(ubicacion)\n",
    "    try:\n",
    "        contenido = path.read_text()\n",
    "    except FileNotFoundError:\n",
    "        print(\"No se encuentra el archivo en esta ubicación!\")\n",
    "    else:\n",
    "        print(contenido)"
   ],
   "id": "cab971422445d066",
   "outputs": [],
   "execution_count": 74
  },
  {
   "metadata": {
    "ExecuteTime": {
     "end_time": "2024-06-01T14:22:41.234913Z",
     "start_time": "2024-06-01T14:22:41.231074Z"
    }
   },
   "cell_type": "code",
   "source": [
    "leer_archivos(\"datos/perros.txt\")\n",
    "leer_archivos(\"datos/gatos.txt\")\n",
    "leer_archivos(\"datos/mascotas.txt\")"
   ],
   "id": "b1599fb349109ac8",
   "outputs": [
    {
     "name": "stdout",
     "output_type": "stream",
     "text": [
      "milka\n",
      "anacaona\n",
      "luna\n",
      "\n",
      "tom\n",
      "teemo\n",
      "ahri\n",
      "nala\n",
      "\n",
      "No se encuentra el archivo en esta ubicación!\n"
     ]
    }
   ],
   "execution_count": 75
  },
  {
   "metadata": {},
   "cell_type": "markdown",
   "source": "4. modificar el programa anterior para que tenga un error silencioso",
   "id": "46aab54d1cec27a0"
  },
  {
   "metadata": {
    "ExecuteTime": {
     "end_time": "2024-06-01T14:23:26.924733Z",
     "start_time": "2024-06-01T14:23:26.920787Z"
    }
   },
   "cell_type": "code",
   "source": [
    "def leer_archivos(ubicacion):\n",
    "    path = Path(ubicacion)\n",
    "    try:\n",
    "        contenido = path.read_text()\n",
    "    except FileNotFoundError:\n",
    "        pass\n",
    "    else:\n",
    "        print(contenido)"
   ],
   "id": "1394542ad7466c6b",
   "outputs": [],
   "execution_count": 76
  },
  {
   "metadata": {
    "ExecuteTime": {
     "end_time": "2024-06-01T14:23:28.984151Z",
     "start_time": "2024-06-01T14:23:28.980150Z"
    }
   },
   "cell_type": "code",
   "source": [
    "leer_archivos(\"datos/perros.txt\")\n",
    "leer_archivos(\"datos/gatos.txt\")\n",
    "leer_archivos(\"datos/mascotas.txt\")"
   ],
   "id": "5c36a621d361497a",
   "outputs": [
    {
     "name": "stdout",
     "output_type": "stream",
     "text": [
      "milka\n",
      "anacaona\n",
      "luna\n",
      "\n",
      "tom\n",
      "teemo\n",
      "ahri\n",
      "nala\n",
      "\n"
     ]
    }
   ],
   "execution_count": 77
  },
  {
   "metadata": {},
   "cell_type": "markdown",
   "source": "5. Palabras en común, contar las palabras \"the\" y \"the \"",
   "id": "5b80941debbe7a6e"
  },
  {
   "metadata": {
    "ExecuteTime": {
     "end_time": "2024-06-01T14:32:45.568791Z",
     "start_time": "2024-06-01T14:32:45.564727Z"
    }
   },
   "cell_type": "code",
   "source": [
    "def contar_palabras(ubicacion):\n",
    "    path = Path(ubicacion)\n",
    "    try:\n",
    "        contenido = path.read_text(encoding=\"utf-8\")\n",
    "    except FileNotFoundError:\n",
    "        print(f\"No se encuentra el archivo {ubicacion}!\")\n",
    "    else:\n",
    "        palabras = contenido.split()\n",
    "        conteo = contenido.lower().count(\"the\")\n",
    "        print(f\"La palabra 'the' se repite {conteo} en el archivo {ubicacion}.\")\n",
    "        conteo = contenido.lower().count(\" the \")\n",
    "        print(f\"La palabra ' the ' exactamente se repite {conteo} en el archivo {ubicacion}.\")"
   ],
   "id": "b09e27a0908135d7",
   "outputs": [],
   "execution_count": 92
  },
  {
   "metadata": {
    "ExecuteTime": {
     "end_time": "2024-06-01T14:32:47.294625Z",
     "start_time": "2024-06-01T14:32:47.236818Z"
    }
   },
   "cell_type": "code",
   "source": [
    "contar_palabras(\"datos/little women.txt\")\n",
    "contar_palabras(\"datos/moby dick.txt\")\n",
    "contar_palabras(\"datos/dune\")"
   ],
   "id": "daf296a05949ac7b",
   "outputs": [
    {
     "name": "stdout",
     "output_type": "stream",
     "text": [
      "La palabra 'the' se repite 11861 en el archivo datos/little women.txt.\n",
      "La palabra ' the ' exactamente se repite 6445 en el archivo datos/little women.txt.\n",
      "La palabra 'the' se repite 20139 en el archivo datos/moby dick.txt.\n",
      "La palabra ' the ' exactamente se repite 12274 en el archivo datos/moby dick.txt.\n",
      "No se encuentra el archivo datos/dune!\n"
     ]
    }
   ],
   "execution_count": 93
  },
  {
   "metadata": {},
   "cell_type": "markdown",
   "source": [
    "## Guardar datos\n",
    "\n",
    "Podemos guardar datos en archivos JSON, esto permite convertir estructuras de datos a cadenas JSON"
   ],
   "id": "f1cbb8051784ea26"
  },
  {
   "metadata": {},
   "cell_type": "markdown",
   "source": "### Usando json.dumps() y json.loads()",
   "id": "1b9bffb49179d4b6"
  },
  {
   "metadata": {
    "ExecuteTime": {
     "end_time": "2024-06-01T14:58:40.608678Z",
     "start_time": "2024-06-01T14:58:40.603649Z"
    }
   },
   "cell_type": "code",
   "source": [
    "# json.dumps() recibe un argumento: el dato que se necesita convertir a JSON\n",
    "\n",
    "import json\n",
    "\n",
    "numeros = [2, 3, 5, 7, 11, 13]\n",
    "\n",
    "path = Path(\"datos/numeros.json\")\n",
    "contenido = json.dumps(numeros)\n",
    "path.write_text(contenido)"
   ],
   "id": "2a11b5732a742798",
   "outputs": [
    {
     "data": {
      "text/plain": [
       "20"
      ]
     },
     "execution_count": 94,
     "metadata": {},
     "output_type": "execute_result"
    }
   ],
   "execution_count": 94
  },
  {
   "metadata": {
    "ExecuteTime": {
     "end_time": "2024-06-01T16:31:37.049476Z",
     "start_time": "2024-06-01T16:31:36.856149Z"
    }
   },
   "cell_type": "code",
   "source": [
    "# ahora para leer los datos\n",
    "\n",
    "path = Path(\"datos/numeros.json\")\n",
    "contenido = path.read_text()\n",
    "numeros = json.loads(contenido)\n",
    "\n",
    "print(numeros)"
   ],
   "id": "26d685fddcdd8940",
   "outputs": [
    {
     "name": "stdout",
     "output_type": "stream",
     "text": [
      "[2, 3, 5, 7, 11, 13]\n"
     ]
    }
   ],
   "execution_count": 96
  },
  {
   "metadata": {},
   "cell_type": "markdown",
   "source": [
    "### Guardando y leyendo datos generando por el usuario\n",
    "\n"
   ],
   "id": "1fd4266f7b446b8f"
  },
  {
   "metadata": {
    "ExecuteTime": {
     "end_time": "2024-06-01T16:35:29.485837Z",
     "start_time": "2024-06-01T16:35:27.583527Z"
    }
   },
   "cell_type": "code",
   "source": [
    "usuario = input(\"Cual es tu nombre? \")\n",
    "\n",
    "path = Path(\"datos/usuario.json\")\n",
    "contenido = json.dumps(usuario)\n",
    "path.write_text(contenido)\n",
    "\n",
    "print(f\"Recordaremos tu nombre cuando vuelvas, {usuario}\")"
   ],
   "id": "2203fe0fa10b2f96",
   "outputs": [
    {
     "name": "stdout",
     "output_type": "stream",
     "text": [
      "Recordaremos tu nombre cuando vuelvas, Mateo\n"
     ]
    }
   ],
   "execution_count": 97
  },
  {
   "metadata": {
    "ExecuteTime": {
     "end_time": "2024-06-01T16:36:43.000425Z",
     "start_time": "2024-06-01T16:36:42.997105Z"
    }
   },
   "cell_type": "code",
   "source": [
    "# ahora recordamos el nombre\n",
    "\n",
    "path = Path(\"datos/usuario.json\")\n",
    "contenido = path.read_text()\n",
    "usuario = json.loads(contenido)\n",
    "\n",
    "print(f\"Bienvenido de vuelta {usuario}\")"
   ],
   "id": "212910e540a86ad4",
   "outputs": [
    {
     "name": "stdout",
     "output_type": "stream",
     "text": [
      "Bienvenido de vuelta Mateo\n"
     ]
    }
   ],
   "execution_count": 98
  },
  {
   "metadata": {
    "ExecuteTime": {
     "end_time": "2024-06-01T18:46:27.289879Z",
     "start_time": "2024-06-01T18:46:27.269682Z"
    }
   },
   "cell_type": "code",
   "source": [
    "# AHORA combinamos estos dos programas en unos solo\n",
    "\n",
    "path = Path(\"datos/usuario.json\")\n",
    "if path.exists():\n",
    "    contenido = path.read_text()\n",
    "    usuario = json.loads(contenido)\n",
    "    print(f\"Bienvenido de vuelta {usuario}!\")\n",
    "else:\n",
    "    usuario = input(\"Cual es tu nombre? \")\n",
    "    contenido = json.dumps(usuario)\n",
    "    path.write_text(contenido)\n",
    "    print(f\"Te recordaremos cuando vuelvas, {usuario}\")"
   ],
   "id": "66a50f43f82453",
   "outputs": [
    {
     "name": "stdout",
     "output_type": "stream",
     "text": [
      "Bienvenido de vuelta Mateo!\n"
     ]
    }
   ],
   "execution_count": 99
  },
  {
   "metadata": {},
   "cell_type": "markdown",
   "source": [
    "## Refactorizar\n",
    "\n",
    "Refactorizar es convertir el código a una serie de funciones, esto ayuda a que el código esté limpio, fácil de entender y de extender."
   ],
   "id": "5b6a95c8246ac2be"
  },
  {
   "metadata": {
    "ExecuteTime": {
     "end_time": "2024-06-01T18:53:21.274405Z",
     "start_time": "2024-06-01T18:53:21.268605Z"
    }
   },
   "cell_type": "code",
   "source": [
    "# por ejemplo el código anterior\n",
    "\n",
    "def saludar_usuario():\n",
    "    \"\"\" Saluda al usuario por su nombre\n",
    "    \"\"\"\n",
    "    path = Path(\"datos/usuarios.json\")\n",
    "    if path.exists():\n",
    "        contenido = path.read_text()\n",
    "        usuario = json.loads(contenido)\n",
    "        print(f\"Bienvenido de vuelta {usuario}!\")\n",
    "    else: \n",
    "        usuario = input(\"Cual es tu nombre? \")\n",
    "        contenido = json.dumps(usuario)\n",
    "        path.write_text(contenido)\n",
    "        print(f\"Te recordaremos cuando vuelvas {usuario}!\")\n",
    "        \n",
    "saludar_usuario()"
   ],
   "id": "17c060492aa0ce47",
   "outputs": [
    {
     "name": "stdout",
     "output_type": "stream",
     "text": [
      "Bienvenido de vuelta Mateo!\n"
     ]
    }
   ],
   "execution_count": 101
  },
  {
   "metadata": {
    "ExecuteTime": {
     "end_time": "2024-06-01T18:57:38.893721Z",
     "start_time": "2024-06-01T18:57:38.884290Z"
    }
   },
   "cell_type": "code",
   "source": [
    "# refactorizar la función\n",
    "\n",
    "def obtener_usuario_guardado(path):\n",
    "    \"\"\"Obtiene los usuarios guardados si están disponibles\"\"\"\n",
    "    if path.exists():\n",
    "        contenido = path.read_text()\n",
    "        usuario = json.loads(contenido)\n",
    "        return usuario\n",
    "    else:\n",
    "        return None\n",
    "    \n",
    "def saludar_usuario():\n",
    "    \"\"\"Saluda al usuario por nombre\"\"\"\n",
    "    path = Path(\"datos/usuario.json\")\n",
    "    usuario = obtener_usuario_guardado(path)\n",
    "    if usuario:\n",
    "        print(f\"Bienvenido de vuelta {usuario}!\")\n",
    "    else:\n",
    "        usuario = input(\"Cual es tu nombre? \")\n",
    "        contenido = json.dumps(usuario)\n",
    "        path.write_text(contenido)\n",
    "        print(f\"Te recordaremos la proxima vez {usuario}\")\n",
    "        \n",
    "saludar_usuario()"
   ],
   "id": "4cdacccfd1aca5ee",
   "outputs": [
    {
     "name": "stdout",
     "output_type": "stream",
     "text": [
      "Bienvenido de vuelta Mateo!\n"
     ]
    }
   ],
   "execution_count": 102
  },
  {
   "metadata": {
    "ExecuteTime": {
     "end_time": "2024-06-01T19:07:50.811511Z",
     "start_time": "2024-06-01T19:07:50.799523Z"
    }
   },
   "cell_type": "code",
   "source": [
    "## podemos seguir refactorizando\n",
    "\n",
    "def obtener_usuario_guardado(path):\n",
    "    \"\"\"Obtiene los usuarios guardados si están disponibles\"\"\"\n",
    "    if path.exists():\n",
    "        contenido = path.read_text()\n",
    "        usuario = json.loads(contenido)\n",
    "        return usuario\n",
    "    else:\n",
    "        return None\n",
    "    \n",
    "def obtener_nuevo_usuario(path):\n",
    "    \"\"\"Pregunta por un nuevo usuario\"\"\"\n",
    "    usuario = input(\"Cual es tu nombre? \")\n",
    "    contenido = json.dumps(usuario)\n",
    "    path.write_text(contenido)\n",
    "    return usuario\n",
    "    \n",
    "def saludar_usuario():\n",
    "    \"\"\"Saluda al usuario por nombre\"\"\"\n",
    "    path = Path(\"datos/usuario.json\")\n",
    "    usuario = obtener_usuario_guardado(path)\n",
    "    if usuario:\n",
    "        print(f\"Bienvenido de vuelta {usuario}!\")\n",
    "    else:\n",
    "        usuario = obtener_usuario_guardado(path)\n",
    "        print(f\"Te recordaremos la proxima vez {usuario}\")\n",
    "        \n",
    "saludar_usuario()"
   ],
   "id": "d9cb66fd0539088",
   "outputs": [
    {
     "name": "stdout",
     "output_type": "stream",
     "text": [
      "Bienvenido de vuelta Mateo!\n"
     ]
    }
   ],
   "execution_count": 103
  },
  {
   "metadata": {},
   "cell_type": "markdown",
   "source": [
    "### Ejercicios\n",
    "\n",
    "1. Numero favorito"
   ],
   "id": "87c1446439e1dabf"
  },
  {
   "metadata": {
    "ExecuteTime": {
     "end_time": "2024-06-01T20:54:59.203647Z",
     "start_time": "2024-06-01T20:54:59.199532Z"
    }
   },
   "cell_type": "code",
   "source": [
    "def numero_favorito():\n",
    "    num = int(input(\"Cual es tu número favorito? \"))\n",
    "    path = Path(\"datos/fav_nums.json\")\n",
    "    contenido = json.dumps(num)\n",
    "    path.write_text(contenido)\n",
    "    \n",
    "def mostrar_numero_favorito():\n",
    "    path = Path(\"datos/fav_nums.json\")\n",
    "    contenido = path.read_text()\n",
    "    num = json.loads(contenido)\n",
    "    print(f\"Yo sé tu numero favorito, es: {num}\")"
   ],
   "id": "37f5ea47cfb0417d",
   "outputs": [],
   "execution_count": 109
  },
  {
   "metadata": {
    "ExecuteTime": {
     "end_time": "2024-06-01T20:49:35.906397Z",
     "start_time": "2024-06-01T20:49:32.722266Z"
    }
   },
   "cell_type": "code",
   "source": "numero_favorito()",
   "id": "a49eecc6ed9e78c6",
   "outputs": [],
   "execution_count": 105
  },
  {
   "metadata": {
    "ExecuteTime": {
     "end_time": "2024-06-01T20:49:52.848424Z",
     "start_time": "2024-06-01T20:49:52.844901Z"
    }
   },
   "cell_type": "code",
   "source": "mostrar_numero_favorito()",
   "id": "2089c0b453315017",
   "outputs": [
    {
     "name": "stdout",
     "output_type": "stream",
     "text": [
      "Yo sé tu numero favorito, es: 18\n"
     ]
    }
   ],
   "execution_count": 108
  }
 ],
 "metadata": {
  "kernelspec": {
   "display_name": "Python 3",
   "language": "python",
   "name": "python3"
  },
  "language_info": {
   "codemirror_mode": {
    "name": "ipython",
    "version": 2
   },
   "file_extension": ".py",
   "mimetype": "text/x-python",
   "name": "python",
   "nbconvert_exporter": "python",
   "pygments_lexer": "ipython2",
   "version": "2.7.6"
  }
 },
 "nbformat": 4,
 "nbformat_minor": 5
}
